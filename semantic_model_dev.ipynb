{
 "cells": [
  {
   "cell_type": "markdown",
   "id": "75ec2243-b9de-4bc8-8758-700213e95901",
   "metadata": {},
   "source": [
    "## Semantic Model Development Project\n",
    "#### Last Edit: 6/18/25 by Aneesh Naresh\n",
    "##### The goal of this project is to develop a semantic similarity model capable of identifying the five most similar predecessor SKUs corresponding to a successor SKU. The project is implemented in the phases listed below:\n",
    "\n",
    "1. Environment Setup\n",
    "2. Data Inspection and String-Level Cleanup\n",
    "3. Embedding Step\n",
    "4. Vector Store Choices\n",
    "5. Retrieval Logic\n",
    "6. Evaluation Loop\n",
    "7. Packaging and Serving\n",
    "8. Extensions"
   ]
  },
  {
   "cell_type": "markdown",
   "id": "a30d8d10-73ad-4c0b-a3e0-612a6e81566a",
   "metadata": {},
   "source": [
    "#### Phase 2: Data Inspection and String-Level Cleanup (BASIC)"
   ]
  },
  {
   "cell_type": "code",
   "execution_count": 118,
   "id": "192c3ff2-21e7-46e6-9cd7-4c8e034ae626",
   "metadata": {},
   "outputs": [],
   "source": [
    "import pandas as pd\n",
    "import numpy as np\n",
    "import torch\n",
    "import sklearn\n",
    "import tqdm\n",
    "from sentence_transformers import SentenceTransformer, CrossEncoder\n",
    "from normality import normalize"
   ]
  },
  {
   "cell_type": "code",
   "execution_count": 27,
   "id": "1d0c75f8-ad77-4955-b43f-74105cd8cc91",
   "metadata": {},
   "outputs": [],
   "source": [
    "sku = pd.read_csv(\"data/npl_test_data_for_sentence_semantic_analysis.csv\")"
   ]
  },
  {
   "cell_type": "code",
   "execution_count": 28,
   "id": "f4870c97-2355-4a6a-8abe-a1626184461f",
   "metadata": {},
   "outputs": [
    {
     "data": {
      "text/html": [
       "<div>\n",
       "<style scoped>\n",
       "    .dataframe tbody tr th:only-of-type {\n",
       "        vertical-align: middle;\n",
       "    }\n",
       "\n",
       "    .dataframe tbody tr th {\n",
       "        vertical-align: top;\n",
       "    }\n",
       "\n",
       "    .dataframe thead th {\n",
       "        text-align: right;\n",
       "    }\n",
       "</style>\n",
       "<table border=\"1\" class=\"dataframe\">\n",
       "  <thead>\n",
       "    <tr style=\"text-align: right;\">\n",
       "      <th></th>\n",
       "      <th>SUCCESSOR_SKU</th>\n",
       "      <th>SUCCESSOR_SKU_DESC</th>\n",
       "      <th>POTENTIAL_PREDECESSOR_SKU</th>\n",
       "      <th>POTENTIAL_PREDECESSOR_SKU_DESC</th>\n",
       "    </tr>\n",
       "  </thead>\n",
       "  <tbody>\n",
       "    <tr>\n",
       "      <th>0</th>\n",
       "      <td>PH7GCC</td>\n",
       "      <td>DW SIP MAKEUP 30ML - 2N2 BUFF</td>\n",
       "      <td>TE1633</td>\n",
       "      <td>ARCHITECT SOFT MATTE 30ML - 16.5C MOCHA</td>\n",
       "    </tr>\n",
       "    <tr>\n",
       "      <th>1</th>\n",
       "      <td>PH7GCC</td>\n",
       "      <td>DW SIP MAKEUP 30ML - 2N2 BUFF</td>\n",
       "      <td>KNXW02</td>\n",
       "      <td>EB CL SPF 25 30ML - CN 20 Fair (VF)</td>\n",
       "    </tr>\n",
       "    <tr>\n",
       "      <th>2</th>\n",
       "      <td>PH7GCC</td>\n",
       "      <td>DW SIP MAKEUP 30ML - 2N2 BUFF</td>\n",
       "      <td>CUMM04</td>\n",
       "      <td>AO SKIN-BALNCNG FNDTN 10ML - L10-N</td>\n",
       "    </tr>\n",
       "    <tr>\n",
       "      <th>3</th>\n",
       "      <td>PH7GCC</td>\n",
       "      <td>DW SIP MAKEUP 30ML - 2N2 BUFF</td>\n",
       "      <td>PH7F77</td>\n",
       "      <td>DW SIP MAKEUP SPF10 30ML - 2C1 PURE BEIG</td>\n",
       "    </tr>\n",
       "    <tr>\n",
       "      <th>4</th>\n",
       "      <td>PH7GCC</td>\n",
       "      <td>DW SIP MAKEUP 30ML - 2N2 BUFF</td>\n",
       "      <td>H04Y05</td>\n",
       "      <td>GS SHEER COLOR MU 30ML - LEVEL 3 WARM</td>\n",
       "    </tr>\n",
       "  </tbody>\n",
       "</table>\n",
       "</div>"
      ],
      "text/plain": [
       "  SUCCESSOR_SKU             SUCCESSOR_SKU_DESC POTENTIAL_PREDECESSOR_SKU  \\\n",
       "0        PH7GCC  DW SIP MAKEUP 30ML - 2N2 BUFF                    TE1633   \n",
       "1        PH7GCC  DW SIP MAKEUP 30ML - 2N2 BUFF                    KNXW02   \n",
       "2        PH7GCC  DW SIP MAKEUP 30ML - 2N2 BUFF                    CUMM04   \n",
       "3        PH7GCC  DW SIP MAKEUP 30ML - 2N2 BUFF                    PH7F77   \n",
       "4        PH7GCC  DW SIP MAKEUP 30ML - 2N2 BUFF                    H04Y05   \n",
       "\n",
       "             POTENTIAL_PREDECESSOR_SKU_DESC  \n",
       "0   ARCHITECT SOFT MATTE 30ML - 16.5C MOCHA  \n",
       "1       EB CL SPF 25 30ML - CN 20 Fair (VF)  \n",
       "2        AO SKIN-BALNCNG FNDTN 10ML - L10-N  \n",
       "3  DW SIP MAKEUP SPF10 30ML - 2C1 PURE BEIG  \n",
       "4     GS SHEER COLOR MU 30ML - LEVEL 3 WARM  "
      ]
     },
     "execution_count": 28,
     "metadata": {},
     "output_type": "execute_result"
    }
   ],
   "source": [
    "sku.head()"
   ]
  },
  {
   "cell_type": "code",
   "execution_count": 36,
   "id": "5d658139-2247-473c-abf1-7ef5e7803d9e",
   "metadata": {},
   "outputs": [],
   "source": [
    "def normalizeText(text: object):\n",
    "    return normalize(text)"
   ]
  },
  {
   "cell_type": "code",
   "execution_count": 30,
   "id": "841b7c46-b356-48b3-813e-d2e057174b6f",
   "metadata": {},
   "outputs": [],
   "source": [
    "devDataframe = sku.copy()"
   ]
  },
  {
   "cell_type": "code",
   "execution_count": 31,
   "id": "d4a3fc7e-cb95-41ef-8de2-8a29f5b5a90b",
   "metadata": {},
   "outputs": [
    {
     "data": {
      "text/html": [
       "<div>\n",
       "<style scoped>\n",
       "    .dataframe tbody tr th:only-of-type {\n",
       "        vertical-align: middle;\n",
       "    }\n",
       "\n",
       "    .dataframe tbody tr th {\n",
       "        vertical-align: top;\n",
       "    }\n",
       "\n",
       "    .dataframe thead th {\n",
       "        text-align: right;\n",
       "    }\n",
       "</style>\n",
       "<table border=\"1\" class=\"dataframe\">\n",
       "  <thead>\n",
       "    <tr style=\"text-align: right;\">\n",
       "      <th></th>\n",
       "      <th>SUCCESSOR_SKU</th>\n",
       "      <th>SUCCESSOR_SKU_DESC</th>\n",
       "      <th>POTENTIAL_PREDECESSOR_SKU</th>\n",
       "      <th>POTENTIAL_PREDECESSOR_SKU_DESC</th>\n",
       "    </tr>\n",
       "  </thead>\n",
       "  <tbody>\n",
       "    <tr>\n",
       "      <th>0</th>\n",
       "      <td>PH7GCC</td>\n",
       "      <td>DW SIP MAKEUP 30ML - 2N2 BUFF</td>\n",
       "      <td>TE1633</td>\n",
       "      <td>ARCHITECT SOFT MATTE 30ML - 16.5C MOCHA</td>\n",
       "    </tr>\n",
       "    <tr>\n",
       "      <th>1</th>\n",
       "      <td>PH7GCC</td>\n",
       "      <td>DW SIP MAKEUP 30ML - 2N2 BUFF</td>\n",
       "      <td>KNXW02</td>\n",
       "      <td>EB CL SPF 25 30ML - CN 20 Fair (VF)</td>\n",
       "    </tr>\n",
       "    <tr>\n",
       "      <th>2</th>\n",
       "      <td>PH7GCC</td>\n",
       "      <td>DW SIP MAKEUP 30ML - 2N2 BUFF</td>\n",
       "      <td>CUMM04</td>\n",
       "      <td>AO SKIN-BALNCNG FNDTN 10ML - L10-N</td>\n",
       "    </tr>\n",
       "    <tr>\n",
       "      <th>3</th>\n",
       "      <td>PH7GCC</td>\n",
       "      <td>DW SIP MAKEUP 30ML - 2N2 BUFF</td>\n",
       "      <td>PH7F77</td>\n",
       "      <td>DW SIP MAKEUP SPF10 30ML - 2C1 PURE BEIG</td>\n",
       "    </tr>\n",
       "    <tr>\n",
       "      <th>4</th>\n",
       "      <td>PH7GCC</td>\n",
       "      <td>DW SIP MAKEUP 30ML - 2N2 BUFF</td>\n",
       "      <td>H04Y05</td>\n",
       "      <td>GS SHEER COLOR MU 30ML - LEVEL 3 WARM</td>\n",
       "    </tr>\n",
       "  </tbody>\n",
       "</table>\n",
       "</div>"
      ],
      "text/plain": [
       "  SUCCESSOR_SKU             SUCCESSOR_SKU_DESC POTENTIAL_PREDECESSOR_SKU  \\\n",
       "0        PH7GCC  DW SIP MAKEUP 30ML - 2N2 BUFF                    TE1633   \n",
       "1        PH7GCC  DW SIP MAKEUP 30ML - 2N2 BUFF                    KNXW02   \n",
       "2        PH7GCC  DW SIP MAKEUP 30ML - 2N2 BUFF                    CUMM04   \n",
       "3        PH7GCC  DW SIP MAKEUP 30ML - 2N2 BUFF                    PH7F77   \n",
       "4        PH7GCC  DW SIP MAKEUP 30ML - 2N2 BUFF                    H04Y05   \n",
       "\n",
       "             POTENTIAL_PREDECESSOR_SKU_DESC  \n",
       "0   ARCHITECT SOFT MATTE 30ML - 16.5C MOCHA  \n",
       "1       EB CL SPF 25 30ML - CN 20 Fair (VF)  \n",
       "2        AO SKIN-BALNCNG FNDTN 10ML - L10-N  \n",
       "3  DW SIP MAKEUP SPF10 30ML - 2C1 PURE BEIG  \n",
       "4     GS SHEER COLOR MU 30ML - LEVEL 3 WARM  "
      ]
     },
     "execution_count": 31,
     "metadata": {},
     "output_type": "execute_result"
    }
   ],
   "source": [
    "devDataframe.head()"
   ]
  },
  {
   "cell_type": "code",
   "execution_count": 42,
   "id": "38f41a5c-7ddf-44b9-8334-0313fc07c58b",
   "metadata": {},
   "outputs": [
    {
     "data": {
      "text/plain": [
       "0        ph7gcc\n",
       "1        ph7gcc\n",
       "2        ph7gcc\n",
       "3        ph7gcc\n",
       "4        ph7gcc\n",
       "          ...  \n",
       "76825    ph7g38\n",
       "76826    ph7g38\n",
       "76827    ph7g38\n",
       "76828    ph7g38\n",
       "76829    ph7g38\n",
       "Name: SUCCESSOR_SKU, Length: 76830, dtype: object"
      ]
     },
     "execution_count": 42,
     "metadata": {},
     "output_type": "execute_result"
    }
   ],
   "source": [
    "devDataframe[\"SUCCESSOR_SKU\"].apply(normalizeText)"
   ]
  },
  {
   "cell_type": "code",
   "execution_count": 52,
   "id": "378548a2-ec2f-4d2a-ae4c-6060b0f6c3c5",
   "metadata": {},
   "outputs": [],
   "source": [
    "for col in devDataframe.columns: \n",
    "    devDataframe[f'{col}'] = devDataframe[f'{col}'].apply(normalizeText)"
   ]
  },
  {
   "cell_type": "code",
   "execution_count": 53,
   "id": "e34786b6-e230-464b-9218-bd0c5096658b",
   "metadata": {},
   "outputs": [
    {
     "data": {
      "text/html": [
       "<div>\n",
       "<style scoped>\n",
       "    .dataframe tbody tr th:only-of-type {\n",
       "        vertical-align: middle;\n",
       "    }\n",
       "\n",
       "    .dataframe tbody tr th {\n",
       "        vertical-align: top;\n",
       "    }\n",
       "\n",
       "    .dataframe thead th {\n",
       "        text-align: right;\n",
       "    }\n",
       "</style>\n",
       "<table border=\"1\" class=\"dataframe\">\n",
       "  <thead>\n",
       "    <tr style=\"text-align: right;\">\n",
       "      <th></th>\n",
       "      <th>SUCCESSOR_SKU</th>\n",
       "      <th>SUCCESSOR_SKU_DESC</th>\n",
       "      <th>POTENTIAL_PREDECESSOR_SKU</th>\n",
       "      <th>POTENTIAL_PREDECESSOR_SKU_DESC</th>\n",
       "    </tr>\n",
       "  </thead>\n",
       "  <tbody>\n",
       "    <tr>\n",
       "      <th>0</th>\n",
       "      <td>ph7gcc</td>\n",
       "      <td>dw sip makeup 30ml 2n2 buff</td>\n",
       "      <td>te1633</td>\n",
       "      <td>architect soft matte 30ml 16 5c mocha</td>\n",
       "    </tr>\n",
       "    <tr>\n",
       "      <th>1</th>\n",
       "      <td>ph7gcc</td>\n",
       "      <td>dw sip makeup 30ml 2n2 buff</td>\n",
       "      <td>knxw02</td>\n",
       "      <td>eb cl spf 25 30ml cn 20 fair vf</td>\n",
       "    </tr>\n",
       "    <tr>\n",
       "      <th>2</th>\n",
       "      <td>ph7gcc</td>\n",
       "      <td>dw sip makeup 30ml 2n2 buff</td>\n",
       "      <td>cumm04</td>\n",
       "      <td>ao skin balncng fndtn 10ml l10 n</td>\n",
       "    </tr>\n",
       "    <tr>\n",
       "      <th>3</th>\n",
       "      <td>ph7gcc</td>\n",
       "      <td>dw sip makeup 30ml 2n2 buff</td>\n",
       "      <td>ph7f77</td>\n",
       "      <td>dw sip makeup spf10 30ml 2c1 pure beig</td>\n",
       "    </tr>\n",
       "    <tr>\n",
       "      <th>4</th>\n",
       "      <td>ph7gcc</td>\n",
       "      <td>dw sip makeup 30ml 2n2 buff</td>\n",
       "      <td>h04y05</td>\n",
       "      <td>gs sheer color mu 30ml level 3 warm</td>\n",
       "    </tr>\n",
       "  </tbody>\n",
       "</table>\n",
       "</div>"
      ],
      "text/plain": [
       "  SUCCESSOR_SKU           SUCCESSOR_SKU_DESC POTENTIAL_PREDECESSOR_SKU  \\\n",
       "0        ph7gcc  dw sip makeup 30ml 2n2 buff                    te1633   \n",
       "1        ph7gcc  dw sip makeup 30ml 2n2 buff                    knxw02   \n",
       "2        ph7gcc  dw sip makeup 30ml 2n2 buff                    cumm04   \n",
       "3        ph7gcc  dw sip makeup 30ml 2n2 buff                    ph7f77   \n",
       "4        ph7gcc  dw sip makeup 30ml 2n2 buff                    h04y05   \n",
       "\n",
       "           POTENTIAL_PREDECESSOR_SKU_DESC  \n",
       "0   architect soft matte 30ml 16 5c mocha  \n",
       "1         eb cl spf 25 30ml cn 20 fair vf  \n",
       "2        ao skin balncng fndtn 10ml l10 n  \n",
       "3  dw sip makeup spf10 30ml 2c1 pure beig  \n",
       "4     gs sheer color mu 30ml level 3 warm  "
      ]
     },
     "execution_count": 53,
     "metadata": {},
     "output_type": "execute_result"
    }
   ],
   "source": [
    "devDataframe.head()"
   ]
  },
  {
   "cell_type": "markdown",
   "id": "d8a6de8e-cccf-4432-ba56-ea6fe5adbf23",
   "metadata": {},
   "source": [
    "#### Phase 3: Embedding Step (BASIC)"
   ]
  },
  {
   "cell_type": "code",
   "execution_count": 74,
   "id": "ae1d0106-14ac-4276-a172-c06a21d0a05a",
   "metadata": {},
   "outputs": [],
   "source": [
    "modelST = SentenceTransformer(\"all-MiniLM-L6-v2\")"
   ]
  },
  {
   "cell_type": "code",
   "execution_count": 75,
   "id": "82292ddd-266c-4f8c-84c8-8878f85ae32b",
   "metadata": {},
   "outputs": [],
   "source": [
    "uniqueSuccessors = pd.unique(devDataframe[\"SUCCESSOR_SKU_DESC\"])"
   ]
  },
  {
   "cell_type": "code",
   "execution_count": 76,
   "id": "e6f3a274-976c-4030-b6b8-5fe950dcb263",
   "metadata": {},
   "outputs": [],
   "source": [
    "uniquePredecessorDesc = pd.unique(devDataframe[\"POTENTIAL_PREDECESSOR_SKU_DESC\"])"
   ]
  },
  {
   "cell_type": "code",
   "execution_count": 77,
   "id": "3cfd5f20-af76-4d0e-8f7b-6fce6c39481d",
   "metadata": {},
   "outputs": [],
   "source": [
    "uniquePredecessors = pd.unique(devDataframe[\"POTENTIAL_PREDECESSOR_SKU\"])"
   ]
  },
  {
   "cell_type": "code",
   "execution_count": 78,
   "id": "6f673643-9c1e-4420-ae76-0498894b0bda",
   "metadata": {},
   "outputs": [],
   "source": [
    "successorEmbeddings = model.encode(uniqueSuccessors)"
   ]
  },
  {
   "cell_type": "code",
   "execution_count": 79,
   "id": "d1e7f929-116b-4b92-93c1-1c8388e48295",
   "metadata": {},
   "outputs": [
    {
     "data": {
      "text/plain": [
       "(10, 384)"
      ]
     },
     "execution_count": 79,
     "metadata": {},
     "output_type": "execute_result"
    }
   ],
   "source": [
    "successorEmbeddings.shape"
   ]
  },
  {
   "cell_type": "code",
   "execution_count": 80,
   "id": "2b27cd95-79db-45ce-a66a-a229f3843732",
   "metadata": {},
   "outputs": [],
   "source": [
    "predecessorDescEmbeddings = model.encode(uniquePredecessorDesc)"
   ]
  },
  {
   "cell_type": "code",
   "execution_count": 81,
   "id": "b10f2439-505b-4f4f-a0df-9bb5898ba576",
   "metadata": {},
   "outputs": [
    {
     "data": {
      "text/plain": [
       "(7337, 384)"
      ]
     },
     "execution_count": 81,
     "metadata": {},
     "output_type": "execute_result"
    }
   ],
   "source": [
    "predecessorDescEmbeddings.shape"
   ]
  },
  {
   "cell_type": "markdown",
   "id": "2c36fef3-c52d-4e0a-a46a-17a4d8a03825",
   "metadata": {},
   "source": [
    "#### Phase 5: Retrieval Logic (BASIC)"
   ]
  },
  {
   "cell_type": "code",
   "execution_count": 82,
   "id": "98a8d535-63a1-4cc2-ae5b-509db185495a",
   "metadata": {},
   "outputs": [
    {
     "data": {
      "application/vnd.jupyter.widget-view+json": {
       "model_id": "678512ed96684c2aabe79cc3f52d67fe",
       "version_major": 2,
       "version_minor": 0
      },
      "text/plain": [
       "config.json:   0%|          | 0.00/607 [00:00<?, ?B/s]"
      ]
     },
     "metadata": {},
     "output_type": "display_data"
    },
    {
     "data": {
      "application/vnd.jupyter.widget-view+json": {
       "model_id": "9427c3268564457fa78f807d76008dbe",
       "version_major": 2,
       "version_minor": 0
      },
      "text/plain": [
       "model.safetensors:   0%|          | 0.00/328M [00:00<?, ?B/s]"
      ]
     },
     "metadata": {},
     "output_type": "display_data"
    },
    {
     "data": {
      "application/vnd.jupyter.widget-view+json": {
       "model_id": "97acdb5c7f124c17b21c77e25674ccab",
       "version_major": 2,
       "version_minor": 0
      },
      "text/plain": [
       "tokenizer_config.json:   0%|          | 0.00/1.33k [00:00<?, ?B/s]"
      ]
     },
     "metadata": {},
     "output_type": "display_data"
    },
    {
     "data": {
      "application/vnd.jupyter.widget-view+json": {
       "model_id": "358a6c5d49b34f9590ec4530691d98d0",
       "version_major": 2,
       "version_minor": 0
      },
      "text/plain": [
       "vocab.json:   0%|          | 0.00/798k [00:00<?, ?B/s]"
      ]
     },
     "metadata": {},
     "output_type": "display_data"
    },
    {
     "data": {
      "application/vnd.jupyter.widget-view+json": {
       "model_id": "aa7539e05c10428d91391e62e507330d",
       "version_major": 2,
       "version_minor": 0
      },
      "text/plain": [
       "merges.txt:   0%|          | 0.00/456k [00:00<?, ?B/s]"
      ]
     },
     "metadata": {},
     "output_type": "display_data"
    },
    {
     "data": {
      "application/vnd.jupyter.widget-view+json": {
       "model_id": "75742fb88b544464b21baf2ac0643f5b",
       "version_major": 2,
       "version_minor": 0
      },
      "text/plain": [
       "tokenizer.json:   0%|          | 0.00/3.56M [00:00<?, ?B/s]"
      ]
     },
     "metadata": {},
     "output_type": "display_data"
    },
    {
     "data": {
      "application/vnd.jupyter.widget-view+json": {
       "model_id": "da04eabc1bcd4b58b54bf84e043d58a2",
       "version_major": 2,
       "version_minor": 0
      },
      "text/plain": [
       "special_tokens_map.json:   0%|          | 0.00/1.01k [00:00<?, ?B/s]"
      ]
     },
     "metadata": {},
     "output_type": "display_data"
    },
    {
     "data": {
      "application/vnd.jupyter.widget-view+json": {
       "model_id": "625cb4da0df245b199aba771dce9f261",
       "version_major": 2,
       "version_minor": 0
      },
      "text/plain": [
       "README.md:   0%|          | 0.00/1.15k [00:00<?, ?B/s]"
      ]
     },
     "metadata": {},
     "output_type": "display_data"
    }
   ],
   "source": [
    "modelCE = CrossEncoder(\"cross-encoder/stsb-distilroberta-base\")"
   ]
  },
  {
   "cell_type": "code",
   "execution_count": 116,
   "id": "68aad8a2-51a2-4837-b4f3-f93b41ac5ed1",
   "metadata": {},
   "outputs": [],
   "source": [
    "similarities = modelST.similarity(successorEmbeddings, predecessorDescEmbeddings)"
   ]
  },
  {
   "cell_type": "code",
   "execution_count": 117,
   "id": "244c5e8e-2384-467d-95b4-082b4062711b",
   "metadata": {},
   "outputs": [
    {
     "data": {
      "text/plain": [
       "torch.Size([10, 7337])"
      ]
     },
     "execution_count": 117,
     "metadata": {},
     "output_type": "execute_result"
    }
   ],
   "source": [
    "# Each row corresponds to a successor SKU description, each column corresponds to a predecessor SKU description\n",
    "similarities.shape"
   ]
  },
  {
   "cell_type": "code",
   "execution_count": 113,
   "id": "69a53727-7d73-4bda-bcb5-01d3db113ae4",
   "metadata": {},
   "outputs": [
    {
     "data": {
      "text/plain": [
       "torch.Size([10, 7337])"
      ]
     },
     "execution_count": 113,
     "metadata": {},
     "output_type": "execute_result"
    }
   ],
   "source": [
    "similarities50.shape"
   ]
  },
  {
   "cell_type": "code",
   "execution_count": 122,
   "id": "b6b2abf4-373d-413f-bbae-15d02ffd2fde",
   "metadata": {},
   "outputs": [
    {
     "data": {
      "text/plain": [
       "torch.Tensor"
      ]
     },
     "execution_count": 122,
     "metadata": {},
     "output_type": "execute_result"
    }
   ],
   "source": [
    "top_sim, top_idx = similarities.topk(k=50, dim=1)\n",
    "type(top_idx)"
   ]
  },
  {
   "cell_type": "code",
   "execution_count": 123,
   "id": "52e1e5b4-222f-4402-8411-bde9545fb79c",
   "metadata": {},
   "outputs": [
    {
     "data": {
      "text/plain": [
       "torch.Size([10, 50])"
      ]
     },
     "execution_count": 123,
     "metadata": {},
     "output_type": "execute_result"
    }
   ],
   "source": [
    "top_idx.shape"
   ]
  },
  {
   "cell_type": "code",
   "execution_count": 136,
   "id": "0f2eaba2-c21e-4fb1-a957-48647c15b887",
   "metadata": {},
   "outputs": [
    {
     "name": "stdout",
     "output_type": "stream",
     "text": [
      "Successor SKU:  dw sip makeup 30ml 2n2 buff\n",
      "0.99\tdw sip makeup 30ml 2n2 buff\n",
      "0.83\tdw sip makeup 30ml 1n2 ecru\n",
      "0.83\tdw sip makeup 30ml 1c2 petal\n",
      "0.80\tdw sip makeup 30ml 2c3 fresco\n",
      "0.78\tdw sip makeup spf10 30ml 2n2 buff\n",
      "Successor SKU:  dw sip makeup 30ml 2n1 desert beige\n",
      "0.99\tdw sip makeup 30ml 2n1 desert beige\n",
      "0.91\tdw sip makeup 30ml 2c1 pure beige\n",
      "0.76\tdw sip makeup spf10 30ml 2n1 desert be\n",
      "0.76\tdw sip makeup 30ml 4c1 outdoor beige\n",
      "0.74\tdw sip makeup 30ml 4n1 shell beige\n",
      "Successor SKU:  dw sip makeup 30ml 2w1 dawn\n",
      "0.99\tdw sip makeup 30ml 2w1 dawn\n",
      "0.83\tdw sip makeup 30ml 2n2 buff\n",
      "0.81\tdw sip makeup spf10 30ml 2w1 dawn\n",
      "0.76\tdw sip makeup 30ml 1c2 petal\n",
      "0.73\tdw sip makeup 30ml 2n3 dolce\n",
      "Successor SKU:  dw sip makeup 30ml 3c2 pebble\n",
      "0.99\tdw sip makeup 30ml 3c2 pebble\n",
      "0.83\tdw sip makeup 30ml 3w2 cashew\n",
      "0.80\tdw sip makeup 30ml 2c3 fresco\n",
      "0.79\tdouble wear sip liqui 30ml 3c2 pebble\n",
      "0.76\tdw sip makeup spf10 30ml 3c2 pebble\n",
      "Successor SKU:  dw sip makeup 30ml 2c3 fresco\n",
      "0.99\tdw sip makeup 30ml 2c3 fresco\n",
      "0.85\tdw sip makeup 30ml 2n3 dolce\n",
      "0.77\tdw sip makeup spf10 30ml 2c3 fresco\n",
      "0.75\tdw sip makeup 30ml 2n2 buff\n",
      "0.74\tdw sip makeup 30ml 3c2 pebble\n",
      "Successor SKU:  dw sip makeup 30ml 2c1 pure beige\n",
      "0.99\tdw sip makeup 30ml 2c1 pure beige\n",
      "0.91\tdw sip makeup 30ml 2n1 desert beige\n",
      "0.78\tdw sip makeup 30ml 4n1 shell beige\n",
      "0.78\tdw sip makeup spf10 30ml 2c1 pure beig\n",
      "0.75\tdw sip makeup 30ml 3n1 ivory beige\n",
      "Successor SKU:  dw sip makeup 30ml 3w1 tawny\n",
      "0.99\tdw sip makeup 30ml 3w1 tawny\n",
      "0.93\tdw sip makeup 30ml 3c1 dusk\n",
      "0.83\tdw sip makeup 30ml 3w1 5 fawn\n",
      "0.79\tdw sip makeup 30ml 3w2 cashew\n",
      "0.78\tdw sip makeup spf10 30ml 3w1 tawny\n",
      "Successor SKU:  dw sip makeup 30ml 1n2 ecru\n",
      "0.99\tdw sip makeup 30ml 1n2 ecru\n",
      "0.83\tdw sip makeup 30ml 2n2 buff\n",
      "0.82\tdw sip makeup 30ml 1c2 petal\n",
      "0.78\tdw sip makeup 30ml 1c0 shell\n",
      "0.76\tdw sip makeup spf10 30ml 1n2 ecru\n",
      "Successor SKU:  dw sip makeup 30ml 3n1 ivory beige\n",
      "0.99\tdw sip makeup 30ml 3n1 ivory beige\n",
      "0.81\tdwsoftspf20 30ml 3n1 ivory beige wn\n",
      "0.79\tdw sip makeup spf10 30ml 3n1 ivory bei\n",
      "0.78\tdw sip makeup 30ml 4c1 outdoor beige\n",
      "0.77\tdw sip makeup 30ml 3w1 tawny\n",
      "Successor SKU:  dw sip makeup 30ml 3n2 wheat\n",
      "0.99\tdw sip makeup 30ml 3n2 wheat\n",
      "0.80\tdwsoftspf20 30ml 3n2 wheat wn\n",
      "0.78\tdw sip makeup spf10 30ml 3n2 wheat\n",
      "0.77\tdwsheerlongwearmspf19 30ml 3n2 wheat\n",
      "0.70\tdw sip makeup 30ml 3w2 cashew\n"
     ]
    }
   ],
   "source": [
    "for i, succ in enumerate(uniqueSuccessors):\n",
    "    cand_idx = top_idx[i]\n",
    "    cand_descs = uniquePredecessorDesc[cand_idx]\n",
    "\n",
    "    allRanks = modelCE.rank(succ, cand_descs)\n",
    "    top5Ranks = allRanks[:5]\n",
    "\n",
    "    print(\"Successor SKU: \", succ)\n",
    "    for rank in top5Ranks:\n",
    "        print(f\"{rank['score']:.2f}\\t{cand_descs[rank['corpus_id']]}\")"
   ]
  }
 ],
 "metadata": {
  "kernelspec": {
   "display_name": "Python 3 (ipykernel)",
   "language": "python",
   "name": "python3"
  },
  "language_info": {
   "codemirror_mode": {
    "name": "ipython",
    "version": 3
   },
   "file_extension": ".py",
   "mimetype": "text/x-python",
   "name": "python",
   "nbconvert_exporter": "python",
   "pygments_lexer": "ipython3",
   "version": "3.11.11"
  }
 },
 "nbformat": 4,
 "nbformat_minor": 5
}
