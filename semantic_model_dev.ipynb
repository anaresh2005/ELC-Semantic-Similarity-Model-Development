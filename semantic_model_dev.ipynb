{
 "cells": [
  {
   "cell_type": "markdown",
   "id": "75ec2243-b9de-4bc8-8758-700213e95901",
   "metadata": {},
   "source": [
    "## Semantic Model Development Project\n",
    "#### Last Edit: 6/17/25 by Aneesh Naresh\n",
    "##### The goal of this project is to develop a semantic similarity model capable of identifying the five most similar predecessor SKUs corresponding to a successor SKU. The project is implemented in the phases listed below:\n",
    "\n",
    "1. Environment Setup\n",
    "2. Data Inspection and String-Level Cleanup\n",
    "3. Embedding Step\n",
    "4. Vector Store Choices\n",
    "5. Retrieval Logic\n",
    "6. Evaluation Loop\n",
    "7. Packaging and Serving\n",
    "8. Extensions"
   ]
  },
  {
   "cell_type": "markdown",
   "id": "a30d8d10-73ad-4c0b-a3e0-612a6e81566a",
   "metadata": {},
   "source": [
    "#### Phase 2: Data Inspection and String-Level Cleanup (BASIC)"
   ]
  },
  {
   "cell_type": "code",
   "execution_count": 41,
   "id": "192c3ff2-21e7-46e6-9cd7-4c8e034ae626",
   "metadata": {},
   "outputs": [],
   "source": [
    "import pandas as pd\n",
    "import numpy as np\n",
    "import sklearn\n",
    "import tqdm\n",
    "from sentence_transformers import SentenceTransformer, CrossEncoder\n",
    "from normality import normalize"
   ]
  },
  {
   "cell_type": "code",
   "execution_count": 27,
   "id": "1d0c75f8-ad77-4955-b43f-74105cd8cc91",
   "metadata": {},
   "outputs": [],
   "source": [
    "sku = pd.read_csv(\"data/npl_test_data_for_sentence_semantic_analysis.csv\")"
   ]
  },
  {
   "cell_type": "code",
   "execution_count": 28,
   "id": "f4870c97-2355-4a6a-8abe-a1626184461f",
   "metadata": {},
   "outputs": [
    {
     "data": {
      "text/html": [
       "<div>\n",
       "<style scoped>\n",
       "    .dataframe tbody tr th:only-of-type {\n",
       "        vertical-align: middle;\n",
       "    }\n",
       "\n",
       "    .dataframe tbody tr th {\n",
       "        vertical-align: top;\n",
       "    }\n",
       "\n",
       "    .dataframe thead th {\n",
       "        text-align: right;\n",
       "    }\n",
       "</style>\n",
       "<table border=\"1\" class=\"dataframe\">\n",
       "  <thead>\n",
       "    <tr style=\"text-align: right;\">\n",
       "      <th></th>\n",
       "      <th>SUCCESSOR_SKU</th>\n",
       "      <th>SUCCESSOR_SKU_DESC</th>\n",
       "      <th>POTENTIAL_PREDECESSOR_SKU</th>\n",
       "      <th>POTENTIAL_PREDECESSOR_SKU_DESC</th>\n",
       "    </tr>\n",
       "  </thead>\n",
       "  <tbody>\n",
       "    <tr>\n",
       "      <th>0</th>\n",
       "      <td>PH7GCC</td>\n",
       "      <td>DW SIP MAKEUP 30ML - 2N2 BUFF</td>\n",
       "      <td>TE1633</td>\n",
       "      <td>ARCHITECT SOFT MATTE 30ML - 16.5C MOCHA</td>\n",
       "    </tr>\n",
       "    <tr>\n",
       "      <th>1</th>\n",
       "      <td>PH7GCC</td>\n",
       "      <td>DW SIP MAKEUP 30ML - 2N2 BUFF</td>\n",
       "      <td>KNXW02</td>\n",
       "      <td>EB CL SPF 25 30ML - CN 20 Fair (VF)</td>\n",
       "    </tr>\n",
       "    <tr>\n",
       "      <th>2</th>\n",
       "      <td>PH7GCC</td>\n",
       "      <td>DW SIP MAKEUP 30ML - 2N2 BUFF</td>\n",
       "      <td>CUMM04</td>\n",
       "      <td>AO SKIN-BALNCNG FNDTN 10ML - L10-N</td>\n",
       "    </tr>\n",
       "    <tr>\n",
       "      <th>3</th>\n",
       "      <td>PH7GCC</td>\n",
       "      <td>DW SIP MAKEUP 30ML - 2N2 BUFF</td>\n",
       "      <td>PH7F77</td>\n",
       "      <td>DW SIP MAKEUP SPF10 30ML - 2C1 PURE BEIG</td>\n",
       "    </tr>\n",
       "    <tr>\n",
       "      <th>4</th>\n",
       "      <td>PH7GCC</td>\n",
       "      <td>DW SIP MAKEUP 30ML - 2N2 BUFF</td>\n",
       "      <td>H04Y05</td>\n",
       "      <td>GS SHEER COLOR MU 30ML - LEVEL 3 WARM</td>\n",
       "    </tr>\n",
       "  </tbody>\n",
       "</table>\n",
       "</div>"
      ],
      "text/plain": [
       "  SUCCESSOR_SKU             SUCCESSOR_SKU_DESC POTENTIAL_PREDECESSOR_SKU  \\\n",
       "0        PH7GCC  DW SIP MAKEUP 30ML - 2N2 BUFF                    TE1633   \n",
       "1        PH7GCC  DW SIP MAKEUP 30ML - 2N2 BUFF                    KNXW02   \n",
       "2        PH7GCC  DW SIP MAKEUP 30ML - 2N2 BUFF                    CUMM04   \n",
       "3        PH7GCC  DW SIP MAKEUP 30ML - 2N2 BUFF                    PH7F77   \n",
       "4        PH7GCC  DW SIP MAKEUP 30ML - 2N2 BUFF                    H04Y05   \n",
       "\n",
       "             POTENTIAL_PREDECESSOR_SKU_DESC  \n",
       "0   ARCHITECT SOFT MATTE 30ML - 16.5C MOCHA  \n",
       "1       EB CL SPF 25 30ML - CN 20 Fair (VF)  \n",
       "2        AO SKIN-BALNCNG FNDTN 10ML - L10-N  \n",
       "3  DW SIP MAKEUP SPF10 30ML - 2C1 PURE BEIG  \n",
       "4     GS SHEER COLOR MU 30ML - LEVEL 3 WARM  "
      ]
     },
     "execution_count": 28,
     "metadata": {},
     "output_type": "execute_result"
    }
   ],
   "source": [
    "sku.head()"
   ]
  },
  {
   "cell_type": "code",
   "execution_count": 36,
   "id": "5d658139-2247-473c-abf1-7ef5e7803d9e",
   "metadata": {},
   "outputs": [],
   "source": [
    "def normalizeText(text: object):\n",
    "    return normalize(text)"
   ]
  },
  {
   "cell_type": "code",
   "execution_count": 30,
   "id": "841b7c46-b356-48b3-813e-d2e057174b6f",
   "metadata": {},
   "outputs": [],
   "source": [
    "devDataframe = sku.copy()"
   ]
  },
  {
   "cell_type": "code",
   "execution_count": 31,
   "id": "d4a3fc7e-cb95-41ef-8de2-8a29f5b5a90b",
   "metadata": {},
   "outputs": [
    {
     "data": {
      "text/html": [
       "<div>\n",
       "<style scoped>\n",
       "    .dataframe tbody tr th:only-of-type {\n",
       "        vertical-align: middle;\n",
       "    }\n",
       "\n",
       "    .dataframe tbody tr th {\n",
       "        vertical-align: top;\n",
       "    }\n",
       "\n",
       "    .dataframe thead th {\n",
       "        text-align: right;\n",
       "    }\n",
       "</style>\n",
       "<table border=\"1\" class=\"dataframe\">\n",
       "  <thead>\n",
       "    <tr style=\"text-align: right;\">\n",
       "      <th></th>\n",
       "      <th>SUCCESSOR_SKU</th>\n",
       "      <th>SUCCESSOR_SKU_DESC</th>\n",
       "      <th>POTENTIAL_PREDECESSOR_SKU</th>\n",
       "      <th>POTENTIAL_PREDECESSOR_SKU_DESC</th>\n",
       "    </tr>\n",
       "  </thead>\n",
       "  <tbody>\n",
       "    <tr>\n",
       "      <th>0</th>\n",
       "      <td>PH7GCC</td>\n",
       "      <td>DW SIP MAKEUP 30ML - 2N2 BUFF</td>\n",
       "      <td>TE1633</td>\n",
       "      <td>ARCHITECT SOFT MATTE 30ML - 16.5C MOCHA</td>\n",
       "    </tr>\n",
       "    <tr>\n",
       "      <th>1</th>\n",
       "      <td>PH7GCC</td>\n",
       "      <td>DW SIP MAKEUP 30ML - 2N2 BUFF</td>\n",
       "      <td>KNXW02</td>\n",
       "      <td>EB CL SPF 25 30ML - CN 20 Fair (VF)</td>\n",
       "    </tr>\n",
       "    <tr>\n",
       "      <th>2</th>\n",
       "      <td>PH7GCC</td>\n",
       "      <td>DW SIP MAKEUP 30ML - 2N2 BUFF</td>\n",
       "      <td>CUMM04</td>\n",
       "      <td>AO SKIN-BALNCNG FNDTN 10ML - L10-N</td>\n",
       "    </tr>\n",
       "    <tr>\n",
       "      <th>3</th>\n",
       "      <td>PH7GCC</td>\n",
       "      <td>DW SIP MAKEUP 30ML - 2N2 BUFF</td>\n",
       "      <td>PH7F77</td>\n",
       "      <td>DW SIP MAKEUP SPF10 30ML - 2C1 PURE BEIG</td>\n",
       "    </tr>\n",
       "    <tr>\n",
       "      <th>4</th>\n",
       "      <td>PH7GCC</td>\n",
       "      <td>DW SIP MAKEUP 30ML - 2N2 BUFF</td>\n",
       "      <td>H04Y05</td>\n",
       "      <td>GS SHEER COLOR MU 30ML - LEVEL 3 WARM</td>\n",
       "    </tr>\n",
       "  </tbody>\n",
       "</table>\n",
       "</div>"
      ],
      "text/plain": [
       "  SUCCESSOR_SKU             SUCCESSOR_SKU_DESC POTENTIAL_PREDECESSOR_SKU  \\\n",
       "0        PH7GCC  DW SIP MAKEUP 30ML - 2N2 BUFF                    TE1633   \n",
       "1        PH7GCC  DW SIP MAKEUP 30ML - 2N2 BUFF                    KNXW02   \n",
       "2        PH7GCC  DW SIP MAKEUP 30ML - 2N2 BUFF                    CUMM04   \n",
       "3        PH7GCC  DW SIP MAKEUP 30ML - 2N2 BUFF                    PH7F77   \n",
       "4        PH7GCC  DW SIP MAKEUP 30ML - 2N2 BUFF                    H04Y05   \n",
       "\n",
       "             POTENTIAL_PREDECESSOR_SKU_DESC  \n",
       "0   ARCHITECT SOFT MATTE 30ML - 16.5C MOCHA  \n",
       "1       EB CL SPF 25 30ML - CN 20 Fair (VF)  \n",
       "2        AO SKIN-BALNCNG FNDTN 10ML - L10-N  \n",
       "3  DW SIP MAKEUP SPF10 30ML - 2C1 PURE BEIG  \n",
       "4     GS SHEER COLOR MU 30ML - LEVEL 3 WARM  "
      ]
     },
     "execution_count": 31,
     "metadata": {},
     "output_type": "execute_result"
    }
   ],
   "source": [
    "devDataframe.head()"
   ]
  },
  {
   "cell_type": "code",
   "execution_count": 42,
   "id": "38f41a5c-7ddf-44b9-8334-0313fc07c58b",
   "metadata": {},
   "outputs": [
    {
     "data": {
      "text/plain": [
       "0        ph7gcc\n",
       "1        ph7gcc\n",
       "2        ph7gcc\n",
       "3        ph7gcc\n",
       "4        ph7gcc\n",
       "          ...  \n",
       "76825    ph7g38\n",
       "76826    ph7g38\n",
       "76827    ph7g38\n",
       "76828    ph7g38\n",
       "76829    ph7g38\n",
       "Name: SUCCESSOR_SKU, Length: 76830, dtype: object"
      ]
     },
     "execution_count": 42,
     "metadata": {},
     "output_type": "execute_result"
    }
   ],
   "source": [
    "devDataframe[\"SUCCESSOR_SKU\"].apply(normalizeText)"
   ]
  },
  {
   "cell_type": "code",
   "execution_count": 52,
   "id": "378548a2-ec2f-4d2a-ae4c-6060b0f6c3c5",
   "metadata": {},
   "outputs": [],
   "source": [
    "for col in devDataframe.columns: \n",
    "    devDataframe[f'{col}'] = devDataframe[f'{col}'].apply(normalizeText)"
   ]
  },
  {
   "cell_type": "code",
   "execution_count": 53,
   "id": "e34786b6-e230-464b-9218-bd0c5096658b",
   "metadata": {},
   "outputs": [
    {
     "data": {
      "text/html": [
       "<div>\n",
       "<style scoped>\n",
       "    .dataframe tbody tr th:only-of-type {\n",
       "        vertical-align: middle;\n",
       "    }\n",
       "\n",
       "    .dataframe tbody tr th {\n",
       "        vertical-align: top;\n",
       "    }\n",
       "\n",
       "    .dataframe thead th {\n",
       "        text-align: right;\n",
       "    }\n",
       "</style>\n",
       "<table border=\"1\" class=\"dataframe\">\n",
       "  <thead>\n",
       "    <tr style=\"text-align: right;\">\n",
       "      <th></th>\n",
       "      <th>SUCCESSOR_SKU</th>\n",
       "      <th>SUCCESSOR_SKU_DESC</th>\n",
       "      <th>POTENTIAL_PREDECESSOR_SKU</th>\n",
       "      <th>POTENTIAL_PREDECESSOR_SKU_DESC</th>\n",
       "    </tr>\n",
       "  </thead>\n",
       "  <tbody>\n",
       "    <tr>\n",
       "      <th>0</th>\n",
       "      <td>ph7gcc</td>\n",
       "      <td>dw sip makeup 30ml 2n2 buff</td>\n",
       "      <td>te1633</td>\n",
       "      <td>architect soft matte 30ml 16 5c mocha</td>\n",
       "    </tr>\n",
       "    <tr>\n",
       "      <th>1</th>\n",
       "      <td>ph7gcc</td>\n",
       "      <td>dw sip makeup 30ml 2n2 buff</td>\n",
       "      <td>knxw02</td>\n",
       "      <td>eb cl spf 25 30ml cn 20 fair vf</td>\n",
       "    </tr>\n",
       "    <tr>\n",
       "      <th>2</th>\n",
       "      <td>ph7gcc</td>\n",
       "      <td>dw sip makeup 30ml 2n2 buff</td>\n",
       "      <td>cumm04</td>\n",
       "      <td>ao skin balncng fndtn 10ml l10 n</td>\n",
       "    </tr>\n",
       "    <tr>\n",
       "      <th>3</th>\n",
       "      <td>ph7gcc</td>\n",
       "      <td>dw sip makeup 30ml 2n2 buff</td>\n",
       "      <td>ph7f77</td>\n",
       "      <td>dw sip makeup spf10 30ml 2c1 pure beig</td>\n",
       "    </tr>\n",
       "    <tr>\n",
       "      <th>4</th>\n",
       "      <td>ph7gcc</td>\n",
       "      <td>dw sip makeup 30ml 2n2 buff</td>\n",
       "      <td>h04y05</td>\n",
       "      <td>gs sheer color mu 30ml level 3 warm</td>\n",
       "    </tr>\n",
       "  </tbody>\n",
       "</table>\n",
       "</div>"
      ],
      "text/plain": [
       "  SUCCESSOR_SKU           SUCCESSOR_SKU_DESC POTENTIAL_PREDECESSOR_SKU  \\\n",
       "0        ph7gcc  dw sip makeup 30ml 2n2 buff                    te1633   \n",
       "1        ph7gcc  dw sip makeup 30ml 2n2 buff                    knxw02   \n",
       "2        ph7gcc  dw sip makeup 30ml 2n2 buff                    cumm04   \n",
       "3        ph7gcc  dw sip makeup 30ml 2n2 buff                    ph7f77   \n",
       "4        ph7gcc  dw sip makeup 30ml 2n2 buff                    h04y05   \n",
       "\n",
       "           POTENTIAL_PREDECESSOR_SKU_DESC  \n",
       "0   architect soft matte 30ml 16 5c mocha  \n",
       "1         eb cl spf 25 30ml cn 20 fair vf  \n",
       "2        ao skin balncng fndtn 10ml l10 n  \n",
       "3  dw sip makeup spf10 30ml 2c1 pure beig  \n",
       "4     gs sheer color mu 30ml level 3 warm  "
      ]
     },
     "execution_count": 53,
     "metadata": {},
     "output_type": "execute_result"
    }
   ],
   "source": [
    "devDataframe.head()"
   ]
  },
  {
   "cell_type": "markdown",
   "id": "d8a6de8e-cccf-4432-ba56-ea6fe5adbf23",
   "metadata": {},
   "source": [
    "#### Phase 3: Embedding Step (BASIC)"
   ]
  },
  {
   "cell_type": "code",
   "execution_count": null,
   "id": "ae1d0106-14ac-4276-a172-c06a21d0a05a",
   "metadata": {},
   "outputs": [],
   "source": [
    "ta"
   ]
  }
 ],
 "metadata": {
  "kernelspec": {
   "display_name": "Python 3 (ipykernel)",
   "language": "python",
   "name": "python3"
  },
  "language_info": {
   "codemirror_mode": {
    "name": "ipython",
    "version": 3
   },
   "file_extension": ".py",
   "mimetype": "text/x-python",
   "name": "python",
   "nbconvert_exporter": "python",
   "pygments_lexer": "ipython3",
   "version": "3.11.11"
  }
 },
 "nbformat": 4,
 "nbformat_minor": 5
}
