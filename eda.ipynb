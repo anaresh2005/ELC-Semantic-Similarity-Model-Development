{
 "cells": [
  {
   "cell_type": "markdown",
   "id": "52650b8f-ca39-466c-8c48-d1b7e57f3057",
   "metadata": {},
   "source": [
    "## Semantic Model Development vs. Current Fuzzy Approach EDA\n",
    "##### Goal: Data Processing and Analysis of the Dataset"
   ]
  },
  {
   "cell_type": "code",
   "execution_count": 16,
   "id": "9f92ccd7-7e89-4d1c-b756-0e268e9c2f2a",
   "metadata": {},
   "outputs": [
    {
     "name": "stdout",
     "output_type": "stream",
     "text": [
      "The autoreload extension is already loaded. To reload it, use:\n",
      "  %reload_ext autoreload\n"
     ]
    }
   ],
   "source": [
    "%load_ext autoreload\n",
    "%autoreload 2"
   ]
  },
  {
   "cell_type": "code",
   "execution_count": 17,
   "id": "b20a6749-268e-4e61-860f-a1f06ac0798a",
   "metadata": {},
   "outputs": [],
   "source": [
    "import pandas as pd\n",
    "import numpy as np\n",
    "from pathlib import Path\n",
    "from src.data_processing import process_data, drop_manual, drop_na"
   ]
  },
  {
   "cell_type": "code",
   "execution_count": 2,
   "id": "3dfca6cc-8a1d-4fb4-ae58-cc2ce0f0e240",
   "metadata": {},
   "outputs": [],
   "source": [
    "df = pd.read_csv(\"data/npl_neighbor_complete_data_for_sentencetransformer.csv\")"
   ]
  },
  {
   "cell_type": "code",
   "execution_count": 3,
   "id": "3ce42c0c-f944-48da-9bc4-978835c266ed",
   "metadata": {},
   "outputs": [
    {
     "data": {
      "text/html": [
       "<div>\n",
       "<style scoped>\n",
       "    .dataframe tbody tr th:only-of-type {\n",
       "        vertical-align: middle;\n",
       "    }\n",
       "\n",
       "    .dataframe tbody tr th {\n",
       "        vertical-align: top;\n",
       "    }\n",
       "\n",
       "    .dataframe thead th {\n",
       "        text-align: right;\n",
       "    }\n",
       "</style>\n",
       "<table border=\"1\" class=\"dataframe\">\n",
       "  <thead>\n",
       "    <tr style=\"text-align: right;\">\n",
       "      <th></th>\n",
       "      <th>npl_prodord</th>\n",
       "      <th>npl_prodord_desc</th>\n",
       "      <th>neighbor_prodord</th>\n",
       "      <th>neighbor_prodord_desc</th>\n",
       "      <th>fuzzy_score</th>\n",
       "      <th>row_number</th>\n",
       "      <th>predecessor_prodord_ramesses</th>\n",
       "      <th>predecessor_prodord_desc_ramesses</th>\n",
       "      <th>manual_match</th>\n",
       "      <th>PREDECESSOR TYPE</th>\n",
       "    </tr>\n",
       "  </thead>\n",
       "  <tbody>\n",
       "    <tr>\n",
       "      <th>0</th>\n",
       "      <td>0WLY01</td>\n",
       "      <td>GINGER BURST HND&amp;BDY WSH 200ML</td>\n",
       "      <td>0MCX01</td>\n",
       "      <td>GINGER BODY WASH 200ML</td>\n",
       "      <td>0.77</td>\n",
       "      <td>1</td>\n",
       "      <td>0MCX01</td>\n",
       "      <td>GINGER BODY WASH 200ML</td>\n",
       "      <td>YES</td>\n",
       "      <td>STAR PREDECESSOR</td>\n",
       "    </tr>\n",
       "    <tr>\n",
       "      <th>1</th>\n",
       "      <td>0WLY01</td>\n",
       "      <td>GINGER BURST HND&amp;BDY WSH 200ML</td>\n",
       "      <td>0JYH01</td>\n",
       "      <td>GINGER BURST 200ML</td>\n",
       "      <td>0.75</td>\n",
       "      <td>2</td>\n",
       "      <td>0MCX01</td>\n",
       "      <td>GINGER BODY WASH 200ML</td>\n",
       "      <td>n</td>\n",
       "      <td>STAR PREDECESSOR</td>\n",
       "    </tr>\n",
       "    <tr>\n",
       "      <th>2</th>\n",
       "      <td>0WLY01</td>\n",
       "      <td>GINGER BURST HND&amp;BDY WSH 200ML</td>\n",
       "      <td>027T01</td>\n",
       "      <td>GINGER BODY WASH 250ML</td>\n",
       "      <td>0.73</td>\n",
       "      <td>3</td>\n",
       "      <td>0MCX01</td>\n",
       "      <td>GINGER BODY WASH 200ML</td>\n",
       "      <td>n</td>\n",
       "      <td>STAR PREDECESSOR</td>\n",
       "    </tr>\n",
       "    <tr>\n",
       "      <th>3</th>\n",
       "      <td>0WLY01</td>\n",
       "      <td>GINGER BURST HND&amp;BDY WSH 200ML</td>\n",
       "      <td>0F4501</td>\n",
       "      <td>GINGER HAND CLEANSER 200ML</td>\n",
       "      <td>0.64</td>\n",
       "      <td>4</td>\n",
       "      <td>0MCX01</td>\n",
       "      <td>GINGER BODY WASH 200ML</td>\n",
       "      <td>n</td>\n",
       "      <td>STAR PREDECESSOR</td>\n",
       "    </tr>\n",
       "    <tr>\n",
       "      <th>4</th>\n",
       "      <td>0WLY01</td>\n",
       "      <td>GINGER BURST HND&amp;BDY WSH 200ML</td>\n",
       "      <td>0MCW01</td>\n",
       "      <td>GINGER HAND CLEANSER 200ML</td>\n",
       "      <td>0.64</td>\n",
       "      <td>5</td>\n",
       "      <td>0MCX01</td>\n",
       "      <td>GINGER BODY WASH 200ML</td>\n",
       "      <td>n</td>\n",
       "      <td>STAR PREDECESSOR</td>\n",
       "    </tr>\n",
       "  </tbody>\n",
       "</table>\n",
       "</div>"
      ],
      "text/plain": [
       "  npl_prodord                npl_prodord_desc neighbor_prodord  \\\n",
       "0      0WLY01  GINGER BURST HND&BDY WSH 200ML           0MCX01   \n",
       "1      0WLY01  GINGER BURST HND&BDY WSH 200ML           0JYH01   \n",
       "2      0WLY01  GINGER BURST HND&BDY WSH 200ML           027T01   \n",
       "3      0WLY01  GINGER BURST HND&BDY WSH 200ML           0F4501   \n",
       "4      0WLY01  GINGER BURST HND&BDY WSH 200ML           0MCW01   \n",
       "\n",
       "        neighbor_prodord_desc  fuzzy_score  row_number  \\\n",
       "0      GINGER BODY WASH 200ML         0.77           1   \n",
       "1          GINGER BURST 200ML         0.75           2   \n",
       "2      GINGER BODY WASH 250ML         0.73           3   \n",
       "3  GINGER HAND CLEANSER 200ML         0.64           4   \n",
       "4  GINGER HAND CLEANSER 200ML         0.64           5   \n",
       "\n",
       "  predecessor_prodord_ramesses predecessor_prodord_desc_ramesses manual_match  \\\n",
       "0                       0MCX01            GINGER BODY WASH 200ML          YES   \n",
       "1                       0MCX01            GINGER BODY WASH 200ML            n   \n",
       "2                       0MCX01            GINGER BODY WASH 200ML            n   \n",
       "3                       0MCX01            GINGER BODY WASH 200ML            n   \n",
       "4                       0MCX01            GINGER BODY WASH 200ML            n   \n",
       "\n",
       "   PREDECESSOR TYPE  \n",
       "0  STAR PREDECESSOR  \n",
       "1  STAR PREDECESSOR  \n",
       "2  STAR PREDECESSOR  \n",
       "3  STAR PREDECESSOR  \n",
       "4  STAR PREDECESSOR  "
      ]
     },
     "execution_count": 3,
     "metadata": {},
     "output_type": "execute_result"
    }
   ],
   "source": [
    "df.head()"
   ]
  },
  {
   "cell_type": "code",
   "execution_count": 4,
   "id": "8b0a9fe8-8fe0-4ef8-aa38-42bc0b09c857",
   "metadata": {},
   "outputs": [
    {
     "name": "stdout",
     "output_type": "stream",
     "text": [
      "---Dataset Overview---\n",
      "<class 'pandas.core.frame.DataFrame'>\n",
      "RangeIndex: 696769 entries, 0 to 696768\n",
      "Data columns (total 10 columns):\n",
      " #   Column                             Non-Null Count   Dtype  \n",
      "---  ------                             --------------   -----  \n",
      " 0   npl_prodord                        696769 non-null  object \n",
      " 1   npl_prodord_desc                   696664 non-null  object \n",
      " 2   neighbor_prodord                   696769 non-null  object \n",
      " 3   neighbor_prodord_desc              695047 non-null  object \n",
      " 4   fuzzy_score                        696769 non-null  float64\n",
      " 5   row_number                         696769 non-null  int64  \n",
      " 6   predecessor_prodord_ramesses       696769 non-null  object \n",
      " 7   predecessor_prodord_desc_ramesses  692549 non-null  object \n",
      " 8   manual_match                       696769 non-null  object \n",
      " 9   PREDECESSOR TYPE                   696769 non-null  object \n",
      "dtypes: float64(1), int64(1), object(8)\n",
      "memory usage: 53.2+ MB\n",
      "None\n"
     ]
    }
   ],
   "source": [
    "print(\"---Dataset Overview---\")\n",
    "print(df.info())"
   ]
  },
  {
   "cell_type": "code",
   "execution_count": 5,
   "id": "f6eef316-2aee-414b-a53c-885704205ce8",
   "metadata": {},
   "outputs": [
    {
     "name": "stdout",
     "output_type": "stream",
     "text": [
      "---NPL Successor SKU Descriptions---\n",
      "npl_prodord_desc\n",
      "LIP COLOR ULTRA SHINE 3.3GM - ULTRA SHIN    2550\n",
      "MACXIMAL MATTE LPSTCK 3.5GM - COOL TEDDY    2544\n",
      "MCXML SLEEK SATIN LS 3.5GM - CALL IT COZ    2544\n",
      "MCXML SLEEK SATIN LS 3.5GM - LOVERS ONLY    2544\n",
      "MCXML SLEEK SATIN LS 3.5GM - PEACHSTOCK     2544\n",
      "                                            ... \n",
      "INTRAL DAILY TRTMENT LTN 150ML                 1\n",
      "MS ACTIVE GLOW SRM 30ML                        1\n",
      "MS ACTIVE GLOW SRM 50ML                        1\n",
      "CI PORE PURIFYING TONER 150ML                  1\n",
      "DU NURSH AVOCDO LIT BUTR 15GM                  1\n",
      "Name: count, Length: 2041, dtype: int64\n"
     ]
    }
   ],
   "source": [
    "print(\"---NPL Successor SKU Descriptions---\")\n",
    "print(df[\"npl_prodord_desc\"].value_counts())"
   ]
  },
  {
   "cell_type": "code",
   "execution_count": 6,
   "id": "b803aa82-43e2-4d75-ad97-14309915c8ca",
   "metadata": {},
   "outputs": [
    {
     "name": "stdout",
     "output_type": "stream",
     "text": [
      "---Predecessor SKU Descriptions---\n",
      "neighbor_prodord_desc\n",
      "LUSTRE LIPSTICK 3GM - CANCELLED    2210\n",
      "MAX COVER MU-GREEN CO 30ML         1044\n",
      "CREMESHEEN 3GM - CANCELLED         1040\n",
      "SFPP FOUNDATION DUO N               790\n",
      "SATIN LIPSTICK 3GM - CANCELLED      780\n",
      "                                   ... \n",
      "LIVING COLOGNE-BLUE AGAV 200ML        1\n",
      "EXFLTNG SOAP REVITALISE 100GM         1\n",
      "VR&O BODY CREME INTENSE 50ML          1\n",
      "M&T BODY CREME INTENSE 50ML           1\n",
      "ZERO BASE 11ML - NUDE LUSTRE          1\n",
      "Name: count, Length: 20697, dtype: int64\n"
     ]
    }
   ],
   "source": [
    "print(\"---Predecessor SKU Descriptions---\")\n",
    "print(df[\"neighbor_prodord_desc\"].value_counts())"
   ]
  },
  {
   "cell_type": "code",
   "execution_count": 7,
   "id": "16f7d618-3ab8-434d-a060-26749a0a989e",
   "metadata": {},
   "outputs": [
    {
     "data": {
      "text/html": [
       "<div>\n",
       "<style scoped>\n",
       "    .dataframe tbody tr th:only-of-type {\n",
       "        vertical-align: middle;\n",
       "    }\n",
       "\n",
       "    .dataframe tbody tr th {\n",
       "        vertical-align: top;\n",
       "    }\n",
       "\n",
       "    .dataframe thead th {\n",
       "        text-align: right;\n",
       "    }\n",
       "</style>\n",
       "<table border=\"1\" class=\"dataframe\">\n",
       "  <thead>\n",
       "    <tr style=\"text-align: right;\">\n",
       "      <th></th>\n",
       "      <th>npl_prodord</th>\n",
       "      <th>npl_prodord_desc</th>\n",
       "      <th>neighbor_prodord</th>\n",
       "      <th>neighbor_prodord_desc</th>\n",
       "      <th>fuzzy_score</th>\n",
       "      <th>row_number</th>\n",
       "      <th>predecessor_prodord_ramesses</th>\n",
       "      <th>predecessor_prodord_desc_ramesses</th>\n",
       "      <th>manual_match</th>\n",
       "      <th>PREDECESSOR TYPE</th>\n",
       "    </tr>\n",
       "  </thead>\n",
       "  <tbody>\n",
       "    <tr>\n",
       "      <th>148856</th>\n",
       "      <td>G9F301</td>\n",
       "      <td>NaN</td>\n",
       "      <td>R8KJ01</td>\n",
       "      <td>DOUBLE WEAR SIP PUMP</td>\n",
       "      <td>0.0</td>\n",
       "      <td>1</td>\n",
       "      <td>R8KJ01</td>\n",
       "      <td>DOUBLE WEAR SIP PUMP</td>\n",
       "      <td>YES</td>\n",
       "      <td>STAR PREDECESSOR</td>\n",
       "    </tr>\n",
       "    <tr>\n",
       "      <th>199881</th>\n",
       "      <td>J1KS01</td>\n",
       "      <td>NaN</td>\n",
       "      <td>J37T01</td>\n",
       "      <td>NaN</td>\n",
       "      <td>1.0</td>\n",
       "      <td>1</td>\n",
       "      <td>J3L701</td>\n",
       "      <td>S26 CNCRT CDL RM 127GM</td>\n",
       "      <td>n</td>\n",
       "      <td>STAR PREDECESSOR</td>\n",
       "    </tr>\n",
       "    <tr>\n",
       "      <th>199882</th>\n",
       "      <td>J1KS01</td>\n",
       "      <td>NaN</td>\n",
       "      <td>J38001</td>\n",
       "      <td>NaN</td>\n",
       "      <td>1.0</td>\n",
       "      <td>2</td>\n",
       "      <td>J3L701</td>\n",
       "      <td>S26 CNCRT CDL RM 127GM</td>\n",
       "      <td>n</td>\n",
       "      <td>STAR PREDECESSOR</td>\n",
       "    </tr>\n",
       "    <tr>\n",
       "      <th>199883</th>\n",
       "      <td>J1KS01</td>\n",
       "      <td>NaN</td>\n",
       "      <td>J37W01</td>\n",
       "      <td>NaN</td>\n",
       "      <td>1.0</td>\n",
       "      <td>3</td>\n",
       "      <td>J3L701</td>\n",
       "      <td>S26 CNCRT CDL RM 127GM</td>\n",
       "      <td>n</td>\n",
       "      <td>STAR PREDECESSOR</td>\n",
       "    </tr>\n",
       "    <tr>\n",
       "      <th>199884</th>\n",
       "      <td>J1KS01</td>\n",
       "      <td>NaN</td>\n",
       "      <td>J38801</td>\n",
       "      <td>NaN</td>\n",
       "      <td>1.0</td>\n",
       "      <td>4</td>\n",
       "      <td>J3L701</td>\n",
       "      <td>S26 CNCRT CDL RM 127GM</td>\n",
       "      <td>n</td>\n",
       "      <td>STAR PREDECESSOR</td>\n",
       "    </tr>\n",
       "    <tr>\n",
       "      <th>...</th>\n",
       "      <td>...</td>\n",
       "      <td>...</td>\n",
       "      <td>...</td>\n",
       "      <td>...</td>\n",
       "      <td>...</td>\n",
       "      <td>...</td>\n",
       "      <td>...</td>\n",
       "      <td>...</td>\n",
       "      <td>...</td>\n",
       "      <td>...</td>\n",
       "    </tr>\n",
       "    <tr>\n",
       "      <th>199980</th>\n",
       "      <td>J1KS01</td>\n",
       "      <td>NaN</td>\n",
       "      <td>J0EN01</td>\n",
       "      <td>L62 CLASSIC CDL RM 245GM</td>\n",
       "      <td>0.0</td>\n",
       "      <td>100</td>\n",
       "      <td>J3L701</td>\n",
       "      <td>S26 CNCRT CDL RM 127GM</td>\n",
       "      <td>n</td>\n",
       "      <td>STAR PREDECESSOR</td>\n",
       "    </tr>\n",
       "    <tr>\n",
       "      <th>199981</th>\n",
       "      <td>J1KS01</td>\n",
       "      <td>NaN</td>\n",
       "      <td>J0F801</td>\n",
       "      <td>S26 CLASSIC CDL CP 245GM</td>\n",
       "      <td>0.0</td>\n",
       "      <td>101</td>\n",
       "      <td>J3L701</td>\n",
       "      <td>S26 CNCRT CDL RM 127GM</td>\n",
       "      <td>n</td>\n",
       "      <td>STAR PREDECESSOR</td>\n",
       "    </tr>\n",
       "    <tr>\n",
       "      <th>199982</th>\n",
       "      <td>J1KS01</td>\n",
       "      <td>NaN</td>\n",
       "      <td>J0EC01</td>\n",
       "      <td>C17 VINTAGE CDL CP 195GM</td>\n",
       "      <td>0.0</td>\n",
       "      <td>102</td>\n",
       "      <td>J3L701</td>\n",
       "      <td>S26 CNCRT CDL RM 127GM</td>\n",
       "      <td>n</td>\n",
       "      <td>STAR PREDECESSOR</td>\n",
       "    </tr>\n",
       "    <tr>\n",
       "      <th>199983</th>\n",
       "      <td>J1KS01</td>\n",
       "      <td>NaN</td>\n",
       "      <td>J2YE01</td>\n",
       "      <td>H44 VINTAGE CDL CP</td>\n",
       "      <td>0.0</td>\n",
       "      <td>103</td>\n",
       "      <td>J3L701</td>\n",
       "      <td>S26 CNCRT CDL RM 127GM</td>\n",
       "      <td>n</td>\n",
       "      <td>STAR PREDECESSOR</td>\n",
       "    </tr>\n",
       "    <tr>\n",
       "      <th>199984</th>\n",
       "      <td>J1KS01</td>\n",
       "      <td>NaN</td>\n",
       "      <td>J2NC01</td>\n",
       "      <td>PS14 CLCDL GREY RM 245GM</td>\n",
       "      <td>0.0</td>\n",
       "      <td>104</td>\n",
       "      <td>J3L701</td>\n",
       "      <td>S26 CNCRT CDL RM 127GM</td>\n",
       "      <td>n</td>\n",
       "      <td>STAR PREDECESSOR</td>\n",
       "    </tr>\n",
       "  </tbody>\n",
       "</table>\n",
       "<p>105 rows × 10 columns</p>\n",
       "</div>"
      ],
      "text/plain": [
       "       npl_prodord npl_prodord_desc neighbor_prodord  \\\n",
       "148856      G9F301              NaN           R8KJ01   \n",
       "199881      J1KS01              NaN           J37T01   \n",
       "199882      J1KS01              NaN           J38001   \n",
       "199883      J1KS01              NaN           J37W01   \n",
       "199884      J1KS01              NaN           J38801   \n",
       "...            ...              ...              ...   \n",
       "199980      J1KS01              NaN           J0EN01   \n",
       "199981      J1KS01              NaN           J0F801   \n",
       "199982      J1KS01              NaN           J0EC01   \n",
       "199983      J1KS01              NaN           J2YE01   \n",
       "199984      J1KS01              NaN           J2NC01   \n",
       "\n",
       "           neighbor_prodord_desc  fuzzy_score  row_number  \\\n",
       "148856      DOUBLE WEAR SIP PUMP          0.0           1   \n",
       "199881                       NaN          1.0           1   \n",
       "199882                       NaN          1.0           2   \n",
       "199883                       NaN          1.0           3   \n",
       "199884                       NaN          1.0           4   \n",
       "...                          ...          ...         ...   \n",
       "199980  L62 CLASSIC CDL RM 245GM          0.0         100   \n",
       "199981  S26 CLASSIC CDL CP 245GM          0.0         101   \n",
       "199982  C17 VINTAGE CDL CP 195GM          0.0         102   \n",
       "199983        H44 VINTAGE CDL CP          0.0         103   \n",
       "199984  PS14 CLCDL GREY RM 245GM          0.0         104   \n",
       "\n",
       "       predecessor_prodord_ramesses predecessor_prodord_desc_ramesses  \\\n",
       "148856                       R8KJ01              DOUBLE WEAR SIP PUMP   \n",
       "199881                       J3L701            S26 CNCRT CDL RM 127GM   \n",
       "199882                       J3L701            S26 CNCRT CDL RM 127GM   \n",
       "199883                       J3L701            S26 CNCRT CDL RM 127GM   \n",
       "199884                       J3L701            S26 CNCRT CDL RM 127GM   \n",
       "...                             ...                               ...   \n",
       "199980                       J3L701            S26 CNCRT CDL RM 127GM   \n",
       "199981                       J3L701            S26 CNCRT CDL RM 127GM   \n",
       "199982                       J3L701            S26 CNCRT CDL RM 127GM   \n",
       "199983                       J3L701            S26 CNCRT CDL RM 127GM   \n",
       "199984                       J3L701            S26 CNCRT CDL RM 127GM   \n",
       "\n",
       "       manual_match  PREDECESSOR TYPE  \n",
       "148856          YES  STAR PREDECESSOR  \n",
       "199881            n  STAR PREDECESSOR  \n",
       "199882            n  STAR PREDECESSOR  \n",
       "199883            n  STAR PREDECESSOR  \n",
       "199884            n  STAR PREDECESSOR  \n",
       "...             ...               ...  \n",
       "199980            n  STAR PREDECESSOR  \n",
       "199981            n  STAR PREDECESSOR  \n",
       "199982            n  STAR PREDECESSOR  \n",
       "199983            n  STAR PREDECESSOR  \n",
       "199984            n  STAR PREDECESSOR  \n",
       "\n",
       "[105 rows x 10 columns]"
      ]
     },
     "execution_count": 7,
     "metadata": {},
     "output_type": "execute_result"
    }
   ],
   "source": [
    "df[pd.isna(df[\"npl_prodord_desc\"])]"
   ]
  },
  {
   "cell_type": "code",
   "execution_count": 8,
   "id": "c11c73ab-e0a0-42e4-86b9-80b2637e6774",
   "metadata": {},
   "outputs": [],
   "source": [
    "df_processed = drop_manual(df)"
   ]
  },
  {
   "cell_type": "code",
   "execution_count": 9,
   "id": "338ecab4-5ab3-428c-8df5-6454f6c5a114",
   "metadata": {},
   "outputs": [
    {
     "name": "stdout",
     "output_type": "stream",
     "text": [
      "<class 'pandas.core.frame.DataFrame'>\n",
      "Index: 635665 entries, 0 to 696728\n",
      "Data columns (total 10 columns):\n",
      " #   Column                             Non-Null Count   Dtype  \n",
      "---  ------                             --------------   -----  \n",
      " 0   npl_prodord                        635665 non-null  object \n",
      " 1   npl_prodord_desc                   635665 non-null  object \n",
      " 2   neighbor_prodord                   635665 non-null  object \n",
      " 3   neighbor_prodord_desc              634073 non-null  object \n",
      " 4   fuzzy_score                        635665 non-null  float64\n",
      " 5   row_number                         635665 non-null  int64  \n",
      " 6   predecessor_prodord_ramesses       635665 non-null  object \n",
      " 7   predecessor_prodord_desc_ramesses  635581 non-null  object \n",
      " 8   manual_match                       635665 non-null  object \n",
      " 9   PREDECESSOR TYPE                   635665 non-null  object \n",
      "dtypes: float64(1), int64(1), object(8)\n",
      "memory usage: 53.3+ MB\n"
     ]
    }
   ],
   "source": [
    "df_processed.info()"
   ]
  },
  {
   "cell_type": "code",
   "execution_count": 10,
   "id": "e835d1b6-1fc3-4c09-9e92-eee7934b4879",
   "metadata": {},
   "outputs": [],
   "source": [
    "temp = df_processed[pd.isna(df_processed[\"neighbor_prodord_desc\"])]"
   ]
  },
  {
   "cell_type": "code",
   "execution_count": 11,
   "id": "281daffb-1a65-4318-ba89-b7af887d6afd",
   "metadata": {},
   "outputs": [
    {
     "name": "stdout",
     "output_type": "stream",
     "text": [
      "<class 'pandas.core.frame.DataFrame'>\n",
      "Index: 1592 entries, 306 to 692558\n",
      "Data columns (total 10 columns):\n",
      " #   Column                             Non-Null Count  Dtype  \n",
      "---  ------                             --------------  -----  \n",
      " 0   npl_prodord                        1592 non-null   object \n",
      " 1   npl_prodord_desc                   1592 non-null   object \n",
      " 2   neighbor_prodord                   1592 non-null   object \n",
      " 3   neighbor_prodord_desc              0 non-null      object \n",
      " 4   fuzzy_score                        1592 non-null   float64\n",
      " 5   row_number                         1592 non-null   int64  \n",
      " 6   predecessor_prodord_ramesses       1592 non-null   object \n",
      " 7   predecessor_prodord_desc_ramesses  1592 non-null   object \n",
      " 8   manual_match                       1592 non-null   object \n",
      " 9   PREDECESSOR TYPE                   1592 non-null   object \n",
      "dtypes: float64(1), int64(1), object(8)\n",
      "memory usage: 136.8+ KB\n"
     ]
    }
   ],
   "source": [
    "temp.info()"
   ]
  },
  {
   "cell_type": "code",
   "execution_count": 12,
   "id": "b2c68b45-4961-45e9-ab82-3961df816da3",
   "metadata": {},
   "outputs": [
    {
     "data": {
      "text/plain": [
       "row_number\n",
       "1272    108\n",
       "1093     49\n",
       "162      43\n",
       "161      43\n",
       "302      40\n",
       "       ... \n",
       "42        1\n",
       "44        1\n",
       "11        1\n",
       "14        1\n",
       "5         1\n",
       "Name: count, Length: 138, dtype: int64"
      ]
     },
     "execution_count": 12,
     "metadata": {},
     "output_type": "execute_result"
    }
   ],
   "source": [
    "temp.value_counts(\"row_number\")"
   ]
  },
  {
   "cell_type": "code",
   "execution_count": 13,
   "id": "71932fa1-9d34-4fcd-a326-189f0aea52cf",
   "metadata": {},
   "outputs": [
    {
     "name": "stdout",
     "output_type": "stream",
     "text": [
      "<class 'pandas.core.frame.DataFrame'>\n",
      "Index: 84 entries, 634382 to 634604\n",
      "Data columns (total 10 columns):\n",
      " #   Column                             Non-Null Count  Dtype  \n",
      "---  ------                             --------------  -----  \n",
      " 0   npl_prodord                        84 non-null     object \n",
      " 1   npl_prodord_desc                   84 non-null     object \n",
      " 2   neighbor_prodord                   84 non-null     object \n",
      " 3   neighbor_prodord_desc              84 non-null     object \n",
      " 4   fuzzy_score                        84 non-null     float64\n",
      " 5   row_number                         84 non-null     int64  \n",
      " 6   predecessor_prodord_ramesses       84 non-null     object \n",
      " 7   predecessor_prodord_desc_ramesses  0 non-null      object \n",
      " 8   manual_match                       84 non-null     object \n",
      " 9   PREDECESSOR TYPE                   84 non-null     object \n",
      "dtypes: float64(1), int64(1), object(8)\n",
      "memory usage: 7.2+ KB\n"
     ]
    }
   ],
   "source": [
    "temp = df_processed[pd.isna(df_processed[\"predecessor_prodord_desc_ramesses\"])]\n",
    "temp.info()"
   ]
  },
  {
   "cell_type": "code",
   "execution_count": 18,
   "id": "0e8276b5-c4c5-4936-b5f7-7e893293b81f",
   "metadata": {},
   "outputs": [],
   "source": [
    "df_processed = drop_na(df_processed)"
   ]
  },
  {
   "cell_type": "code",
   "execution_count": 19,
   "id": "cd1f21dd-835e-450e-ad07-fc043982c025",
   "metadata": {},
   "outputs": [
    {
     "name": "stdout",
     "output_type": "stream",
     "text": [
      "<class 'pandas.core.frame.DataFrame'>\n",
      "Index: 633989 entries, 0 to 696728\n",
      "Data columns (total 10 columns):\n",
      " #   Column                             Non-Null Count   Dtype  \n",
      "---  ------                             --------------   -----  \n",
      " 0   npl_prodord                        633989 non-null  object \n",
      " 1   npl_prodord_desc                   633989 non-null  object \n",
      " 2   neighbor_prodord                   633989 non-null  object \n",
      " 3   neighbor_prodord_desc              633989 non-null  object \n",
      " 4   fuzzy_score                        633989 non-null  float64\n",
      " 5   row_number                         633989 non-null  int64  \n",
      " 6   predecessor_prodord_ramesses       633989 non-null  object \n",
      " 7   predecessor_prodord_desc_ramesses  633989 non-null  object \n",
      " 8   manual_match                       633989 non-null  object \n",
      " 9   PREDECESSOR TYPE                   633989 non-null  object \n",
      "dtypes: float64(1), int64(1), object(8)\n",
      "memory usage: 53.2+ MB\n"
     ]
    }
   ],
   "source": [
    "df_processed.info()"
   ]
  },
  {
   "cell_type": "code",
   "execution_count": null,
   "id": "0d0be064-e268-4d4a-9b00-69a70be6fbf5",
   "metadata": {},
   "outputs": [],
   "source": []
  }
 ],
 "metadata": {
  "kernelspec": {
   "display_name": "Python 3 (ipykernel)",
   "language": "python",
   "name": "python3"
  },
  "language_info": {
   "codemirror_mode": {
    "name": "ipython",
    "version": 3
   },
   "file_extension": ".py",
   "mimetype": "text/x-python",
   "name": "python",
   "nbconvert_exporter": "python",
   "pygments_lexer": "ipython3",
   "version": "3.11.11"
  }
 },
 "nbformat": 4,
 "nbformat_minor": 5
}
