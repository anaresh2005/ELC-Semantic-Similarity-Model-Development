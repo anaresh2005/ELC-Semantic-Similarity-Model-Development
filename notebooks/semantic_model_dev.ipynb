{
 "cells": [
  {
   "cell_type": "markdown",
   "id": "75ec2243-b9de-4bc8-8758-700213e95901",
   "metadata": {},
   "source": [
    "## Semantic Model Development Project -- Sentence Transformer and Cross Encoder Model\n",
    "#### Last Edit: 6/25/25 by Aneesh Naresh\n",
    "##### The goal of this project is to develop a semantic similarity model capable of identifying the five most similar predecessor SKUs corresponding to a successor SKU. The project is implemented in the phases listed below:\n",
    "\n",
    "1. Environment Setup\n",
    "2. Data Inspection and String-Level Cleanup\n",
    "3. Embedding Step\n",
    "4. Vector Store Choices\n",
    "5. Retrieval Logic\n",
    "6. Evaluation Loop\n",
    "7. Packaging and Serving\n",
    "8. Extensions"
   ]
  },
  {
   "cell_type": "markdown",
   "id": "a30d8d10-73ad-4c0b-a3e0-612a6e81566a",
   "metadata": {},
   "source": [
    "#### Phase 2: Data Inspection and String-Level Cleanup (BASIC)"
   ]
  },
  {
   "cell_type": "code",
   "execution_count": 1,
   "id": "192c3ff2-21e7-46e6-9cd7-4c8e034ae626",
   "metadata": {},
   "outputs": [],
   "source": [
    "import pandas as pd\n",
    "import numpy as np\n",
    "import torch\n",
    "import sklearn\n",
    "import tqdm\n",
    "from sentence_transformers import SentenceTransformer, CrossEncoder\n",
    "from normality import normalize"
   ]
  },
  {
   "cell_type": "code",
   "execution_count": 2,
   "id": "1d0c75f8-ad77-4955-b43f-74105cd8cc91",
   "metadata": {},
   "outputs": [],
   "source": [
    "sku = pd.read_csv(\"data/npl_test_data_for_sentence_semantic_analysis.csv\")"
   ]
  },
  {
   "cell_type": "code",
   "execution_count": 3,
   "id": "f4870c97-2355-4a6a-8abe-a1626184461f",
   "metadata": {},
   "outputs": [
    {
     "name": "stdout",
     "output_type": "stream",
     "text": [
      "(7364,)\n"
     ]
    }
   ],
   "source": [
    "sku.head()\n",
    "print(pd.unique(sku[\"POTENTIAL_PREDECESSOR_SKU_DESC\"]).shape)"
   ]
  },
  {
   "cell_type": "code",
   "execution_count": 4,
   "id": "5d658139-2247-473c-abf1-7ef5e7803d9e",
   "metadata": {},
   "outputs": [],
   "source": [
    "def normalizeText(text: object):\n",
    "    return normalize(text)"
   ]
  },
  {
   "cell_type": "code",
   "execution_count": 5,
   "id": "841b7c46-b356-48b3-813e-d2e057174b6f",
   "metadata": {},
   "outputs": [],
   "source": [
    "devDataframe = sku.copy()"
   ]
  },
  {
   "cell_type": "code",
   "execution_count": 6,
   "id": "d4a3fc7e-cb95-41ef-8de2-8a29f5b5a90b",
   "metadata": {},
   "outputs": [
    {
     "data": {
      "text/html": [
       "<div>\n",
       "<style scoped>\n",
       "    .dataframe tbody tr th:only-of-type {\n",
       "        vertical-align: middle;\n",
       "    }\n",
       "\n",
       "    .dataframe tbody tr th {\n",
       "        vertical-align: top;\n",
       "    }\n",
       "\n",
       "    .dataframe thead th {\n",
       "        text-align: right;\n",
       "    }\n",
       "</style>\n",
       "<table border=\"1\" class=\"dataframe\">\n",
       "  <thead>\n",
       "    <tr style=\"text-align: right;\">\n",
       "      <th></th>\n",
       "      <th>SUCCESSOR_SKU</th>\n",
       "      <th>SUCCESSOR_SKU_DESC</th>\n",
       "      <th>POTENTIAL_PREDECESSOR_SKU</th>\n",
       "      <th>POTENTIAL_PREDECESSOR_SKU_DESC</th>\n",
       "    </tr>\n",
       "  </thead>\n",
       "  <tbody>\n",
       "    <tr>\n",
       "      <th>0</th>\n",
       "      <td>PH7GCC</td>\n",
       "      <td>DW SIP MAKEUP 30ML - 2N2 BUFF</td>\n",
       "      <td>TE1633</td>\n",
       "      <td>ARCHITECT SOFT MATTE 30ML - 16.5C MOCHA</td>\n",
       "    </tr>\n",
       "    <tr>\n",
       "      <th>1</th>\n",
       "      <td>PH7GCC</td>\n",
       "      <td>DW SIP MAKEUP 30ML - 2N2 BUFF</td>\n",
       "      <td>KNXW02</td>\n",
       "      <td>EB CL SPF 25 30ML - CN 20 Fair (VF)</td>\n",
       "    </tr>\n",
       "    <tr>\n",
       "      <th>2</th>\n",
       "      <td>PH7GCC</td>\n",
       "      <td>DW SIP MAKEUP 30ML - 2N2 BUFF</td>\n",
       "      <td>CUMM04</td>\n",
       "      <td>AO SKIN-BALNCNG FNDTN 10ML - L10-N</td>\n",
       "    </tr>\n",
       "    <tr>\n",
       "      <th>3</th>\n",
       "      <td>PH7GCC</td>\n",
       "      <td>DW SIP MAKEUP 30ML - 2N2 BUFF</td>\n",
       "      <td>PH7F77</td>\n",
       "      <td>DW SIP MAKEUP SPF10 30ML - 2C1 PURE BEIG</td>\n",
       "    </tr>\n",
       "    <tr>\n",
       "      <th>4</th>\n",
       "      <td>PH7GCC</td>\n",
       "      <td>DW SIP MAKEUP 30ML - 2N2 BUFF</td>\n",
       "      <td>H04Y05</td>\n",
       "      <td>GS SHEER COLOR MU 30ML - LEVEL 3 WARM</td>\n",
       "    </tr>\n",
       "  </tbody>\n",
       "</table>\n",
       "</div>"
      ],
      "text/plain": [
       "  SUCCESSOR_SKU             SUCCESSOR_SKU_DESC POTENTIAL_PREDECESSOR_SKU  \\\n",
       "0        PH7GCC  DW SIP MAKEUP 30ML - 2N2 BUFF                    TE1633   \n",
       "1        PH7GCC  DW SIP MAKEUP 30ML - 2N2 BUFF                    KNXW02   \n",
       "2        PH7GCC  DW SIP MAKEUP 30ML - 2N2 BUFF                    CUMM04   \n",
       "3        PH7GCC  DW SIP MAKEUP 30ML - 2N2 BUFF                    PH7F77   \n",
       "4        PH7GCC  DW SIP MAKEUP 30ML - 2N2 BUFF                    H04Y05   \n",
       "\n",
       "             POTENTIAL_PREDECESSOR_SKU_DESC  \n",
       "0   ARCHITECT SOFT MATTE 30ML - 16.5C MOCHA  \n",
       "1       EB CL SPF 25 30ML - CN 20 Fair (VF)  \n",
       "2        AO SKIN-BALNCNG FNDTN 10ML - L10-N  \n",
       "3  DW SIP MAKEUP SPF10 30ML - 2C1 PURE BEIG  \n",
       "4     GS SHEER COLOR MU 30ML - LEVEL 3 WARM  "
      ]
     },
     "execution_count": 6,
     "metadata": {},
     "output_type": "execute_result"
    }
   ],
   "source": [
    "devDataframe.head()"
   ]
  },
  {
   "cell_type": "code",
   "execution_count": 7,
   "id": "38f41a5c-7ddf-44b9-8334-0313fc07c58b",
   "metadata": {},
   "outputs": [
    {
     "data": {
      "text/plain": [
       "0        ph7gcc\n",
       "1        ph7gcc\n",
       "2        ph7gcc\n",
       "3        ph7gcc\n",
       "4        ph7gcc\n",
       "          ...  \n",
       "76825    ph7g38\n",
       "76826    ph7g38\n",
       "76827    ph7g38\n",
       "76828    ph7g38\n",
       "76829    ph7g38\n",
       "Name: SUCCESSOR_SKU, Length: 76830, dtype: object"
      ]
     },
     "execution_count": 7,
     "metadata": {},
     "output_type": "execute_result"
    }
   ],
   "source": [
    "devDataframe[\"SUCCESSOR_SKU\"].apply(normalizeText)"
   ]
  },
  {
   "cell_type": "code",
   "execution_count": 8,
   "id": "33f8197d-c04d-4420-9beb-a66b7f81c5a4",
   "metadata": {},
   "outputs": [
    {
     "data": {
      "text/html": [
       "<div>\n",
       "<style scoped>\n",
       "    .dataframe tbody tr th:only-of-type {\n",
       "        vertical-align: middle;\n",
       "    }\n",
       "\n",
       "    .dataframe tbody tr th {\n",
       "        vertical-align: top;\n",
       "    }\n",
       "\n",
       "    .dataframe thead th {\n",
       "        text-align: right;\n",
       "    }\n",
       "</style>\n",
       "<table border=\"1\" class=\"dataframe\">\n",
       "  <thead>\n",
       "    <tr style=\"text-align: right;\">\n",
       "      <th></th>\n",
       "      <th>SUCCESSOR_SKU</th>\n",
       "      <th>SUCCESSOR_SKU_DESC</th>\n",
       "      <th>POTENTIAL_PREDECESSOR_SKU</th>\n",
       "      <th>POTENTIAL_PREDECESSOR_SKU_DESC</th>\n",
       "    </tr>\n",
       "  </thead>\n",
       "  <tbody>\n",
       "    <tr>\n",
       "      <th>0</th>\n",
       "      <td>PH7GCC</td>\n",
       "      <td>DW SIP MAKEUP 30ML - 2N2 BUFF</td>\n",
       "      <td>TE1633</td>\n",
       "      <td>ARCHITECT SOFT MATTE 30ML - 16.5C MOCHA</td>\n",
       "    </tr>\n",
       "    <tr>\n",
       "      <th>1</th>\n",
       "      <td>PH7GCC</td>\n",
       "      <td>DW SIP MAKEUP 30ML - 2N2 BUFF</td>\n",
       "      <td>KNXW02</td>\n",
       "      <td>EB CL SPF 25 30ML - CN 20 Fair (VF)</td>\n",
       "    </tr>\n",
       "    <tr>\n",
       "      <th>2</th>\n",
       "      <td>PH7GCC</td>\n",
       "      <td>DW SIP MAKEUP 30ML - 2N2 BUFF</td>\n",
       "      <td>CUMM04</td>\n",
       "      <td>AO SKIN-BALNCNG FNDTN 10ML - L10-N</td>\n",
       "    </tr>\n",
       "    <tr>\n",
       "      <th>3</th>\n",
       "      <td>PH7GCC</td>\n",
       "      <td>DW SIP MAKEUP 30ML - 2N2 BUFF</td>\n",
       "      <td>PH7F77</td>\n",
       "      <td>DW SIP MAKEUP SPF10 30ML - 2C1 PURE BEIG</td>\n",
       "    </tr>\n",
       "    <tr>\n",
       "      <th>4</th>\n",
       "      <td>PH7GCC</td>\n",
       "      <td>DW SIP MAKEUP 30ML - 2N2 BUFF</td>\n",
       "      <td>H04Y05</td>\n",
       "      <td>GS SHEER COLOR MU 30ML - LEVEL 3 WARM</td>\n",
       "    </tr>\n",
       "  </tbody>\n",
       "</table>\n",
       "</div>"
      ],
      "text/plain": [
       "  SUCCESSOR_SKU             SUCCESSOR_SKU_DESC POTENTIAL_PREDECESSOR_SKU  \\\n",
       "0        PH7GCC  DW SIP MAKEUP 30ML - 2N2 BUFF                    TE1633   \n",
       "1        PH7GCC  DW SIP MAKEUP 30ML - 2N2 BUFF                    KNXW02   \n",
       "2        PH7GCC  DW SIP MAKEUP 30ML - 2N2 BUFF                    CUMM04   \n",
       "3        PH7GCC  DW SIP MAKEUP 30ML - 2N2 BUFF                    PH7F77   \n",
       "4        PH7GCC  DW SIP MAKEUP 30ML - 2N2 BUFF                    H04Y05   \n",
       "\n",
       "             POTENTIAL_PREDECESSOR_SKU_DESC  \n",
       "0   ARCHITECT SOFT MATTE 30ML - 16.5C MOCHA  \n",
       "1       EB CL SPF 25 30ML - CN 20 Fair (VF)  \n",
       "2        AO SKIN-BALNCNG FNDTN 10ML - L10-N  \n",
       "3  DW SIP MAKEUP SPF10 30ML - 2C1 PURE BEIG  \n",
       "4     GS SHEER COLOR MU 30ML - LEVEL 3 WARM  "
      ]
     },
     "execution_count": 8,
     "metadata": {},
     "output_type": "execute_result"
    }
   ],
   "source": [
    "devDataframe.head()"
   ]
  },
  {
   "cell_type": "code",
   "execution_count": 9,
   "id": "22faecb4-4105-4657-b9c4-d49fd35ec78d",
   "metadata": {},
   "outputs": [],
   "source": [
    "uniqueSuccessorsDescNN = pd.unique(devDataframe[\"SUCCESSOR_SKU_DESC\"])\n",
    "uniquePredecessorDescNN = pd.unique(devDataframe[\"POTENTIAL_PREDECESSOR_SKU_DESC\"])"
   ]
  },
  {
   "cell_type": "code",
   "execution_count": 10,
   "id": "ddcf270b-424f-462a-b21d-722b675eff7b",
   "metadata": {},
   "outputs": [
    {
     "name": "stdout",
     "output_type": "stream",
     "text": [
      "<class 'numpy.ndarray'>\n",
      "<class 'numpy.ndarray'>\n"
     ]
    }
   ],
   "source": [
    "print(type(uniqueSuccessorsDescNN))\n",
    "print(type(uniquePredecessorDescNN))"
   ]
  },
  {
   "cell_type": "code",
   "execution_count": 11,
   "id": "28b4850d-598b-4970-982c-baef5d1f9661",
   "metadata": {},
   "outputs": [],
   "source": [
    "uniquePredecessorDescNNFiltered = uniquePredecessorDescNN[np.isin(uniquePredecessorDescNN, uniqueSuccessorsDescNN, invert=True)]"
   ]
  },
  {
   "cell_type": "code",
   "execution_count": 13,
   "id": "ca758ddb-c8e5-439e-bc15-56a417b1b61f",
   "metadata": {},
   "outputs": [
    {
     "name": "stdout",
     "output_type": "stream",
     "text": [
      "['DW SIP MAKEUP 30ML - 2N2 BUFF' 'DW SIP MAKEUP 30ML - 2N1 DESERT BEIGE'\n",
      " 'DW SIP MAKEUP 30ML - 2W1 DAWN' 'DW SIP MAKEUP 30ML - 3C2 PEBBLE'\n",
      " 'DW SIP MAKEUP 30ML - 2C3 FRESCO' 'DW SIP MAKEUP 30ML - 2C1 PURE BEIGE'\n",
      " 'DW SIP MAKEUP 30ML - 3W1 TAWNY' 'DW SIP MAKEUP 30ML - 1N2 ECRU'\n",
      " 'DW SIP MAKEUP 30ML - 3N1 IVORY BEIGE' 'DW SIP MAKEUP 30ML - 3N2 WHEAT']\n"
     ]
    }
   ],
   "source": [
    "print(uniqueSuccessorsDescNN)"
   ]
  },
  {
   "cell_type": "code",
   "execution_count": 12,
   "id": "378548a2-ec2f-4d2a-ae4c-6060b0f6c3c5",
   "metadata": {},
   "outputs": [],
   "source": [
    "uniqueSuccessorsDesc = np.array([normalize(x) for x in uniqueSuccessorsDescNN])\n",
    "uniquePredecessorDescFiltered = np.array([normalize(x) for x in uniquePredecessorDescNNFiltered])"
   ]
  },
  {
   "cell_type": "code",
   "execution_count": 13,
   "id": "e34786b6-e230-464b-9218-bd0c5096658b",
   "metadata": {},
   "outputs": [
    {
     "data": {
      "text/html": [
       "<div>\n",
       "<style scoped>\n",
       "    .dataframe tbody tr th:only-of-type {\n",
       "        vertical-align: middle;\n",
       "    }\n",
       "\n",
       "    .dataframe tbody tr th {\n",
       "        vertical-align: top;\n",
       "    }\n",
       "\n",
       "    .dataframe thead th {\n",
       "        text-align: right;\n",
       "    }\n",
       "</style>\n",
       "<table border=\"1\" class=\"dataframe\">\n",
       "  <thead>\n",
       "    <tr style=\"text-align: right;\">\n",
       "      <th></th>\n",
       "      <th>SUCCESSOR_SKU</th>\n",
       "      <th>SUCCESSOR_SKU_DESC</th>\n",
       "      <th>POTENTIAL_PREDECESSOR_SKU</th>\n",
       "      <th>POTENTIAL_PREDECESSOR_SKU_DESC</th>\n",
       "    </tr>\n",
       "  </thead>\n",
       "  <tbody>\n",
       "    <tr>\n",
       "      <th>0</th>\n",
       "      <td>PH7GCC</td>\n",
       "      <td>DW SIP MAKEUP 30ML - 2N2 BUFF</td>\n",
       "      <td>TE1633</td>\n",
       "      <td>ARCHITECT SOFT MATTE 30ML - 16.5C MOCHA</td>\n",
       "    </tr>\n",
       "    <tr>\n",
       "      <th>1</th>\n",
       "      <td>PH7GCC</td>\n",
       "      <td>DW SIP MAKEUP 30ML - 2N2 BUFF</td>\n",
       "      <td>KNXW02</td>\n",
       "      <td>EB CL SPF 25 30ML - CN 20 Fair (VF)</td>\n",
       "    </tr>\n",
       "    <tr>\n",
       "      <th>2</th>\n",
       "      <td>PH7GCC</td>\n",
       "      <td>DW SIP MAKEUP 30ML - 2N2 BUFF</td>\n",
       "      <td>CUMM04</td>\n",
       "      <td>AO SKIN-BALNCNG FNDTN 10ML - L10-N</td>\n",
       "    </tr>\n",
       "    <tr>\n",
       "      <th>3</th>\n",
       "      <td>PH7GCC</td>\n",
       "      <td>DW SIP MAKEUP 30ML - 2N2 BUFF</td>\n",
       "      <td>PH7F77</td>\n",
       "      <td>DW SIP MAKEUP SPF10 30ML - 2C1 PURE BEIG</td>\n",
       "    </tr>\n",
       "    <tr>\n",
       "      <th>4</th>\n",
       "      <td>PH7GCC</td>\n",
       "      <td>DW SIP MAKEUP 30ML - 2N2 BUFF</td>\n",
       "      <td>H04Y05</td>\n",
       "      <td>GS SHEER COLOR MU 30ML - LEVEL 3 WARM</td>\n",
       "    </tr>\n",
       "  </tbody>\n",
       "</table>\n",
       "</div>"
      ],
      "text/plain": [
       "  SUCCESSOR_SKU             SUCCESSOR_SKU_DESC POTENTIAL_PREDECESSOR_SKU  \\\n",
       "0        PH7GCC  DW SIP MAKEUP 30ML - 2N2 BUFF                    TE1633   \n",
       "1        PH7GCC  DW SIP MAKEUP 30ML - 2N2 BUFF                    KNXW02   \n",
       "2        PH7GCC  DW SIP MAKEUP 30ML - 2N2 BUFF                    CUMM04   \n",
       "3        PH7GCC  DW SIP MAKEUP 30ML - 2N2 BUFF                    PH7F77   \n",
       "4        PH7GCC  DW SIP MAKEUP 30ML - 2N2 BUFF                    H04Y05   \n",
       "\n",
       "             POTENTIAL_PREDECESSOR_SKU_DESC  \n",
       "0   ARCHITECT SOFT MATTE 30ML - 16.5C MOCHA  \n",
       "1       EB CL SPF 25 30ML - CN 20 Fair (VF)  \n",
       "2        AO SKIN-BALNCNG FNDTN 10ML - L10-N  \n",
       "3  DW SIP MAKEUP SPF10 30ML - 2C1 PURE BEIG  \n",
       "4     GS SHEER COLOR MU 30ML - LEVEL 3 WARM  "
      ]
     },
     "execution_count": 13,
     "metadata": {},
     "output_type": "execute_result"
    }
   ],
   "source": [
    "devDataframe.head()"
   ]
  },
  {
   "cell_type": "markdown",
   "id": "d8a6de8e-cccf-4432-ba56-ea6fe5adbf23",
   "metadata": {},
   "source": [
    "#### Phase 3: Embedding Step (BASIC)"
   ]
  },
  {
   "cell_type": "code",
   "execution_count": 14,
   "id": "ae1d0106-14ac-4276-a172-c06a21d0a05a",
   "metadata": {},
   "outputs": [],
   "source": [
    "modelST = SentenceTransformer(\"all-MiniLM-L6-v2\")"
   ]
  },
  {
   "cell_type": "code",
   "execution_count": 15,
   "id": "6f673643-9c1e-4420-ae76-0498894b0bda",
   "metadata": {},
   "outputs": [],
   "source": [
    "successorEmbeddings = modelST.encode(uniqueSuccessorsDesc)"
   ]
  },
  {
   "cell_type": "code",
   "execution_count": 16,
   "id": "d1e7f929-116b-4b92-93c1-1c8388e48295",
   "metadata": {},
   "outputs": [
    {
     "data": {
      "text/plain": [
       "(10, 384)"
      ]
     },
     "execution_count": 16,
     "metadata": {},
     "output_type": "execute_result"
    }
   ],
   "source": [
    "successorEmbeddings.shape"
   ]
  },
  {
   "cell_type": "code",
   "execution_count": 17,
   "id": "2b27cd95-79db-45ce-a66a-a229f3843732",
   "metadata": {},
   "outputs": [],
   "source": [
    "predecessorDescEmbeddings = modelST.encode(uniquePredecessorDescFiltered)"
   ]
  },
  {
   "cell_type": "code",
   "execution_count": 18,
   "id": "b10f2439-505b-4f4f-a0df-9bb5898ba576",
   "metadata": {},
   "outputs": [
    {
     "data": {
      "text/plain": [
       "(7354, 384)"
      ]
     },
     "execution_count": 18,
     "metadata": {},
     "output_type": "execute_result"
    }
   ],
   "source": [
    "predecessorDescEmbeddings.shape"
   ]
  },
  {
   "cell_type": "markdown",
   "id": "2c36fef3-c52d-4e0a-a46a-17a4d8a03825",
   "metadata": {},
   "source": [
    "#### Phase 5: Retrieval Logic (BASIC)"
   ]
  },
  {
   "cell_type": "code",
   "execution_count": 19,
   "id": "98a8d535-63a1-4cc2-ae5b-509db185495a",
   "metadata": {},
   "outputs": [],
   "source": [
    "modelCE = CrossEncoder(\"cross-encoder/stsb-distilroberta-base\")"
   ]
  },
  {
   "cell_type": "code",
   "execution_count": 20,
   "id": "68aad8a2-51a2-4837-b4f3-f93b41ac5ed1",
   "metadata": {},
   "outputs": [],
   "source": [
    "similarities = modelST.similarity(successorEmbeddings, predecessorDescEmbeddings)"
   ]
  },
  {
   "cell_type": "code",
   "execution_count": 21,
   "id": "244c5e8e-2384-467d-95b4-082b4062711b",
   "metadata": {},
   "outputs": [
    {
     "data": {
      "text/plain": [
       "torch.Size([10, 7354])"
      ]
     },
     "execution_count": 21,
     "metadata": {},
     "output_type": "execute_result"
    }
   ],
   "source": [
    "# Each row corresponds to a successor SKU description, each column corresponds to a predecessor SKU description\n",
    "similarities.shape"
   ]
  },
  {
   "cell_type": "code",
   "execution_count": 22,
   "id": "b6b2abf4-373d-413f-bbae-15d02ffd2fde",
   "metadata": {},
   "outputs": [
    {
     "data": {
      "text/plain": [
       "torch.Tensor"
      ]
     },
     "execution_count": 22,
     "metadata": {},
     "output_type": "execute_result"
    }
   ],
   "source": [
    "# dim=0 means look down each column (across rows) and dim=1 means look across each row (across columns)\n",
    "top_sim, top_idx = similarities.topk(k=7354, dim=1)\n",
    "type(top_idx)"
   ]
  },
  {
   "cell_type": "code",
   "execution_count": 23,
   "id": "52e1e5b4-222f-4402-8411-bde9545fb79c",
   "metadata": {},
   "outputs": [
    {
     "data": {
      "text/plain": [
       "torch.Size([10, 7354])"
      ]
     },
     "execution_count": 23,
     "metadata": {},
     "output_type": "execute_result"
    }
   ],
   "source": [
    "top_idx.shape"
   ]
  },
  {
   "cell_type": "code",
   "execution_count": 25,
   "id": "0f2eaba2-c21e-4fb1-a957-48647c15b887",
   "metadata": {},
   "outputs": [
    {
     "name": "stdout",
     "output_type": "stream",
     "text": [
      "Successor SKU:  dw sip makeup 30ml 2n2 buff\n",
      "0.85\thd foundation 30ml dark d2 can wn\n",
      "0.85\tdouble wear sip liqui 30ml shadea2 wn\n",
      "0.83\tdw sip makeup 30ml 1c2 petal\n",
      "0.82\thd foundation 30ml light l2\n",
      "0.82\thd foundation 30ml dark d2\n",
      "Successor SKU:  dw sip makeup 30ml 2n1 desert beige\n",
      "0.93\tdw sip makeup 30ml 1w2 sand\n",
      "0.88\tdw sip makeup 30ml 0c1 cool sand\n",
      "0.85\tdw sip makeup 30ml 4n2 spiced sand\n",
      "0.84\trn liquid foundation 30ml desert beige\n",
      "0.82\tbtw matte fdn 30ml sand\n",
      "Successor SKU:  dw sip makeup 30ml 2w1 dawn\n",
      "0.84\tdw lgt sft mat hyd mu 30ml 2w1 dawn\n",
      "0.83\tdouble wear sip liqui 30ml 2w1 dawn\n",
      "0.81\tdw sip makeup spf10 30ml 2w1 dawn\n",
      "0.80\tdwsoftspf20 30ml 2w1 dawn wn\n",
      "0.78\thd foundation 30ml dark d2 can wn\n",
      "Successor SKU:  dw sip makeup 30ml 3c2 pebble\n",
      "0.83\tdw sip makeup 30ml 3w2 cashew\n",
      "0.79\tdouble wear sip liqui 30ml 3c2 pebble\n",
      "0.78\tdouble wear sip liqui 30ml 3w2 cashew\n",
      "0.78\tdw lgt sft mat hyd mu 30ml 3c2 pebble\n",
      "0.78\tdwsoftspf20 30ml 3c2 pebble wn\n",
      "Successor SKU:  dw sip makeup 30ml 2c3 fresco\n",
      "0.85\tdw sip makeup 30ml 2n3 dolce\n",
      "0.83\tdw lgt sft mat hyd mu 30ml 2c3 fresco\n",
      "0.80\tdouble wear sip liqui 30ml 2c3 fresco\n",
      "0.79\tdwsoftspf20 30ml 2c3 fresco wn\n",
      "0.78\tfuturist radiant foun 30ml 2c3 fresco\n",
      "Successor SKU:  dw sip makeup 30ml 2c1 pure beige\n",
      "0.82\tdouble wear sip liqui 30ml 2c1 pure be\n",
      "0.81\tbtw matte fdn 30ml natural beige\n",
      "0.78\tsuperbal mu 30ml true beige\n",
      "0.78\tdw sip makeup 30ml 4n1 shell beige\n",
      "0.78\tsuperbal mu 30ml super perfect beige\n",
      "Successor SKU:  dw sip makeup 30ml 3w1 tawny\n",
      "0.93\tdw sip makeup 30ml 3c1 dusk\n",
      "0.85\tdouble wear sip liqui 30ml 3w1 tawny\n",
      "0.83\tdw sip makeup 30ml 3w1 5 fawn\n",
      "0.80\tdw lgt sft mat hyd mu 30ml 3w1 tawny\n",
      "0.79\tdw sip makeup 30ml 3w2 cashew\n",
      "Successor SKU:  dw sip makeup 30ml 1n2 ecru\n",
      "0.82\tdw sip makeup 30ml 1c2 petal\n",
      "0.80\tdw lgt sft mat hyd mu 30ml 1n2 ecru\n",
      "0.79\thd foundation 30ml dark d2 can wn\n",
      "0.79\tdouble wear sip liqui 30ml shadea2 wn\n",
      "0.78\tcoverage foundation 30ml shade02 wn\n",
      "Successor SKU:  dw sip makeup 30ml 3n1 ivory beige\n",
      "0.85\tdw lgt sft mat hyd mu 30ml 3n1 ivory b\n",
      "0.83\tbtw matte fdn 30ml ivory\n",
      "0.83\tdouble wear sip liqui 30ml 3n1 ivory b\n",
      "0.82\trn rdn lqd mu spf20 30ml 3n1 ivory bei\n",
      "0.82\twp foundation conceal 30ml ivory\n",
      "Successor SKU:  dw sip makeup 30ml 3n2 wheat\n",
      "0.83\tdouble wear sip liqui 30ml 3n2 wheat\n",
      "0.83\tfuturist radiant foun 30ml 3n2 wheat\n",
      "0.80\tdwsoftspf20 30ml 3n2 wheat wn\n",
      "0.78\tdw sip makeup spf10 30ml 3n2 wheat\n",
      "0.77\trn rdn lqd mu spf20 30ml 3n2 wheat\n"
     ]
    }
   ],
   "source": [
    "for i, succ in enumerate(uniqueSuccessorsDesc):\n",
    "    cand_idx = top_idx[i]\n",
    "    cand_descs = uniquePredecessorDescFiltered[cand_idx]\n",
    "\n",
    "    allRanks = modelCE.rank(succ, cand_descs)\n",
    "    top5Ranks = allRanks[:5]\n",
    "\n",
    "    print(\"Successor SKU: \", succ)\n",
    "    for rank in top5Ranks:\n",
    "        print(f\"{rank['score']:.2f}\\t{cand_descs[rank['corpus_id']]}\")\n"
   ]
  },
  {
   "cell_type": "code",
   "execution_count": 26,
   "id": "b367deba-307f-418b-a2c5-b365b62815a4",
   "metadata": {},
   "outputs": [],
   "source": [
    "with open('cross_encoder_results_top200', 'w') as f:\n",
    "    for i, succ in enumerate(uniqueSuccessorsDesc):\n",
    "        cand_idx = top_idx[i]\n",
    "        cand_descs = uniquePredecessorDescFiltered[cand_idx]\n",
    "    \n",
    "        allRanks = modelCE.rank(succ, cand_descs)\n",
    "        top5Ranks = allRanks[:5]\n",
    "    \n",
    "        print('Successor SKU: ' + succ, file=f)\n",
    "        for rank in top5Ranks:\n",
    "            print(f\"{rank['score']:.2f}\\t{cand_descs[rank['corpus_id']]}\", file=f)"
   ]
  }
 ],
 "metadata": {
  "kernelspec": {
   "display_name": "Python 3 (ipykernel)",
   "language": "python",
   "name": "python3"
  },
  "language_info": {
   "codemirror_mode": {
    "name": "ipython",
    "version": 3
   },
   "file_extension": ".py",
   "mimetype": "text/x-python",
   "name": "python",
   "nbconvert_exporter": "python",
   "pygments_lexer": "ipython3",
   "version": "3.11.11"
  }
 },
 "nbformat": 4,
 "nbformat_minor": 5
}
