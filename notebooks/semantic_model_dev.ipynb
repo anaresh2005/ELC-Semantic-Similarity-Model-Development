{
 "cells": [
  {
   "cell_type": "markdown",
   "id": "75ec2243-b9de-4bc8-8758-700213e95901",
   "metadata": {},
   "source": [
    "## Semantic Model Development Project\n",
    "#### Last Edit: 6/16/25 by Aneesh Naresh\n",
    "##### The goal of this project is to develop a semantic similarity model capable of identifying the five most similar predecessor SKUs corresponding to a successor SKU. The project is implemented in the phases listed below:\n",
    "\n",
    "1. Environment Setup\n",
    "2. Data Inspection and String-Level Cleanup\n",
    "3. Embedding Step\n",
    "4. Vector Store Choices\n",
    "5. Retrieval Logic\n",
    "6. Evaluation Loop\n",
    "7. Packaging and Serving\n",
    "8. Extensions"
   ]
  },
  {
   "cell_type": "markdown",
   "id": "a30d8d10-73ad-4c0b-a3e0-612a6e81566a",
   "metadata": {},
   "source": [
    "#### Phase 2: Data Inspection and String-Level Cleanup"
   ]
  },
  {
   "cell_type": "code",
   "execution_count": 5,
   "id": "192c3ff2-21e7-46e6-9cd7-4c8e034ae626",
   "metadata": {},
   "outputs": [],
   "source": [
    "import pandas as pd\n",
    "import numpy as np\n",
    "import sklearn\n",
    "import tqdm\n",
    "from sentence_transformers import SentenceTransformer, CrossEncoder"
   ]
  },
  {
   "cell_type": "code",
   "execution_count": null,
   "id": "1d0c75f8-ad77-4955-b43f-74105cd8cc91",
   "metadata": {},
   "outputs": [],
   "source": [
    "SKUs = pd.read_csv(\"\")"
   ]
  }
 ],
 "metadata": {
  "kernelspec": {
   "display_name": "Python 3 (ipykernel)",
   "language": "python",
   "name": "python3"
  },
  "language_info": {
   "codemirror_mode": {
    "name": "ipython",
    "version": 3
   },
   "file_extension": ".py",
   "mimetype": "text/x-python",
   "name": "python",
   "nbconvert_exporter": "python",
   "pygments_lexer": "ipython3",
   "version": "3.11.11"
  }
 },
 "nbformat": 4,
 "nbformat_minor": 5
}
