{
 "cells": [
  {
   "cell_type": "markdown",
   "id": "52650b8f-ca39-466c-8c48-d1b7e57f3057",
   "metadata": {},
   "source": [
    "## Semantic Model Development vs. Current Fuzzy Approach\n",
    "##### Goal: Use or fine-tune a semantic, transformer based model that outperforms the current fuzzy approach in matching Successor SKU's with their \"gold standard\" Predecessor SKU. "
   ]
  },
  {
   "cell_type": "code",
   "execution_count": 1,
   "id": "9f92ccd7-7e89-4d1c-b756-0e268e9c2f2a",
   "metadata": {},
   "outputs": [],
   "source": [
    "import pandas as pd\n",
    "import numpy as np\n",
    "import torch\n",
    "from sentence_transformers import SentenceTransformer, CrossEncoder\n",
    "from normality import normalize"
   ]
  },
  {
   "cell_type": "code",
   "execution_count": 7,
   "id": "3dfca6cc-8a1d-4fb4-ae58-cc2ce0f0e240",
   "metadata": {},
   "outputs": [],
   "source": [
    "df = pd.read_csv(\"data/npl_neighbor_complete_data_for_sentencetransformer.csv\")"
   ]
  },
  {
   "cell_type": "code",
   "execution_count": null,
   "id": "3ce42c0c-f944-48da-9bc4-978835c266ed",
   "metadata": {},
   "outputs": [],
   "source": []
  }
 ],
 "metadata": {
  "kernelspec": {
   "display_name": "Python 3 (ipykernel)",
   "language": "python",
   "name": "python3"
  },
  "language_info": {
   "codemirror_mode": {
    "name": "ipython",
    "version": 3
   },
   "file_extension": ".py",
   "mimetype": "text/x-python",
   "name": "python",
   "nbconvert_exporter": "python",
   "pygments_lexer": "ipython3",
   "version": "3.11.11"
  }
 },
 "nbformat": 4,
 "nbformat_minor": 5
}
