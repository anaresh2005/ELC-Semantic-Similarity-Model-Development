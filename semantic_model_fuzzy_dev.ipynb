{
 "cells": [
  {
   "cell_type": "markdown",
   "id": "fadb42b8-9029-441f-b5cd-3236406bea9a",
   "metadata": {},
   "source": [
    "## Semantic Model Development vs. Current Fuzzy Approach\n",
    "##### Goal: Use or fine-tune a s emantic, transformer based model that outperforms the current fuzzy approach in matching Successor SKU's with their \"gold standard\" Predecessor SKU. "
   ]
  },
  {
   "cell_type": "code",
   "execution_count": null,
   "id": "12983183-8a1e-44ae-be93-92d5acf064e5",
   "metadata": {},
   "outputs": [],
   "source": []
  }
 ],
 "metadata": {
  "kernelspec": {
   "display_name": "Python 3 (ipykernel)",
   "language": "python",
   "name": "python3"
  },
  "language_info": {
   "codemirror_mode": {
    "name": "ipython",
    "version": 3
   },
   "file_extension": ".py",
   "mimetype": "text/x-python",
   "name": "python",
   "nbconvert_exporter": "python",
   "pygments_lexer": "ipython3",
   "version": "3.11.11"
  }
 },
 "nbformat": 4,
 "nbformat_minor": 5
}
