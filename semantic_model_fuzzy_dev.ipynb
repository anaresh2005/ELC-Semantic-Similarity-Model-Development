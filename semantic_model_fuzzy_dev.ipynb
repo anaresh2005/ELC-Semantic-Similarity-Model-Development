{
 "cells": [
  {
   "cell_type": "markdown",
   "id": "fadb42b8-9029-441f-b5cd-3236406bea9a",
   "metadata": {},
   "source": [
    "## Semantic Model Development vs. Current Fuzzy Approach\n",
    "##### Goal: Use or fine-tune a semantic, transformer based model that outperforms the current fuzzy approach in matching Successor SKU's with their \"gold standard\" Predecessor SKU. "
   ]
  },
  {
   "cell_type": "code",
   "execution_count": 1,
   "id": "12983183-8a1e-44ae-be93-92d5acf064e5",
   "metadata": {},
   "outputs": [],
   "source": [
    "%load_ext autoreload\n",
    "%autoreload 2"
   ]
  },
  {
   "cell_type": "code",
   "execution_count": 43,
   "id": "b3f25084-ee72-4c59-9690-d0150ab44128",
   "metadata": {},
   "outputs": [],
   "source": [
    "import pandas as pd\n",
    "import numpy as np\n",
    "import torch\n",
    "import sklearn\n",
    "from sentence_transformers import SentenceTransformer, CrossEncoder\n",
    "from normality import normalize\n",
    "from src.data_processing import load_and_process\n",
    "from src.eval import eval_fuzzy, eval_trans"
   ]
  },
  {
   "cell_type": "code",
   "execution_count": 3,
   "id": "14e7a8bf-1162-4e3c-a22a-1ca68abd2aa1",
   "metadata": {},
   "outputs": [],
   "source": [
    "df = load_and_process(\"data/npl_neighbor_complete_data_for_sentencetransformer.csv\")"
   ]
  },
  {
   "cell_type": "code",
   "execution_count": 4,
   "id": "5faada1c-c6ff-4199-8ea3-b58c546df91f",
   "metadata": {},
   "outputs": [
    {
     "name": "stdout",
     "output_type": "stream",
     "text": [
      "<class 'pandas.core.frame.DataFrame'>\n",
      "Index: 633989 entries, 0 to 696728\n",
      "Data columns (total 10 columns):\n",
      " #   Column                             Non-Null Count   Dtype  \n",
      "---  ------                             --------------   -----  \n",
      " 0   npl_prodord                        633989 non-null  object \n",
      " 1   npl_prodord_desc                   633989 non-null  object \n",
      " 2   neighbor_prodord                   633989 non-null  object \n",
      " 3   neighbor_prodord_desc              633989 non-null  object \n",
      " 4   fuzzy_score                        633989 non-null  float64\n",
      " 5   row_number                         633989 non-null  int64  \n",
      " 6   predecessor_prodord_ramesses       633989 non-null  object \n",
      " 7   predecessor_prodord_desc_ramesses  633989 non-null  object \n",
      " 8   manual_match                       633989 non-null  object \n",
      " 9   PREDECESSOR TYPE                   633989 non-null  object \n",
      "dtypes: float64(1), int64(1), object(8)\n",
      "memory usage: 53.2+ MB\n"
     ]
    }
   ],
   "source": [
    "df.info()"
   ]
  },
  {
   "cell_type": "code",
   "execution_count": 5,
   "id": "f4cb581a-f6f1-4c00-8efa-86e9d2a8c5e7",
   "metadata": {},
   "outputs": [
    {
     "data": {
      "text/html": [
       "<div>\n",
       "<style scoped>\n",
       "    .dataframe tbody tr th:only-of-type {\n",
       "        vertical-align: middle;\n",
       "    }\n",
       "\n",
       "    .dataframe tbody tr th {\n",
       "        vertical-align: top;\n",
       "    }\n",
       "\n",
       "    .dataframe thead th {\n",
       "        text-align: right;\n",
       "    }\n",
       "</style>\n",
       "<table border=\"1\" class=\"dataframe\">\n",
       "  <thead>\n",
       "    <tr style=\"text-align: right;\">\n",
       "      <th></th>\n",
       "      <th>npl_prodord</th>\n",
       "      <th>npl_prodord_desc</th>\n",
       "      <th>neighbor_prodord</th>\n",
       "      <th>neighbor_prodord_desc</th>\n",
       "      <th>fuzzy_score</th>\n",
       "      <th>row_number</th>\n",
       "      <th>predecessor_prodord_ramesses</th>\n",
       "      <th>predecessor_prodord_desc_ramesses</th>\n",
       "      <th>manual_match</th>\n",
       "      <th>PREDECESSOR TYPE</th>\n",
       "    </tr>\n",
       "  </thead>\n",
       "  <tbody>\n",
       "    <tr>\n",
       "      <th>0</th>\n",
       "      <td>0WLY01</td>\n",
       "      <td>GINGER BURST HND&amp;BDY WSH 200ML</td>\n",
       "      <td>0MCX01</td>\n",
       "      <td>GINGER BODY WASH 200ML</td>\n",
       "      <td>0.77</td>\n",
       "      <td>1</td>\n",
       "      <td>0MCX01</td>\n",
       "      <td>GINGER BODY WASH 200ML</td>\n",
       "      <td>YES</td>\n",
       "      <td>STAR PREDECESSOR</td>\n",
       "    </tr>\n",
       "    <tr>\n",
       "      <th>1</th>\n",
       "      <td>0WLY01</td>\n",
       "      <td>GINGER BURST HND&amp;BDY WSH 200ML</td>\n",
       "      <td>0JYH01</td>\n",
       "      <td>GINGER BURST 200ML</td>\n",
       "      <td>0.75</td>\n",
       "      <td>2</td>\n",
       "      <td>0MCX01</td>\n",
       "      <td>GINGER BODY WASH 200ML</td>\n",
       "      <td>n</td>\n",
       "      <td>STAR PREDECESSOR</td>\n",
       "    </tr>\n",
       "    <tr>\n",
       "      <th>2</th>\n",
       "      <td>0WLY01</td>\n",
       "      <td>GINGER BURST HND&amp;BDY WSH 200ML</td>\n",
       "      <td>027T01</td>\n",
       "      <td>GINGER BODY WASH 250ML</td>\n",
       "      <td>0.73</td>\n",
       "      <td>3</td>\n",
       "      <td>0MCX01</td>\n",
       "      <td>GINGER BODY WASH 200ML</td>\n",
       "      <td>n</td>\n",
       "      <td>STAR PREDECESSOR</td>\n",
       "    </tr>\n",
       "    <tr>\n",
       "      <th>3</th>\n",
       "      <td>0WLY01</td>\n",
       "      <td>GINGER BURST HND&amp;BDY WSH 200ML</td>\n",
       "      <td>0F4501</td>\n",
       "      <td>GINGER HAND CLEANSER 200ML</td>\n",
       "      <td>0.64</td>\n",
       "      <td>4</td>\n",
       "      <td>0MCX01</td>\n",
       "      <td>GINGER BODY WASH 200ML</td>\n",
       "      <td>n</td>\n",
       "      <td>STAR PREDECESSOR</td>\n",
       "    </tr>\n",
       "    <tr>\n",
       "      <th>4</th>\n",
       "      <td>0WLY01</td>\n",
       "      <td>GINGER BURST HND&amp;BDY WSH 200ML</td>\n",
       "      <td>0MCW01</td>\n",
       "      <td>GINGER HAND CLEANSER 200ML</td>\n",
       "      <td>0.64</td>\n",
       "      <td>5</td>\n",
       "      <td>0MCX01</td>\n",
       "      <td>GINGER BODY WASH 200ML</td>\n",
       "      <td>n</td>\n",
       "      <td>STAR PREDECESSOR</td>\n",
       "    </tr>\n",
       "    <tr>\n",
       "      <th>5</th>\n",
       "      <td>0WLY01</td>\n",
       "      <td>GINGER BURST HND&amp;BDY WSH 200ML</td>\n",
       "      <td>829D01</td>\n",
       "      <td>GNGR EXFLTNG BODY WASH 200ML</td>\n",
       "      <td>0.62</td>\n",
       "      <td>6</td>\n",
       "      <td>0MCX01</td>\n",
       "      <td>GINGER BODY WASH 200ML</td>\n",
       "      <td>n</td>\n",
       "      <td>STAR PREDECESSOR</td>\n",
       "    </tr>\n",
       "    <tr>\n",
       "      <th>6</th>\n",
       "      <td>0WLY01</td>\n",
       "      <td>GINGER BURST HND&amp;BDY WSH 200ML</td>\n",
       "      <td>0GML01</td>\n",
       "      <td>GINGER BATH SOAP 200GM</td>\n",
       "      <td>0.62</td>\n",
       "      <td>7</td>\n",
       "      <td>0MCX01</td>\n",
       "      <td>GINGER BODY WASH 200ML</td>\n",
       "      <td>n</td>\n",
       "      <td>STAR PREDECESSOR</td>\n",
       "    </tr>\n",
       "    <tr>\n",
       "      <th>7</th>\n",
       "      <td>0WLY01</td>\n",
       "      <td>GINGER BURST HND&amp;BDY WSH 200ML</td>\n",
       "      <td>0MCT01</td>\n",
       "      <td>GINGER SOAP 200GM</td>\n",
       "      <td>0.55</td>\n",
       "      <td>8</td>\n",
       "      <td>0MCX01</td>\n",
       "      <td>GINGER BODY WASH 200ML</td>\n",
       "      <td>n</td>\n",
       "      <td>STAR PREDECESSOR</td>\n",
       "    </tr>\n",
       "    <tr>\n",
       "      <th>8</th>\n",
       "      <td>0WLY01</td>\n",
       "      <td>GINGER BURST HND&amp;BDY WSH 200ML</td>\n",
       "      <td>027R01</td>\n",
       "      <td>GINGER SOAP 300GM</td>\n",
       "      <td>0.51</td>\n",
       "      <td>9</td>\n",
       "      <td>0MCX01</td>\n",
       "      <td>GINGER BODY WASH 200ML</td>\n",
       "      <td>n</td>\n",
       "      <td>STAR PREDECESSOR</td>\n",
       "    </tr>\n",
       "    <tr>\n",
       "      <th>9</th>\n",
       "      <td>0WLY01</td>\n",
       "      <td>GINGER BURST HND&amp;BDY WSH 200ML</td>\n",
       "      <td>00TQ01</td>\n",
       "      <td>GINGER FLOAT CREAM BUBBL</td>\n",
       "      <td>0.41</td>\n",
       "      <td>10</td>\n",
       "      <td>0MCX01</td>\n",
       "      <td>GINGER BODY WASH 200ML</td>\n",
       "      <td>n</td>\n",
       "      <td>STAR PREDECESSOR</td>\n",
       "    </tr>\n",
       "    <tr>\n",
       "      <th>10</th>\n",
       "      <td>0WM001</td>\n",
       "      <td>GINGER HAND &amp; BODY LOTIO 200ML</td>\n",
       "      <td>0WM101</td>\n",
       "      <td>GINGER HAND &amp; BODY LOTIO 75ML</td>\n",
       "      <td>0.91</td>\n",
       "      <td>1</td>\n",
       "      <td>0MCN01</td>\n",
       "      <td>GINGER HAND LOTION 200ML</td>\n",
       "      <td>n</td>\n",
       "      <td>STAR PREDECESSOR</td>\n",
       "    </tr>\n",
       "    <tr>\n",
       "      <th>11</th>\n",
       "      <td>0WM001</td>\n",
       "      <td>GINGER HAND &amp; BODY LOTIO 200ML</td>\n",
       "      <td>0MCN01</td>\n",
       "      <td>GINGER HAND LOTION 200ML</td>\n",
       "      <td>0.88</td>\n",
       "      <td>2</td>\n",
       "      <td>0MCN01</td>\n",
       "      <td>GINGER HAND LOTION 200ML</td>\n",
       "      <td>YES</td>\n",
       "      <td>STAR PREDECESSOR</td>\n",
       "    </tr>\n",
       "    <tr>\n",
       "      <th>12</th>\n",
       "      <td>0WM001</td>\n",
       "      <td>GINGER HAND &amp; BODY LOTIO 200ML</td>\n",
       "      <td>0F4601</td>\n",
       "      <td>GINGER HAND LOTION 200ML</td>\n",
       "      <td>0.88</td>\n",
       "      <td>3</td>\n",
       "      <td>0MCN01</td>\n",
       "      <td>GINGER HAND LOTION 200ML</td>\n",
       "      <td>n</td>\n",
       "      <td>STAR PREDECESSOR</td>\n",
       "    </tr>\n",
       "    <tr>\n",
       "      <th>13</th>\n",
       "      <td>0WM001</td>\n",
       "      <td>GINGER HAND &amp; BODY LOTIO 200ML</td>\n",
       "      <td>0MCL01</td>\n",
       "      <td>GINGER BODY BALM 200ML</td>\n",
       "      <td>0.68</td>\n",
       "      <td>4</td>\n",
       "      <td>0MCN01</td>\n",
       "      <td>GINGER HAND LOTION 200ML</td>\n",
       "      <td>n</td>\n",
       "      <td>STAR PREDECESSOR</td>\n",
       "    </tr>\n",
       "    <tr>\n",
       "      <th>14</th>\n",
       "      <td>0WM001</td>\n",
       "      <td>GINGER HAND &amp; BODY LOTIO 200ML</td>\n",
       "      <td>80AB01</td>\n",
       "      <td>GINGER BODY SOUFFLE 100ML</td>\n",
       "      <td>0.68</td>\n",
       "      <td>5</td>\n",
       "      <td>0MCN01</td>\n",
       "      <td>GINGER HAND LOTION 200ML</td>\n",
       "      <td>n</td>\n",
       "      <td>STAR PREDECESSOR</td>\n",
       "    </tr>\n",
       "    <tr>\n",
       "      <th>15</th>\n",
       "      <td>0WM001</td>\n",
       "      <td>GINGER HAND &amp; BODY LOTIO 200ML</td>\n",
       "      <td>0MCK01</td>\n",
       "      <td>GINGER BODY CREAM 200ML</td>\n",
       "      <td>0.67</td>\n",
       "      <td>6</td>\n",
       "      <td>0MCN01</td>\n",
       "      <td>GINGER HAND LOTION 200ML</td>\n",
       "      <td>n</td>\n",
       "      <td>STAR PREDECESSOR</td>\n",
       "    </tr>\n",
       "    <tr>\n",
       "      <th>16</th>\n",
       "      <td>0WM001</td>\n",
       "      <td>GINGER HAND &amp; BODY LOTIO 200ML</td>\n",
       "      <td>83CN01</td>\n",
       "      <td>GINGER MOISTR HAND CREAM 75ML</td>\n",
       "      <td>0.63</td>\n",
       "      <td>7</td>\n",
       "      <td>0MCN01</td>\n",
       "      <td>GINGER HAND LOTION 200ML</td>\n",
       "      <td>n</td>\n",
       "      <td>STAR PREDECESSOR</td>\n",
       "    </tr>\n",
       "    <tr>\n",
       "      <th>17</th>\n",
       "      <td>0WM001</td>\n",
       "      <td>GINGER HAND &amp; BODY LOTIO 200ML</td>\n",
       "      <td>80SP01</td>\n",
       "      <td>GINGER MSTRZNG HAND CREA 30ML</td>\n",
       "      <td>0.63</td>\n",
       "      <td>8</td>\n",
       "      <td>0MCN01</td>\n",
       "      <td>GINGER HAND LOTION 200ML</td>\n",
       "      <td>n</td>\n",
       "      <td>STAR PREDECESSOR</td>\n",
       "    </tr>\n",
       "    <tr>\n",
       "      <th>18</th>\n",
       "      <td>0WM001</td>\n",
       "      <td>GINGER HAND &amp; BODY LOTIO 200ML</td>\n",
       "      <td>026N01</td>\n",
       "      <td>GINGER CLOUD BODY BALM 200ML</td>\n",
       "      <td>0.61</td>\n",
       "      <td>9</td>\n",
       "      <td>0MCN01</td>\n",
       "      <td>GINGER HAND LOTION 200ML</td>\n",
       "      <td>n</td>\n",
       "      <td>STAR PREDECESSOR</td>\n",
       "    </tr>\n",
       "    <tr>\n",
       "      <th>19</th>\n",
       "      <td>0WM001</td>\n",
       "      <td>GINGER HAND &amp; BODY LOTIO 200ML</td>\n",
       "      <td>028X01</td>\n",
       "      <td>GINGER SOUFFLE BDY CREAM 250ML</td>\n",
       "      <td>0.59</td>\n",
       "      <td>10</td>\n",
       "      <td>0MCN01</td>\n",
       "      <td>GINGER HAND LOTION 200ML</td>\n",
       "      <td>n</td>\n",
       "      <td>STAR PREDECESSOR</td>\n",
       "    </tr>\n",
       "  </tbody>\n",
       "</table>\n",
       "</div>"
      ],
      "text/plain": [
       "   npl_prodord                npl_prodord_desc neighbor_prodord  \\\n",
       "0       0WLY01  GINGER BURST HND&BDY WSH 200ML           0MCX01   \n",
       "1       0WLY01  GINGER BURST HND&BDY WSH 200ML           0JYH01   \n",
       "2       0WLY01  GINGER BURST HND&BDY WSH 200ML           027T01   \n",
       "3       0WLY01  GINGER BURST HND&BDY WSH 200ML           0F4501   \n",
       "4       0WLY01  GINGER BURST HND&BDY WSH 200ML           0MCW01   \n",
       "5       0WLY01  GINGER BURST HND&BDY WSH 200ML           829D01   \n",
       "6       0WLY01  GINGER BURST HND&BDY WSH 200ML           0GML01   \n",
       "7       0WLY01  GINGER BURST HND&BDY WSH 200ML           0MCT01   \n",
       "8       0WLY01  GINGER BURST HND&BDY WSH 200ML           027R01   \n",
       "9       0WLY01  GINGER BURST HND&BDY WSH 200ML           00TQ01   \n",
       "10      0WM001  GINGER HAND & BODY LOTIO 200ML           0WM101   \n",
       "11      0WM001  GINGER HAND & BODY LOTIO 200ML           0MCN01   \n",
       "12      0WM001  GINGER HAND & BODY LOTIO 200ML           0F4601   \n",
       "13      0WM001  GINGER HAND & BODY LOTIO 200ML           0MCL01   \n",
       "14      0WM001  GINGER HAND & BODY LOTIO 200ML           80AB01   \n",
       "15      0WM001  GINGER HAND & BODY LOTIO 200ML           0MCK01   \n",
       "16      0WM001  GINGER HAND & BODY LOTIO 200ML           83CN01   \n",
       "17      0WM001  GINGER HAND & BODY LOTIO 200ML           80SP01   \n",
       "18      0WM001  GINGER HAND & BODY LOTIO 200ML           026N01   \n",
       "19      0WM001  GINGER HAND & BODY LOTIO 200ML           028X01   \n",
       "\n",
       "             neighbor_prodord_desc  fuzzy_score  row_number  \\\n",
       "0           GINGER BODY WASH 200ML         0.77           1   \n",
       "1               GINGER BURST 200ML         0.75           2   \n",
       "2           GINGER BODY WASH 250ML         0.73           3   \n",
       "3       GINGER HAND CLEANSER 200ML         0.64           4   \n",
       "4       GINGER HAND CLEANSER 200ML         0.64           5   \n",
       "5     GNGR EXFLTNG BODY WASH 200ML         0.62           6   \n",
       "6           GINGER BATH SOAP 200GM         0.62           7   \n",
       "7                GINGER SOAP 200GM         0.55           8   \n",
       "8                GINGER SOAP 300GM         0.51           9   \n",
       "9         GINGER FLOAT CREAM BUBBL         0.41          10   \n",
       "10   GINGER HAND & BODY LOTIO 75ML         0.91           1   \n",
       "11        GINGER HAND LOTION 200ML         0.88           2   \n",
       "12        GINGER HAND LOTION 200ML         0.88           3   \n",
       "13          GINGER BODY BALM 200ML         0.68           4   \n",
       "14       GINGER BODY SOUFFLE 100ML         0.68           5   \n",
       "15         GINGER BODY CREAM 200ML         0.67           6   \n",
       "16   GINGER MOISTR HAND CREAM 75ML         0.63           7   \n",
       "17   GINGER MSTRZNG HAND CREA 30ML         0.63           8   \n",
       "18    GINGER CLOUD BODY BALM 200ML         0.61           9   \n",
       "19  GINGER SOUFFLE BDY CREAM 250ML         0.59          10   \n",
       "\n",
       "   predecessor_prodord_ramesses predecessor_prodord_desc_ramesses  \\\n",
       "0                        0MCX01            GINGER BODY WASH 200ML   \n",
       "1                        0MCX01            GINGER BODY WASH 200ML   \n",
       "2                        0MCX01            GINGER BODY WASH 200ML   \n",
       "3                        0MCX01            GINGER BODY WASH 200ML   \n",
       "4                        0MCX01            GINGER BODY WASH 200ML   \n",
       "5                        0MCX01            GINGER BODY WASH 200ML   \n",
       "6                        0MCX01            GINGER BODY WASH 200ML   \n",
       "7                        0MCX01            GINGER BODY WASH 200ML   \n",
       "8                        0MCX01            GINGER BODY WASH 200ML   \n",
       "9                        0MCX01            GINGER BODY WASH 200ML   \n",
       "10                       0MCN01          GINGER HAND LOTION 200ML   \n",
       "11                       0MCN01          GINGER HAND LOTION 200ML   \n",
       "12                       0MCN01          GINGER HAND LOTION 200ML   \n",
       "13                       0MCN01          GINGER HAND LOTION 200ML   \n",
       "14                       0MCN01          GINGER HAND LOTION 200ML   \n",
       "15                       0MCN01          GINGER HAND LOTION 200ML   \n",
       "16                       0MCN01          GINGER HAND LOTION 200ML   \n",
       "17                       0MCN01          GINGER HAND LOTION 200ML   \n",
       "18                       0MCN01          GINGER HAND LOTION 200ML   \n",
       "19                       0MCN01          GINGER HAND LOTION 200ML   \n",
       "\n",
       "   manual_match  PREDECESSOR TYPE  \n",
       "0           YES  STAR PREDECESSOR  \n",
       "1             n  STAR PREDECESSOR  \n",
       "2             n  STAR PREDECESSOR  \n",
       "3             n  STAR PREDECESSOR  \n",
       "4             n  STAR PREDECESSOR  \n",
       "5             n  STAR PREDECESSOR  \n",
       "6             n  STAR PREDECESSOR  \n",
       "7             n  STAR PREDECESSOR  \n",
       "8             n  STAR PREDECESSOR  \n",
       "9             n  STAR PREDECESSOR  \n",
       "10            n  STAR PREDECESSOR  \n",
       "11          YES  STAR PREDECESSOR  \n",
       "12            n  STAR PREDECESSOR  \n",
       "13            n  STAR PREDECESSOR  \n",
       "14            n  STAR PREDECESSOR  \n",
       "15            n  STAR PREDECESSOR  \n",
       "16            n  STAR PREDECESSOR  \n",
       "17            n  STAR PREDECESSOR  \n",
       "18            n  STAR PREDECESSOR  \n",
       "19            n  STAR PREDECESSOR  "
      ]
     },
     "execution_count": 5,
     "metadata": {},
     "output_type": "execute_result"
    }
   ],
   "source": [
    "df.head(20)"
   ]
  },
  {
   "cell_type": "code",
   "execution_count": 7,
   "id": "7b1fa056-d64c-4746-9b88-47b0d68f94f8",
   "metadata": {},
   "outputs": [
    {
     "data": {
      "application/vnd.jupyter.widget-view+json": {
       "model_id": "cad639e20dd3493faf23da7b94b08a4b",
       "version_major": 2,
       "version_minor": 0
      },
      "text/plain": [
       "modules.json:   0%|          | 0.00/349 [00:00<?, ?B/s]"
      ]
     },
     "metadata": {},
     "output_type": "display_data"
    },
    {
     "data": {
      "application/vnd.jupyter.widget-view+json": {
       "model_id": "7dc5a8cbc7514f7f8c9fc08fa63bbe90",
       "version_major": 2,
       "version_minor": 0
      },
      "text/plain": [
       "config_sentence_transformers.json:   0%|          | 0.00/215 [00:00<?, ?B/s]"
      ]
     },
     "metadata": {},
     "output_type": "display_data"
    },
    {
     "data": {
      "application/vnd.jupyter.widget-view+json": {
       "model_id": "0a82e2abc8044dfb97c86ff3b1975bae",
       "version_major": 2,
       "version_minor": 0
      },
      "text/plain": [
       "README.md: 0.00B [00:00, ?B/s]"
      ]
     },
     "metadata": {},
     "output_type": "display_data"
    },
    {
     "data": {
      "application/vnd.jupyter.widget-view+json": {
       "model_id": "7df35bfff1db407fa54fc753c3995112",
       "version_major": 2,
       "version_minor": 0
      },
      "text/plain": [
       "config.json:   0%|          | 0.00/727 [00:00<?, ?B/s]"
      ]
     },
     "metadata": {},
     "output_type": "display_data"
    },
    {
     "data": {
      "application/vnd.jupyter.widget-view+json": {
       "model_id": "5b5936c177074e99b479c564604b6093",
       "version_major": 2,
       "version_minor": 0
      },
      "text/plain": [
       "model.safetensors:   0%|          | 0.00/1.19G [00:00<?, ?B/s]"
      ]
     },
     "metadata": {},
     "output_type": "display_data"
    },
    {
     "data": {
      "application/vnd.jupyter.widget-view+json": {
       "model_id": "a2b92d51d6eb41fe8084fa1439f312ef",
       "version_major": 2,
       "version_minor": 0
      },
      "text/plain": [
       "tokenizer_config.json: 0.00B [00:00, ?B/s]"
      ]
     },
     "metadata": {},
     "output_type": "display_data"
    },
    {
     "data": {
      "application/vnd.jupyter.widget-view+json": {
       "model_id": "9f64ab7a8a8e477cbe9fc33127902ca3",
       "version_major": 2,
       "version_minor": 0
      },
      "text/plain": [
       "vocab.json: 0.00B [00:00, ?B/s]"
      ]
     },
     "metadata": {},
     "output_type": "display_data"
    },
    {
     "data": {
      "application/vnd.jupyter.widget-view+json": {
       "model_id": "ef2d7347fd72452db16df85fc6c35ff8",
       "version_major": 2,
       "version_minor": 0
      },
      "text/plain": [
       "merges.txt: 0.00B [00:00, ?B/s]"
      ]
     },
     "metadata": {},
     "output_type": "display_data"
    },
    {
     "data": {
      "application/vnd.jupyter.widget-view+json": {
       "model_id": "d1419c1a53924b14a1b896d8e98529b7",
       "version_major": 2,
       "version_minor": 0
      },
      "text/plain": [
       "tokenizer.json:   0%|          | 0.00/11.4M [00:00<?, ?B/s]"
      ]
     },
     "metadata": {},
     "output_type": "display_data"
    },
    {
     "data": {
      "application/vnd.jupyter.widget-view+json": {
       "model_id": "f378360a523f452a980005d459f6a7c2",
       "version_major": 2,
       "version_minor": 0
      },
      "text/plain": [
       "config.json:   0%|          | 0.00/313 [00:00<?, ?B/s]"
      ]
     },
     "metadata": {},
     "output_type": "display_data"
    }
   ],
   "source": [
    "model = SentenceTransformer(\"Qwen/Qwen3-Embedding-0.6B\")"
   ]
  },
  {
   "cell_type": "code",
   "execution_count": 9,
   "id": "d012e0f1-2c64-4bfc-843f-49565c0bda9a",
   "metadata": {},
   "outputs": [],
   "source": [
    "all_descs = pd.concat([df[\"npl_prodord_desc\"], df[\"neighbor_prodord_desc\"]]).unique()"
   ]
  },
  {
   "cell_type": "code",
   "execution_count": 10,
   "id": "41351b3e-1675-49c0-a44c-655d4a48b4c7",
   "metadata": {},
   "outputs": [
    {
     "data": {
      "text/plain": [
       "18135"
      ]
     },
     "execution_count": 10,
     "metadata": {},
     "output_type": "execute_result"
    }
   ],
   "source": [
    "len(all_descs)"
   ]
  },
  {
   "cell_type": "code",
   "execution_count": 18,
   "id": "f99851c1-1214-4a9c-a96c-2a19585b2028",
   "metadata": {},
   "outputs": [
    {
     "data": {
      "application/vnd.jupyter.widget-view+json": {
       "model_id": "a70e7bf8ee954e7694c2e5997a8dc569",
       "version_major": 2,
       "version_minor": 0
      },
      "text/plain": [
       "Batches:   0%|          | 0/8 [00:00<?, ?it/s]"
      ]
     },
     "metadata": {},
     "output_type": "display_data"
    },
    {
     "data": {
      "application/vnd.jupyter.widget-view+json": {
       "model_id": "9d019fda56d440be9da8c63b715ee292",
       "version_major": 2,
       "version_minor": 0
      },
      "text/plain": [
       "Batches:   0%|          | 0/8 [00:00<?, ?it/s]"
      ]
     },
     "metadata": {},
     "output_type": "display_data"
    },
    {
     "data": {
      "application/vnd.jupyter.widget-view+json": {
       "model_id": "2a568260a9b7402b9b8d9f8f929217f8",
       "version_major": 2,
       "version_minor": 0
      },
      "text/plain": [
       "Batches:   0%|          | 0/8 [00:00<?, ?it/s]"
      ]
     },
     "metadata": {},
     "output_type": "display_data"
    },
    {
     "data": {
      "application/vnd.jupyter.widget-view+json": {
       "model_id": "27a0f57874d64beb87dd32e1806153de",
       "version_major": 2,
       "version_minor": 0
      },
      "text/plain": [
       "Batches:   0%|          | 0/8 [00:00<?, ?it/s]"
      ]
     },
     "metadata": {},
     "output_type": "display_data"
    },
    {
     "data": {
      "application/vnd.jupyter.widget-view+json": {
       "model_id": "a9369998064e4a10bf253f581f6cd155",
       "version_major": 2,
       "version_minor": 0
      },
      "text/plain": [
       "Batches:   0%|          | 0/8 [00:00<?, ?it/s]"
      ]
     },
     "metadata": {},
     "output_type": "display_data"
    },
    {
     "data": {
      "application/vnd.jupyter.widget-view+json": {
       "model_id": "2eb8dec7e9c94f02be96f00de65b35cf",
       "version_major": 2,
       "version_minor": 0
      },
      "text/plain": [
       "Batches:   0%|          | 0/8 [00:00<?, ?it/s]"
      ]
     },
     "metadata": {},
     "output_type": "display_data"
    },
    {
     "data": {
      "application/vnd.jupyter.widget-view+json": {
       "model_id": "ee580d5cb5e64d15a86972274f54da53",
       "version_major": 2,
       "version_minor": 0
      },
      "text/plain": [
       "Batches:   0%|          | 0/8 [00:00<?, ?it/s]"
      ]
     },
     "metadata": {},
     "output_type": "display_data"
    },
    {
     "data": {
      "application/vnd.jupyter.widget-view+json": {
       "model_id": "3ae0ae88d32046fc946851646d6ecf7e",
       "version_major": 2,
       "version_minor": 0
      },
      "text/plain": [
       "Batches:   0%|          | 0/8 [00:00<?, ?it/s]"
      ]
     },
     "metadata": {},
     "output_type": "display_data"
    },
    {
     "data": {
      "application/vnd.jupyter.widget-view+json": {
       "model_id": "fdade9c153ca44c9995544f5513c5fa7",
       "version_major": 2,
       "version_minor": 0
      },
      "text/plain": [
       "Batches:   0%|          | 0/8 [00:00<?, ?it/s]"
      ]
     },
     "metadata": {},
     "output_type": "display_data"
    },
    {
     "data": {
      "application/vnd.jupyter.widget-view+json": {
       "model_id": "906dfa0d0a9e4a39ab8e92b6ee929bba",
       "version_major": 2,
       "version_minor": 0
      },
      "text/plain": [
       "Batches:   0%|          | 0/8 [00:00<?, ?it/s]"
      ]
     },
     "metadata": {},
     "output_type": "display_data"
    },
    {
     "data": {
      "application/vnd.jupyter.widget-view+json": {
       "model_id": "7a86090927234d4595dc5f1f2bfa5b4c",
       "version_major": 2,
       "version_minor": 0
      },
      "text/plain": [
       "Batches:   0%|          | 0/8 [00:00<?, ?it/s]"
      ]
     },
     "metadata": {},
     "output_type": "display_data"
    },
    {
     "data": {
      "application/vnd.jupyter.widget-view+json": {
       "model_id": "7a27d2af1ce54d02b1bd9b72859304e4",
       "version_major": 2,
       "version_minor": 0
      },
      "text/plain": [
       "Batches:   0%|          | 0/8 [00:00<?, ?it/s]"
      ]
     },
     "metadata": {},
     "output_type": "display_data"
    },
    {
     "data": {
      "application/vnd.jupyter.widget-view+json": {
       "model_id": "ea723042a2c54928b9e79eff42f88b0e",
       "version_major": 2,
       "version_minor": 0
      },
      "text/plain": [
       "Batches:   0%|          | 0/8 [00:00<?, ?it/s]"
      ]
     },
     "metadata": {},
     "output_type": "display_data"
    },
    {
     "data": {
      "application/vnd.jupyter.widget-view+json": {
       "model_id": "77730667a3ac4beb927dac48aa0bd1b1",
       "version_major": 2,
       "version_minor": 0
      },
      "text/plain": [
       "Batches:   0%|          | 0/8 [00:00<?, ?it/s]"
      ]
     },
     "metadata": {},
     "output_type": "display_data"
    },
    {
     "data": {
      "application/vnd.jupyter.widget-view+json": {
       "model_id": "f3768fa8156a4ccfafc022354606d2a6",
       "version_major": 2,
       "version_minor": 0
      },
      "text/plain": [
       "Batches:   0%|          | 0/8 [00:00<?, ?it/s]"
      ]
     },
     "metadata": {},
     "output_type": "display_data"
    },
    {
     "data": {
      "application/vnd.jupyter.widget-view+json": {
       "model_id": "5f287e6a97624c6c87130ec8f046ccf8",
       "version_major": 2,
       "version_minor": 0
      },
      "text/plain": [
       "Batches:   0%|          | 0/8 [00:00<?, ?it/s]"
      ]
     },
     "metadata": {},
     "output_type": "display_data"
    },
    {
     "data": {
      "application/vnd.jupyter.widget-view+json": {
       "model_id": "c498e1f1d2a944b9bb67e0b97ae255ea",
       "version_major": 2,
       "version_minor": 0
      },
      "text/plain": [
       "Batches:   0%|          | 0/8 [00:00<?, ?it/s]"
      ]
     },
     "metadata": {},
     "output_type": "display_data"
    },
    {
     "data": {
      "application/vnd.jupyter.widget-view+json": {
       "model_id": "bc305f490e454356bb48b97ae1688881",
       "version_major": 2,
       "version_minor": 0
      },
      "text/plain": [
       "Batches:   0%|          | 0/8 [00:00<?, ?it/s]"
      ]
     },
     "metadata": {},
     "output_type": "display_data"
    },
    {
     "data": {
      "application/vnd.jupyter.widget-view+json": {
       "model_id": "4aaf2a4803434563a808838006e5a353",
       "version_major": 2,
       "version_minor": 0
      },
      "text/plain": [
       "Batches:   0%|          | 0/8 [00:00<?, ?it/s]"
      ]
     },
     "metadata": {},
     "output_type": "display_data"
    },
    {
     "data": {
      "application/vnd.jupyter.widget-view+json": {
       "model_id": "53de020538a64430831eca8bf7359fa0",
       "version_major": 2,
       "version_minor": 0
      },
      "text/plain": [
       "Batches:   0%|          | 0/8 [00:00<?, ?it/s]"
      ]
     },
     "metadata": {},
     "output_type": "display_data"
    },
    {
     "data": {
      "application/vnd.jupyter.widget-view+json": {
       "model_id": "20f404a7e34a4963bdf802874918124a",
       "version_major": 2,
       "version_minor": 0
      },
      "text/plain": [
       "Batches:   0%|          | 0/8 [00:00<?, ?it/s]"
      ]
     },
     "metadata": {},
     "output_type": "display_data"
    },
    {
     "data": {
      "application/vnd.jupyter.widget-view+json": {
       "model_id": "3600ba5da858434c932b80829adc3c92",
       "version_major": 2,
       "version_minor": 0
      },
      "text/plain": [
       "Batches:   0%|          | 0/8 [00:00<?, ?it/s]"
      ]
     },
     "metadata": {},
     "output_type": "display_data"
    },
    {
     "data": {
      "application/vnd.jupyter.widget-view+json": {
       "model_id": "dd7118d4d79c465ca6ee6620650a3c42",
       "version_major": 2,
       "version_minor": 0
      },
      "text/plain": [
       "Batches:   0%|          | 0/8 [00:00<?, ?it/s]"
      ]
     },
     "metadata": {},
     "output_type": "display_data"
    },
    {
     "data": {
      "application/vnd.jupyter.widget-view+json": {
       "model_id": "b4cd2e403adb4de7bc9c94f812e5c96e",
       "version_major": 2,
       "version_minor": 0
      },
      "text/plain": [
       "Batches:   0%|          | 0/8 [00:00<?, ?it/s]"
      ]
     },
     "metadata": {},
     "output_type": "display_data"
    },
    {
     "data": {
      "application/vnd.jupyter.widget-view+json": {
       "model_id": "2ef2ea95c08840dcac1b3944937d59ad",
       "version_major": 2,
       "version_minor": 0
      },
      "text/plain": [
       "Batches:   0%|          | 0/8 [00:00<?, ?it/s]"
      ]
     },
     "metadata": {},
     "output_type": "display_data"
    },
    {
     "data": {
      "application/vnd.jupyter.widget-view+json": {
       "model_id": "79763e6150e746588bec2faffffcec3e",
       "version_major": 2,
       "version_minor": 0
      },
      "text/plain": [
       "Batches:   0%|          | 0/8 [00:00<?, ?it/s]"
      ]
     },
     "metadata": {},
     "output_type": "display_data"
    },
    {
     "data": {
      "application/vnd.jupyter.widget-view+json": {
       "model_id": "62e82c9ef91043d0842ab9add3af032e",
       "version_major": 2,
       "version_minor": 0
      },
      "text/plain": [
       "Batches:   0%|          | 0/8 [00:00<?, ?it/s]"
      ]
     },
     "metadata": {},
     "output_type": "display_data"
    },
    {
     "data": {
      "application/vnd.jupyter.widget-view+json": {
       "model_id": "b88c3c579f5b4dcf9897f63f50f67585",
       "version_major": 2,
       "version_minor": 0
      },
      "text/plain": [
       "Batches:   0%|          | 0/8 [00:00<?, ?it/s]"
      ]
     },
     "metadata": {},
     "output_type": "display_data"
    },
    {
     "data": {
      "application/vnd.jupyter.widget-view+json": {
       "model_id": "989e74af44b6494581f5cc3deef003b6",
       "version_major": 2,
       "version_minor": 0
      },
      "text/plain": [
       "Batches:   0%|          | 0/8 [00:00<?, ?it/s]"
      ]
     },
     "metadata": {},
     "output_type": "display_data"
    },
    {
     "data": {
      "application/vnd.jupyter.widget-view+json": {
       "model_id": "e13d5c6977264c2c841e276de5bcba9d",
       "version_major": 2,
       "version_minor": 0
      },
      "text/plain": [
       "Batches:   0%|          | 0/8 [00:00<?, ?it/s]"
      ]
     },
     "metadata": {},
     "output_type": "display_data"
    },
    {
     "data": {
      "application/vnd.jupyter.widget-view+json": {
       "model_id": "7d6b2e5b5cc54a48af73baf72257f470",
       "version_major": 2,
       "version_minor": 0
      },
      "text/plain": [
       "Batches:   0%|          | 0/8 [00:00<?, ?it/s]"
      ]
     },
     "metadata": {},
     "output_type": "display_data"
    },
    {
     "data": {
      "application/vnd.jupyter.widget-view+json": {
       "model_id": "c305e4697ac74dedb7213cf5180352ef",
       "version_major": 2,
       "version_minor": 0
      },
      "text/plain": [
       "Batches:   0%|          | 0/8 [00:00<?, ?it/s]"
      ]
     },
     "metadata": {},
     "output_type": "display_data"
    },
    {
     "data": {
      "application/vnd.jupyter.widget-view+json": {
       "model_id": "b73b808bf25e41f9b72f9c6ad31c608d",
       "version_major": 2,
       "version_minor": 0
      },
      "text/plain": [
       "Batches:   0%|          | 0/8 [00:00<?, ?it/s]"
      ]
     },
     "metadata": {},
     "output_type": "display_data"
    },
    {
     "data": {
      "application/vnd.jupyter.widget-view+json": {
       "model_id": "1d37a030c380445bbb936702b8a2266f",
       "version_major": 2,
       "version_minor": 0
      },
      "text/plain": [
       "Batches:   0%|          | 0/8 [00:00<?, ?it/s]"
      ]
     },
     "metadata": {},
     "output_type": "display_data"
    },
    {
     "data": {
      "application/vnd.jupyter.widget-view+json": {
       "model_id": "2d6ba56cbf414253bb82a997da6d29a5",
       "version_major": 2,
       "version_minor": 0
      },
      "text/plain": [
       "Batches:   0%|          | 0/8 [00:00<?, ?it/s]"
      ]
     },
     "metadata": {},
     "output_type": "display_data"
    },
    {
     "data": {
      "application/vnd.jupyter.widget-view+json": {
       "model_id": "3c508bbfc15847ae854d49bd606240d9",
       "version_major": 2,
       "version_minor": 0
      },
      "text/plain": [
       "Batches:   0%|          | 0/8 [00:00<?, ?it/s]"
      ]
     },
     "metadata": {},
     "output_type": "display_data"
    },
    {
     "data": {
      "application/vnd.jupyter.widget-view+json": {
       "model_id": "901a4b3de6f742c39f3dc7bbd9b19723",
       "version_major": 2,
       "version_minor": 0
      },
      "text/plain": [
       "Batches:   0%|          | 0/8 [00:00<?, ?it/s]"
      ]
     },
     "metadata": {},
     "output_type": "display_data"
    },
    {
     "data": {
      "application/vnd.jupyter.widget-view+json": {
       "model_id": "5ebc6574afb94d9eb6b8595937d1445e",
       "version_major": 2,
       "version_minor": 0
      },
      "text/plain": [
       "Batches:   0%|          | 0/8 [00:00<?, ?it/s]"
      ]
     },
     "metadata": {},
     "output_type": "display_data"
    },
    {
     "data": {
      "application/vnd.jupyter.widget-view+json": {
       "model_id": "793d97eb2116402092531fdb412d200e",
       "version_major": 2,
       "version_minor": 0
      },
      "text/plain": [
       "Batches:   0%|          | 0/8 [00:00<?, ?it/s]"
      ]
     },
     "metadata": {},
     "output_type": "display_data"
    },
    {
     "data": {
      "application/vnd.jupyter.widget-view+json": {
       "model_id": "af6876b25971410b9561520b23f248c2",
       "version_major": 2,
       "version_minor": 0
      },
      "text/plain": [
       "Batches:   0%|          | 0/8 [00:00<?, ?it/s]"
      ]
     },
     "metadata": {},
     "output_type": "display_data"
    },
    {
     "data": {
      "application/vnd.jupyter.widget-view+json": {
       "model_id": "c412c6459d1e434ab9fbdf742ab4f0cd",
       "version_major": 2,
       "version_minor": 0
      },
      "text/plain": [
       "Batches:   0%|          | 0/8 [00:00<?, ?it/s]"
      ]
     },
     "metadata": {},
     "output_type": "display_data"
    },
    {
     "data": {
      "application/vnd.jupyter.widget-view+json": {
       "model_id": "7bcea180a064448693f3cca30604ee7c",
       "version_major": 2,
       "version_minor": 0
      },
      "text/plain": [
       "Batches:   0%|          | 0/8 [00:00<?, ?it/s]"
      ]
     },
     "metadata": {},
     "output_type": "display_data"
    },
    {
     "data": {
      "application/vnd.jupyter.widget-view+json": {
       "model_id": "bd6b8dd30a2c4b1b993959685d6210a0",
       "version_major": 2,
       "version_minor": 0
      },
      "text/plain": [
       "Batches:   0%|          | 0/8 [00:00<?, ?it/s]"
      ]
     },
     "metadata": {},
     "output_type": "display_data"
    },
    {
     "data": {
      "application/vnd.jupyter.widget-view+json": {
       "model_id": "edb9fb9a6e164f00b89b84650d28a3d7",
       "version_major": 2,
       "version_minor": 0
      },
      "text/plain": [
       "Batches:   0%|          | 0/8 [00:00<?, ?it/s]"
      ]
     },
     "metadata": {},
     "output_type": "display_data"
    },
    {
     "data": {
      "application/vnd.jupyter.widget-view+json": {
       "model_id": "01d6da47f8224e24801fd3e171013fc4",
       "version_major": 2,
       "version_minor": 0
      },
      "text/plain": [
       "Batches:   0%|          | 0/8 [00:00<?, ?it/s]"
      ]
     },
     "metadata": {},
     "output_type": "display_data"
    },
    {
     "data": {
      "application/vnd.jupyter.widget-view+json": {
       "model_id": "86ff52b560254399898de939cdf42209",
       "version_major": 2,
       "version_minor": 0
      },
      "text/plain": [
       "Batches:   0%|          | 0/8 [00:00<?, ?it/s]"
      ]
     },
     "metadata": {},
     "output_type": "display_data"
    },
    {
     "data": {
      "application/vnd.jupyter.widget-view+json": {
       "model_id": "bf798783ea824da789314b8bc7c83c10",
       "version_major": 2,
       "version_minor": 0
      },
      "text/plain": [
       "Batches:   0%|          | 0/8 [00:00<?, ?it/s]"
      ]
     },
     "metadata": {},
     "output_type": "display_data"
    },
    {
     "data": {
      "application/vnd.jupyter.widget-view+json": {
       "model_id": "400e33b2a85b47d091b4f082131f5326",
       "version_major": 2,
       "version_minor": 0
      },
      "text/plain": [
       "Batches:   0%|          | 0/8 [00:00<?, ?it/s]"
      ]
     },
     "metadata": {},
     "output_type": "display_data"
    },
    {
     "data": {
      "application/vnd.jupyter.widget-view+json": {
       "model_id": "5c89407b1c324897899874648fdf3a41",
       "version_major": 2,
       "version_minor": 0
      },
      "text/plain": [
       "Batches:   0%|          | 0/8 [00:00<?, ?it/s]"
      ]
     },
     "metadata": {},
     "output_type": "display_data"
    },
    {
     "data": {
      "application/vnd.jupyter.widget-view+json": {
       "model_id": "b6c7d56e31e648cfab6734d1bfc1bc33",
       "version_major": 2,
       "version_minor": 0
      },
      "text/plain": [
       "Batches:   0%|          | 0/8 [00:00<?, ?it/s]"
      ]
     },
     "metadata": {},
     "output_type": "display_data"
    },
    {
     "data": {
      "application/vnd.jupyter.widget-view+json": {
       "model_id": "48fa20f03396472b9893816be7b49453",
       "version_major": 2,
       "version_minor": 0
      },
      "text/plain": [
       "Batches:   0%|          | 0/8 [00:00<?, ?it/s]"
      ]
     },
     "metadata": {},
     "output_type": "display_data"
    },
    {
     "data": {
      "application/vnd.jupyter.widget-view+json": {
       "model_id": "4d8747a4fd0a414a91be4ecfe0be61e6",
       "version_major": 2,
       "version_minor": 0
      },
      "text/plain": [
       "Batches:   0%|          | 0/8 [00:00<?, ?it/s]"
      ]
     },
     "metadata": {},
     "output_type": "display_data"
    },
    {
     "data": {
      "application/vnd.jupyter.widget-view+json": {
       "model_id": "26c521c91a9a4273a01136ad67b8f513",
       "version_major": 2,
       "version_minor": 0
      },
      "text/plain": [
       "Batches:   0%|          | 0/8 [00:00<?, ?it/s]"
      ]
     },
     "metadata": {},
     "output_type": "display_data"
    },
    {
     "data": {
      "application/vnd.jupyter.widget-view+json": {
       "model_id": "416849aacea841bdb520eaa0cf3d24f5",
       "version_major": 2,
       "version_minor": 0
      },
      "text/plain": [
       "Batches:   0%|          | 0/8 [00:00<?, ?it/s]"
      ]
     },
     "metadata": {},
     "output_type": "display_data"
    },
    {
     "data": {
      "application/vnd.jupyter.widget-view+json": {
       "model_id": "b852dbf8b7944cb69834b6fc83f1909d",
       "version_major": 2,
       "version_minor": 0
      },
      "text/plain": [
       "Batches:   0%|          | 0/8 [00:00<?, ?it/s]"
      ]
     },
     "metadata": {},
     "output_type": "display_data"
    },
    {
     "data": {
      "application/vnd.jupyter.widget-view+json": {
       "model_id": "50931b5180eb4b10ad7e7d2991a24ca8",
       "version_major": 2,
       "version_minor": 0
      },
      "text/plain": [
       "Batches:   0%|          | 0/8 [00:00<?, ?it/s]"
      ]
     },
     "metadata": {},
     "output_type": "display_data"
    },
    {
     "data": {
      "application/vnd.jupyter.widget-view+json": {
       "model_id": "2f59e610f2f044c49975844408e667a6",
       "version_major": 2,
       "version_minor": 0
      },
      "text/plain": [
       "Batches:   0%|          | 0/8 [00:00<?, ?it/s]"
      ]
     },
     "metadata": {},
     "output_type": "display_data"
    },
    {
     "data": {
      "application/vnd.jupyter.widget-view+json": {
       "model_id": "4a901516a6db427ca4c50a6a37829c6c",
       "version_major": 2,
       "version_minor": 0
      },
      "text/plain": [
       "Batches:   0%|          | 0/8 [00:00<?, ?it/s]"
      ]
     },
     "metadata": {},
     "output_type": "display_data"
    },
    {
     "data": {
      "application/vnd.jupyter.widget-view+json": {
       "model_id": "9840e2ec5346408db0b0f02dd6c6a981",
       "version_major": 2,
       "version_minor": 0
      },
      "text/plain": [
       "Batches:   0%|          | 0/8 [00:00<?, ?it/s]"
      ]
     },
     "metadata": {},
     "output_type": "display_data"
    },
    {
     "data": {
      "application/vnd.jupyter.widget-view+json": {
       "model_id": "4b8f796b37e94211a888ba7c7f45d4a4",
       "version_major": 2,
       "version_minor": 0
      },
      "text/plain": [
       "Batches:   0%|          | 0/8 [00:00<?, ?it/s]"
      ]
     },
     "metadata": {},
     "output_type": "display_data"
    },
    {
     "data": {
      "application/vnd.jupyter.widget-view+json": {
       "model_id": "cddbafb6c5c9465f80f88e1cee291ebc",
       "version_major": 2,
       "version_minor": 0
      },
      "text/plain": [
       "Batches:   0%|          | 0/8 [00:00<?, ?it/s]"
      ]
     },
     "metadata": {},
     "output_type": "display_data"
    },
    {
     "data": {
      "application/vnd.jupyter.widget-view+json": {
       "model_id": "5431df5e101e475fad5f5c5e7bed9d09",
       "version_major": 2,
       "version_minor": 0
      },
      "text/plain": [
       "Batches:   0%|          | 0/8 [00:00<?, ?it/s]"
      ]
     },
     "metadata": {},
     "output_type": "display_data"
    },
    {
     "data": {
      "application/vnd.jupyter.widget-view+json": {
       "model_id": "62508aa0f2714c458b4085c4ab4a4ad9",
       "version_major": 2,
       "version_minor": 0
      },
      "text/plain": [
       "Batches:   0%|          | 0/8 [00:00<?, ?it/s]"
      ]
     },
     "metadata": {},
     "output_type": "display_data"
    },
    {
     "data": {
      "application/vnd.jupyter.widget-view+json": {
       "model_id": "f26b6475d1594929a1ed17dfbe3d0c0d",
       "version_major": 2,
       "version_minor": 0
      },
      "text/plain": [
       "Batches:   0%|          | 0/8 [00:00<?, ?it/s]"
      ]
     },
     "metadata": {},
     "output_type": "display_data"
    },
    {
     "data": {
      "application/vnd.jupyter.widget-view+json": {
       "model_id": "af178175ccdd439ea49fb88ba2ec6bcd",
       "version_major": 2,
       "version_minor": 0
      },
      "text/plain": [
       "Batches:   0%|          | 0/8 [00:00<?, ?it/s]"
      ]
     },
     "metadata": {},
     "output_type": "display_data"
    },
    {
     "data": {
      "application/vnd.jupyter.widget-view+json": {
       "model_id": "6afa7ad73aec4e599c0d68cf61f984c3",
       "version_major": 2,
       "version_minor": 0
      },
      "text/plain": [
       "Batches:   0%|          | 0/8 [00:00<?, ?it/s]"
      ]
     },
     "metadata": {},
     "output_type": "display_data"
    },
    {
     "data": {
      "application/vnd.jupyter.widget-view+json": {
       "model_id": "d971204228014f3ba57f6239c151dc7e",
       "version_major": 2,
       "version_minor": 0
      },
      "text/plain": [
       "Batches:   0%|          | 0/8 [00:00<?, ?it/s]"
      ]
     },
     "metadata": {},
     "output_type": "display_data"
    },
    {
     "data": {
      "application/vnd.jupyter.widget-view+json": {
       "model_id": "54a40b158913475c900b4a6d0a062eaf",
       "version_major": 2,
       "version_minor": 0
      },
      "text/plain": [
       "Batches:   0%|          | 0/8 [00:00<?, ?it/s]"
      ]
     },
     "metadata": {},
     "output_type": "display_data"
    },
    {
     "data": {
      "application/vnd.jupyter.widget-view+json": {
       "model_id": "8ae768a6b71046fcb239ddb95f18d4c3",
       "version_major": 2,
       "version_minor": 0
      },
      "text/plain": [
       "Batches:   0%|          | 0/8 [00:00<?, ?it/s]"
      ]
     },
     "metadata": {},
     "output_type": "display_data"
    },
    {
     "data": {
      "application/vnd.jupyter.widget-view+json": {
       "model_id": "3d14fd905f204cbf8243f48885af01bb",
       "version_major": 2,
       "version_minor": 0
      },
      "text/plain": [
       "Batches:   0%|          | 0/8 [00:00<?, ?it/s]"
      ]
     },
     "metadata": {},
     "output_type": "display_data"
    },
    {
     "data": {
      "application/vnd.jupyter.widget-view+json": {
       "model_id": "48b20cd1a63c41a68512de9e23ccf461",
       "version_major": 2,
       "version_minor": 0
      },
      "text/plain": [
       "Batches:   0%|          | 0/7 [00:00<?, ?it/s]"
      ]
     },
     "metadata": {},
     "output_type": "display_data"
    }
   ],
   "source": [
    "emb_map = {}\n",
    "batch_size = 256\n",
    "for start in range(0, len(all_descs), batch_size):\n",
    "    batch = all_descs[start:start+batch_size].tolist()\n",
    "    embs = model.encode(batch, show_progress_bar=True, normalize_embeddings=True, convert_to_numpy=True)\n",
    "    for desc, emb in zip(batch, embs):\n",
    "        emb_map[desc] = emb"
   ]
  },
  {
   "cell_type": "code",
   "execution_count": 15,
   "id": "96bfd488-8f80-4fe5-9ede-3b3e7b800f16",
   "metadata": {},
   "outputs": [
    {
     "data": {
      "text/plain": [
       "18135"
      ]
     },
     "execution_count": 15,
     "metadata": {},
     "output_type": "execute_result"
    }
   ],
   "source": [
    "len(emb_map)"
   ]
  },
  {
   "cell_type": "code",
   "execution_count": 16,
   "id": "bb2d9291-8366-4856-941f-d3e337339bde",
   "metadata": {},
   "outputs": [],
   "source": [
    "df[\"npl_prodord_desc_emb\"] = df[\"npl_prodord_desc\"].map(emb_map)\n",
    "df[\"neighbor_prodord_desc_emb\"] = df[\"neighbor_prodord_desc\"].map(emb_map)"
   ]
  },
  {
   "cell_type": "code",
   "execution_count": 17,
   "id": "508170f9-5251-4fa8-b5f3-75ccac4710bf",
   "metadata": {},
   "outputs": [
    {
     "data": {
      "text/html": [
       "<div>\n",
       "<style scoped>\n",
       "    .dataframe tbody tr th:only-of-type {\n",
       "        vertical-align: middle;\n",
       "    }\n",
       "\n",
       "    .dataframe tbody tr th {\n",
       "        vertical-align: top;\n",
       "    }\n",
       "\n",
       "    .dataframe thead th {\n",
       "        text-align: right;\n",
       "    }\n",
       "</style>\n",
       "<table border=\"1\" class=\"dataframe\">\n",
       "  <thead>\n",
       "    <tr style=\"text-align: right;\">\n",
       "      <th></th>\n",
       "      <th>npl_prodord</th>\n",
       "      <th>npl_prodord_desc</th>\n",
       "      <th>neighbor_prodord</th>\n",
       "      <th>neighbor_prodord_desc</th>\n",
       "      <th>fuzzy_score</th>\n",
       "      <th>row_number</th>\n",
       "      <th>predecessor_prodord_ramesses</th>\n",
       "      <th>predecessor_prodord_desc_ramesses</th>\n",
       "      <th>manual_match</th>\n",
       "      <th>PREDECESSOR TYPE</th>\n",
       "      <th>npl_prodord_desc_emb</th>\n",
       "      <th>neighbor_prodord_desc_emb</th>\n",
       "    </tr>\n",
       "  </thead>\n",
       "  <tbody>\n",
       "    <tr>\n",
       "      <th>0</th>\n",
       "      <td>0WLY01</td>\n",
       "      <td>GINGER BURST HND&amp;BDY WSH 200ML</td>\n",
       "      <td>0MCX01</td>\n",
       "      <td>GINGER BODY WASH 200ML</td>\n",
       "      <td>0.77</td>\n",
       "      <td>1</td>\n",
       "      <td>0MCX01</td>\n",
       "      <td>GINGER BODY WASH 200ML</td>\n",
       "      <td>YES</td>\n",
       "      <td>STAR PREDECESSOR</td>\n",
       "      <td>[-0.044266324, -0.032603286, -0.014347708, 0.0...</td>\n",
       "      <td>[-0.03539984, -0.016253632, -0.01356889, 0.028...</td>\n",
       "    </tr>\n",
       "    <tr>\n",
       "      <th>1</th>\n",
       "      <td>0WLY01</td>\n",
       "      <td>GINGER BURST HND&amp;BDY WSH 200ML</td>\n",
       "      <td>0JYH01</td>\n",
       "      <td>GINGER BURST 200ML</td>\n",
       "      <td>0.75</td>\n",
       "      <td>2</td>\n",
       "      <td>0MCX01</td>\n",
       "      <td>GINGER BODY WASH 200ML</td>\n",
       "      <td>n</td>\n",
       "      <td>STAR PREDECESSOR</td>\n",
       "      <td>[-0.044266324, -0.032603286, -0.014347708, 0.0...</td>\n",
       "      <td>[-0.023320219, -0.011378394, -0.013693338, 0.0...</td>\n",
       "    </tr>\n",
       "    <tr>\n",
       "      <th>2</th>\n",
       "      <td>0WLY01</td>\n",
       "      <td>GINGER BURST HND&amp;BDY WSH 200ML</td>\n",
       "      <td>027T01</td>\n",
       "      <td>GINGER BODY WASH 250ML</td>\n",
       "      <td>0.73</td>\n",
       "      <td>3</td>\n",
       "      <td>0MCX01</td>\n",
       "      <td>GINGER BODY WASH 200ML</td>\n",
       "      <td>n</td>\n",
       "      <td>STAR PREDECESSOR</td>\n",
       "      <td>[-0.044266324, -0.032603286, -0.014347708, 0.0...</td>\n",
       "      <td>[-0.032164358, 0.00054609415, -0.014018997, 0....</td>\n",
       "    </tr>\n",
       "    <tr>\n",
       "      <th>3</th>\n",
       "      <td>0WLY01</td>\n",
       "      <td>GINGER BURST HND&amp;BDY WSH 200ML</td>\n",
       "      <td>0F4501</td>\n",
       "      <td>GINGER HAND CLEANSER 200ML</td>\n",
       "      <td>0.64</td>\n",
       "      <td>4</td>\n",
       "      <td>0MCX01</td>\n",
       "      <td>GINGER BODY WASH 200ML</td>\n",
       "      <td>n</td>\n",
       "      <td>STAR PREDECESSOR</td>\n",
       "      <td>[-0.044266324, -0.032603286, -0.014347708, 0.0...</td>\n",
       "      <td>[-0.02397896, -0.014936242, -0.013384992, -0.0...</td>\n",
       "    </tr>\n",
       "    <tr>\n",
       "      <th>4</th>\n",
       "      <td>0WLY01</td>\n",
       "      <td>GINGER BURST HND&amp;BDY WSH 200ML</td>\n",
       "      <td>0MCW01</td>\n",
       "      <td>GINGER HAND CLEANSER 200ML</td>\n",
       "      <td>0.64</td>\n",
       "      <td>5</td>\n",
       "      <td>0MCX01</td>\n",
       "      <td>GINGER BODY WASH 200ML</td>\n",
       "      <td>n</td>\n",
       "      <td>STAR PREDECESSOR</td>\n",
       "      <td>[-0.044266324, -0.032603286, -0.014347708, 0.0...</td>\n",
       "      <td>[-0.02397896, -0.014936242, -0.013384992, -0.0...</td>\n",
       "    </tr>\n",
       "    <tr>\n",
       "      <th>5</th>\n",
       "      <td>0WLY01</td>\n",
       "      <td>GINGER BURST HND&amp;BDY WSH 200ML</td>\n",
       "      <td>829D01</td>\n",
       "      <td>GNGR EXFLTNG BODY WASH 200ML</td>\n",
       "      <td>0.62</td>\n",
       "      <td>6</td>\n",
       "      <td>0MCX01</td>\n",
       "      <td>GINGER BODY WASH 200ML</td>\n",
       "      <td>n</td>\n",
       "      <td>STAR PREDECESSOR</td>\n",
       "      <td>[-0.044266324, -0.032603286, -0.014347708, 0.0...</td>\n",
       "      <td>[-0.0033935735, -0.06285792, -0.013870217, 0.0...</td>\n",
       "    </tr>\n",
       "    <tr>\n",
       "      <th>6</th>\n",
       "      <td>0WLY01</td>\n",
       "      <td>GINGER BURST HND&amp;BDY WSH 200ML</td>\n",
       "      <td>0GML01</td>\n",
       "      <td>GINGER BATH SOAP 200GM</td>\n",
       "      <td>0.62</td>\n",
       "      <td>7</td>\n",
       "      <td>0MCX01</td>\n",
       "      <td>GINGER BODY WASH 200ML</td>\n",
       "      <td>n</td>\n",
       "      <td>STAR PREDECESSOR</td>\n",
       "      <td>[-0.044266324, -0.032603286, -0.014347708, 0.0...</td>\n",
       "      <td>[-0.027340047, -0.032042507, -0.014683996, 0.0...</td>\n",
       "    </tr>\n",
       "    <tr>\n",
       "      <th>7</th>\n",
       "      <td>0WLY01</td>\n",
       "      <td>GINGER BURST HND&amp;BDY WSH 200ML</td>\n",
       "      <td>0MCT01</td>\n",
       "      <td>GINGER SOAP 200GM</td>\n",
       "      <td>0.55</td>\n",
       "      <td>8</td>\n",
       "      <td>0MCX01</td>\n",
       "      <td>GINGER BODY WASH 200ML</td>\n",
       "      <td>n</td>\n",
       "      <td>STAR PREDECESSOR</td>\n",
       "      <td>[-0.044266324, -0.032603286, -0.014347708, 0.0...</td>\n",
       "      <td>[-0.012504197, -0.0057617733, -0.015041154, 0....</td>\n",
       "    </tr>\n",
       "    <tr>\n",
       "      <th>8</th>\n",
       "      <td>0WLY01</td>\n",
       "      <td>GINGER BURST HND&amp;BDY WSH 200ML</td>\n",
       "      <td>027R01</td>\n",
       "      <td>GINGER SOAP 300GM</td>\n",
       "      <td>0.51</td>\n",
       "      <td>9</td>\n",
       "      <td>0MCX01</td>\n",
       "      <td>GINGER BODY WASH 200ML</td>\n",
       "      <td>n</td>\n",
       "      <td>STAR PREDECESSOR</td>\n",
       "      <td>[-0.044266324, -0.032603286, -0.014347708, 0.0...</td>\n",
       "      <td>[-0.014957268, -0.009471259, -0.0147626875, 0....</td>\n",
       "    </tr>\n",
       "    <tr>\n",
       "      <th>9</th>\n",
       "      <td>0WLY01</td>\n",
       "      <td>GINGER BURST HND&amp;BDY WSH 200ML</td>\n",
       "      <td>00TQ01</td>\n",
       "      <td>GINGER FLOAT CREAM BUBBL</td>\n",
       "      <td>0.41</td>\n",
       "      <td>10</td>\n",
       "      <td>0MCX01</td>\n",
       "      <td>GINGER BODY WASH 200ML</td>\n",
       "      <td>n</td>\n",
       "      <td>STAR PREDECESSOR</td>\n",
       "      <td>[-0.044266324, -0.032603286, -0.014347708, 0.0...</td>\n",
       "      <td>[-0.021027407, 0.020168014, -0.013475669, 0.01...</td>\n",
       "    </tr>\n",
       "  </tbody>\n",
       "</table>\n",
       "</div>"
      ],
      "text/plain": [
       "  npl_prodord                npl_prodord_desc neighbor_prodord  \\\n",
       "0      0WLY01  GINGER BURST HND&BDY WSH 200ML           0MCX01   \n",
       "1      0WLY01  GINGER BURST HND&BDY WSH 200ML           0JYH01   \n",
       "2      0WLY01  GINGER BURST HND&BDY WSH 200ML           027T01   \n",
       "3      0WLY01  GINGER BURST HND&BDY WSH 200ML           0F4501   \n",
       "4      0WLY01  GINGER BURST HND&BDY WSH 200ML           0MCW01   \n",
       "5      0WLY01  GINGER BURST HND&BDY WSH 200ML           829D01   \n",
       "6      0WLY01  GINGER BURST HND&BDY WSH 200ML           0GML01   \n",
       "7      0WLY01  GINGER BURST HND&BDY WSH 200ML           0MCT01   \n",
       "8      0WLY01  GINGER BURST HND&BDY WSH 200ML           027R01   \n",
       "9      0WLY01  GINGER BURST HND&BDY WSH 200ML           00TQ01   \n",
       "\n",
       "          neighbor_prodord_desc  fuzzy_score  row_number  \\\n",
       "0        GINGER BODY WASH 200ML         0.77           1   \n",
       "1            GINGER BURST 200ML         0.75           2   \n",
       "2        GINGER BODY WASH 250ML         0.73           3   \n",
       "3    GINGER HAND CLEANSER 200ML         0.64           4   \n",
       "4    GINGER HAND CLEANSER 200ML         0.64           5   \n",
       "5  GNGR EXFLTNG BODY WASH 200ML         0.62           6   \n",
       "6        GINGER BATH SOAP 200GM         0.62           7   \n",
       "7             GINGER SOAP 200GM         0.55           8   \n",
       "8             GINGER SOAP 300GM         0.51           9   \n",
       "9      GINGER FLOAT CREAM BUBBL         0.41          10   \n",
       "\n",
       "  predecessor_prodord_ramesses predecessor_prodord_desc_ramesses manual_match  \\\n",
       "0                       0MCX01            GINGER BODY WASH 200ML          YES   \n",
       "1                       0MCX01            GINGER BODY WASH 200ML            n   \n",
       "2                       0MCX01            GINGER BODY WASH 200ML            n   \n",
       "3                       0MCX01            GINGER BODY WASH 200ML            n   \n",
       "4                       0MCX01            GINGER BODY WASH 200ML            n   \n",
       "5                       0MCX01            GINGER BODY WASH 200ML            n   \n",
       "6                       0MCX01            GINGER BODY WASH 200ML            n   \n",
       "7                       0MCX01            GINGER BODY WASH 200ML            n   \n",
       "8                       0MCX01            GINGER BODY WASH 200ML            n   \n",
       "9                       0MCX01            GINGER BODY WASH 200ML            n   \n",
       "\n",
       "   PREDECESSOR TYPE                               npl_prodord_desc_emb  \\\n",
       "0  STAR PREDECESSOR  [-0.044266324, -0.032603286, -0.014347708, 0.0...   \n",
       "1  STAR PREDECESSOR  [-0.044266324, -0.032603286, -0.014347708, 0.0...   \n",
       "2  STAR PREDECESSOR  [-0.044266324, -0.032603286, -0.014347708, 0.0...   \n",
       "3  STAR PREDECESSOR  [-0.044266324, -0.032603286, -0.014347708, 0.0...   \n",
       "4  STAR PREDECESSOR  [-0.044266324, -0.032603286, -0.014347708, 0.0...   \n",
       "5  STAR PREDECESSOR  [-0.044266324, -0.032603286, -0.014347708, 0.0...   \n",
       "6  STAR PREDECESSOR  [-0.044266324, -0.032603286, -0.014347708, 0.0...   \n",
       "7  STAR PREDECESSOR  [-0.044266324, -0.032603286, -0.014347708, 0.0...   \n",
       "8  STAR PREDECESSOR  [-0.044266324, -0.032603286, -0.014347708, 0.0...   \n",
       "9  STAR PREDECESSOR  [-0.044266324, -0.032603286, -0.014347708, 0.0...   \n",
       "\n",
       "                           neighbor_prodord_desc_emb  \n",
       "0  [-0.03539984, -0.016253632, -0.01356889, 0.028...  \n",
       "1  [-0.023320219, -0.011378394, -0.013693338, 0.0...  \n",
       "2  [-0.032164358, 0.00054609415, -0.014018997, 0....  \n",
       "3  [-0.02397896, -0.014936242, -0.013384992, -0.0...  \n",
       "4  [-0.02397896, -0.014936242, -0.013384992, -0.0...  \n",
       "5  [-0.0033935735, -0.06285792, -0.013870217, 0.0...  \n",
       "6  [-0.027340047, -0.032042507, -0.014683996, 0.0...  \n",
       "7  [-0.012504197, -0.0057617733, -0.015041154, 0....  \n",
       "8  [-0.014957268, -0.009471259, -0.0147626875, 0....  \n",
       "9  [-0.021027407, 0.020168014, -0.013475669, 0.01...  "
      ]
     },
     "execution_count": 17,
     "metadata": {},
     "output_type": "execute_result"
    }
   ],
   "source": [
    "df.head(10)"
   ]
  },
  {
   "cell_type": "code",
   "execution_count": 25,
   "id": "e17abb98-fccb-4551-b103-dff367d55278",
   "metadata": {},
   "outputs": [
    {
     "name": "stdout",
     "output_type": "stream",
     "text": [
      "(633989, 1024)\n",
      "(633989, 1024)\n"
     ]
    }
   ],
   "source": [
    "succ_array = np.stack(df[\"npl_prodord_desc_emb\"].values)\n",
    "pred_array = np.stack(df[\"neighbor_prodord_desc_emb\"].values)\n",
    "print(succ_array.shape)\n",
    "print(pred_array.shape)"
   ]
  },
  {
   "cell_type": "code",
   "execution_count": 26,
   "id": "df2e260a-8910-4a16-90ba-aa1127341eb5",
   "metadata": {},
   "outputs": [],
   "source": [
    "similarity = np.sum(succ_array * pred_array, axis = 1)"
   ]
  },
  {
   "cell_type": "code",
   "execution_count": 27,
   "id": "24050dfa-d2ac-4719-8efd-981b06a040b4",
   "metadata": {},
   "outputs": [],
   "source": [
    "df[\"similarity_score\"] = similarity"
   ]
  },
  {
   "cell_type": "code",
   "execution_count": 28,
   "id": "04986d27-3753-468c-b21f-fe103fcd0531",
   "metadata": {},
   "outputs": [
    {
     "data": {
      "text/html": [
       "<div>\n",
       "<style scoped>\n",
       "    .dataframe tbody tr th:only-of-type {\n",
       "        vertical-align: middle;\n",
       "    }\n",
       "\n",
       "    .dataframe tbody tr th {\n",
       "        vertical-align: top;\n",
       "    }\n",
       "\n",
       "    .dataframe thead th {\n",
       "        text-align: right;\n",
       "    }\n",
       "</style>\n",
       "<table border=\"1\" class=\"dataframe\">\n",
       "  <thead>\n",
       "    <tr style=\"text-align: right;\">\n",
       "      <th></th>\n",
       "      <th>npl_prodord</th>\n",
       "      <th>npl_prodord_desc</th>\n",
       "      <th>neighbor_prodord</th>\n",
       "      <th>neighbor_prodord_desc</th>\n",
       "      <th>fuzzy_score</th>\n",
       "      <th>row_number</th>\n",
       "      <th>predecessor_prodord_ramesses</th>\n",
       "      <th>predecessor_prodord_desc_ramesses</th>\n",
       "      <th>manual_match</th>\n",
       "      <th>PREDECESSOR TYPE</th>\n",
       "      <th>npl_prodord_desc_emb</th>\n",
       "      <th>neighbor_prodord_desc_emb</th>\n",
       "      <th>similarity_score</th>\n",
       "    </tr>\n",
       "  </thead>\n",
       "  <tbody>\n",
       "    <tr>\n",
       "      <th>0</th>\n",
       "      <td>0WLY01</td>\n",
       "      <td>GINGER BURST HND&amp;BDY WSH 200ML</td>\n",
       "      <td>0MCX01</td>\n",
       "      <td>GINGER BODY WASH 200ML</td>\n",
       "      <td>0.77</td>\n",
       "      <td>1</td>\n",
       "      <td>0MCX01</td>\n",
       "      <td>GINGER BODY WASH 200ML</td>\n",
       "      <td>YES</td>\n",
       "      <td>STAR PREDECESSOR</td>\n",
       "      <td>[-0.044266324, -0.032603286, -0.014347708, 0.0...</td>\n",
       "      <td>[-0.03539984, -0.016253632, -0.01356889, 0.028...</td>\n",
       "      <td>0.823572</td>\n",
       "    </tr>\n",
       "    <tr>\n",
       "      <th>1</th>\n",
       "      <td>0WLY01</td>\n",
       "      <td>GINGER BURST HND&amp;BDY WSH 200ML</td>\n",
       "      <td>0JYH01</td>\n",
       "      <td>GINGER BURST 200ML</td>\n",
       "      <td>0.75</td>\n",
       "      <td>2</td>\n",
       "      <td>0MCX01</td>\n",
       "      <td>GINGER BODY WASH 200ML</td>\n",
       "      <td>n</td>\n",
       "      <td>STAR PREDECESSOR</td>\n",
       "      <td>[-0.044266324, -0.032603286, -0.014347708, 0.0...</td>\n",
       "      <td>[-0.023320219, -0.011378394, -0.013693338, 0.0...</td>\n",
       "      <td>0.950744</td>\n",
       "    </tr>\n",
       "    <tr>\n",
       "      <th>2</th>\n",
       "      <td>0WLY01</td>\n",
       "      <td>GINGER BURST HND&amp;BDY WSH 200ML</td>\n",
       "      <td>027T01</td>\n",
       "      <td>GINGER BODY WASH 250ML</td>\n",
       "      <td>0.73</td>\n",
       "      <td>3</td>\n",
       "      <td>0MCX01</td>\n",
       "      <td>GINGER BODY WASH 200ML</td>\n",
       "      <td>n</td>\n",
       "      <td>STAR PREDECESSOR</td>\n",
       "      <td>[-0.044266324, -0.032603286, -0.014347708, 0.0...</td>\n",
       "      <td>[-0.032164358, 0.00054609415, -0.014018997, 0....</td>\n",
       "      <td>0.813442</td>\n",
       "    </tr>\n",
       "    <tr>\n",
       "      <th>3</th>\n",
       "      <td>0WLY01</td>\n",
       "      <td>GINGER BURST HND&amp;BDY WSH 200ML</td>\n",
       "      <td>0F4501</td>\n",
       "      <td>GINGER HAND CLEANSER 200ML</td>\n",
       "      <td>0.64</td>\n",
       "      <td>4</td>\n",
       "      <td>0MCX01</td>\n",
       "      <td>GINGER BODY WASH 200ML</td>\n",
       "      <td>n</td>\n",
       "      <td>STAR PREDECESSOR</td>\n",
       "      <td>[-0.044266324, -0.032603286, -0.014347708, 0.0...</td>\n",
       "      <td>[-0.02397896, -0.014936242, -0.013384992, -0.0...</td>\n",
       "      <td>0.716095</td>\n",
       "    </tr>\n",
       "    <tr>\n",
       "      <th>4</th>\n",
       "      <td>0WLY01</td>\n",
       "      <td>GINGER BURST HND&amp;BDY WSH 200ML</td>\n",
       "      <td>0MCW01</td>\n",
       "      <td>GINGER HAND CLEANSER 200ML</td>\n",
       "      <td>0.64</td>\n",
       "      <td>5</td>\n",
       "      <td>0MCX01</td>\n",
       "      <td>GINGER BODY WASH 200ML</td>\n",
       "      <td>n</td>\n",
       "      <td>STAR PREDECESSOR</td>\n",
       "      <td>[-0.044266324, -0.032603286, -0.014347708, 0.0...</td>\n",
       "      <td>[-0.02397896, -0.014936242, -0.013384992, -0.0...</td>\n",
       "      <td>0.716095</td>\n",
       "    </tr>\n",
       "    <tr>\n",
       "      <th>5</th>\n",
       "      <td>0WLY01</td>\n",
       "      <td>GINGER BURST HND&amp;BDY WSH 200ML</td>\n",
       "      <td>829D01</td>\n",
       "      <td>GNGR EXFLTNG BODY WASH 200ML</td>\n",
       "      <td>0.62</td>\n",
       "      <td>6</td>\n",
       "      <td>0MCX01</td>\n",
       "      <td>GINGER BODY WASH 200ML</td>\n",
       "      <td>n</td>\n",
       "      <td>STAR PREDECESSOR</td>\n",
       "      <td>[-0.044266324, -0.032603286, -0.014347708, 0.0...</td>\n",
       "      <td>[-0.0033935735, -0.06285792, -0.013870217, 0.0...</td>\n",
       "      <td>0.706807</td>\n",
       "    </tr>\n",
       "    <tr>\n",
       "      <th>6</th>\n",
       "      <td>0WLY01</td>\n",
       "      <td>GINGER BURST HND&amp;BDY WSH 200ML</td>\n",
       "      <td>0GML01</td>\n",
       "      <td>GINGER BATH SOAP 200GM</td>\n",
       "      <td>0.62</td>\n",
       "      <td>7</td>\n",
       "      <td>0MCX01</td>\n",
       "      <td>GINGER BODY WASH 200ML</td>\n",
       "      <td>n</td>\n",
       "      <td>STAR PREDECESSOR</td>\n",
       "      <td>[-0.044266324, -0.032603286, -0.014347708, 0.0...</td>\n",
       "      <td>[-0.027340047, -0.032042507, -0.014683996, 0.0...</td>\n",
       "      <td>0.711266</td>\n",
       "    </tr>\n",
       "    <tr>\n",
       "      <th>7</th>\n",
       "      <td>0WLY01</td>\n",
       "      <td>GINGER BURST HND&amp;BDY WSH 200ML</td>\n",
       "      <td>0MCT01</td>\n",
       "      <td>GINGER SOAP 200GM</td>\n",
       "      <td>0.55</td>\n",
       "      <td>8</td>\n",
       "      <td>0MCX01</td>\n",
       "      <td>GINGER BODY WASH 200ML</td>\n",
       "      <td>n</td>\n",
       "      <td>STAR PREDECESSOR</td>\n",
       "      <td>[-0.044266324, -0.032603286, -0.014347708, 0.0...</td>\n",
       "      <td>[-0.012504197, -0.0057617733, -0.015041154, 0....</td>\n",
       "      <td>0.729506</td>\n",
       "    </tr>\n",
       "    <tr>\n",
       "      <th>8</th>\n",
       "      <td>0WLY01</td>\n",
       "      <td>GINGER BURST HND&amp;BDY WSH 200ML</td>\n",
       "      <td>027R01</td>\n",
       "      <td>GINGER SOAP 300GM</td>\n",
       "      <td>0.51</td>\n",
       "      <td>9</td>\n",
       "      <td>0MCX01</td>\n",
       "      <td>GINGER BODY WASH 200ML</td>\n",
       "      <td>n</td>\n",
       "      <td>STAR PREDECESSOR</td>\n",
       "      <td>[-0.044266324, -0.032603286, -0.014347708, 0.0...</td>\n",
       "      <td>[-0.014957268, -0.009471259, -0.0147626875, 0....</td>\n",
       "      <td>0.717675</td>\n",
       "    </tr>\n",
       "    <tr>\n",
       "      <th>9</th>\n",
       "      <td>0WLY01</td>\n",
       "      <td>GINGER BURST HND&amp;BDY WSH 200ML</td>\n",
       "      <td>00TQ01</td>\n",
       "      <td>GINGER FLOAT CREAM BUBBL</td>\n",
       "      <td>0.41</td>\n",
       "      <td>10</td>\n",
       "      <td>0MCX01</td>\n",
       "      <td>GINGER BODY WASH 200ML</td>\n",
       "      <td>n</td>\n",
       "      <td>STAR PREDECESSOR</td>\n",
       "      <td>[-0.044266324, -0.032603286, -0.014347708, 0.0...</td>\n",
       "      <td>[-0.021027407, 0.020168014, -0.013475669, 0.01...</td>\n",
       "      <td>0.718705</td>\n",
       "    </tr>\n",
       "  </tbody>\n",
       "</table>\n",
       "</div>"
      ],
      "text/plain": [
       "  npl_prodord                npl_prodord_desc neighbor_prodord  \\\n",
       "0      0WLY01  GINGER BURST HND&BDY WSH 200ML           0MCX01   \n",
       "1      0WLY01  GINGER BURST HND&BDY WSH 200ML           0JYH01   \n",
       "2      0WLY01  GINGER BURST HND&BDY WSH 200ML           027T01   \n",
       "3      0WLY01  GINGER BURST HND&BDY WSH 200ML           0F4501   \n",
       "4      0WLY01  GINGER BURST HND&BDY WSH 200ML           0MCW01   \n",
       "5      0WLY01  GINGER BURST HND&BDY WSH 200ML           829D01   \n",
       "6      0WLY01  GINGER BURST HND&BDY WSH 200ML           0GML01   \n",
       "7      0WLY01  GINGER BURST HND&BDY WSH 200ML           0MCT01   \n",
       "8      0WLY01  GINGER BURST HND&BDY WSH 200ML           027R01   \n",
       "9      0WLY01  GINGER BURST HND&BDY WSH 200ML           00TQ01   \n",
       "\n",
       "          neighbor_prodord_desc  fuzzy_score  row_number  \\\n",
       "0        GINGER BODY WASH 200ML         0.77           1   \n",
       "1            GINGER BURST 200ML         0.75           2   \n",
       "2        GINGER BODY WASH 250ML         0.73           3   \n",
       "3    GINGER HAND CLEANSER 200ML         0.64           4   \n",
       "4    GINGER HAND CLEANSER 200ML         0.64           5   \n",
       "5  GNGR EXFLTNG BODY WASH 200ML         0.62           6   \n",
       "6        GINGER BATH SOAP 200GM         0.62           7   \n",
       "7             GINGER SOAP 200GM         0.55           8   \n",
       "8             GINGER SOAP 300GM         0.51           9   \n",
       "9      GINGER FLOAT CREAM BUBBL         0.41          10   \n",
       "\n",
       "  predecessor_prodord_ramesses predecessor_prodord_desc_ramesses manual_match  \\\n",
       "0                       0MCX01            GINGER BODY WASH 200ML          YES   \n",
       "1                       0MCX01            GINGER BODY WASH 200ML            n   \n",
       "2                       0MCX01            GINGER BODY WASH 200ML            n   \n",
       "3                       0MCX01            GINGER BODY WASH 200ML            n   \n",
       "4                       0MCX01            GINGER BODY WASH 200ML            n   \n",
       "5                       0MCX01            GINGER BODY WASH 200ML            n   \n",
       "6                       0MCX01            GINGER BODY WASH 200ML            n   \n",
       "7                       0MCX01            GINGER BODY WASH 200ML            n   \n",
       "8                       0MCX01            GINGER BODY WASH 200ML            n   \n",
       "9                       0MCX01            GINGER BODY WASH 200ML            n   \n",
       "\n",
       "   PREDECESSOR TYPE                               npl_prodord_desc_emb  \\\n",
       "0  STAR PREDECESSOR  [-0.044266324, -0.032603286, -0.014347708, 0.0...   \n",
       "1  STAR PREDECESSOR  [-0.044266324, -0.032603286, -0.014347708, 0.0...   \n",
       "2  STAR PREDECESSOR  [-0.044266324, -0.032603286, -0.014347708, 0.0...   \n",
       "3  STAR PREDECESSOR  [-0.044266324, -0.032603286, -0.014347708, 0.0...   \n",
       "4  STAR PREDECESSOR  [-0.044266324, -0.032603286, -0.014347708, 0.0...   \n",
       "5  STAR PREDECESSOR  [-0.044266324, -0.032603286, -0.014347708, 0.0...   \n",
       "6  STAR PREDECESSOR  [-0.044266324, -0.032603286, -0.014347708, 0.0...   \n",
       "7  STAR PREDECESSOR  [-0.044266324, -0.032603286, -0.014347708, 0.0...   \n",
       "8  STAR PREDECESSOR  [-0.044266324, -0.032603286, -0.014347708, 0.0...   \n",
       "9  STAR PREDECESSOR  [-0.044266324, -0.032603286, -0.014347708, 0.0...   \n",
       "\n",
       "                           neighbor_prodord_desc_emb  similarity_score  \n",
       "0  [-0.03539984, -0.016253632, -0.01356889, 0.028...          0.823572  \n",
       "1  [-0.023320219, -0.011378394, -0.013693338, 0.0...          0.950744  \n",
       "2  [-0.032164358, 0.00054609415, -0.014018997, 0....          0.813442  \n",
       "3  [-0.02397896, -0.014936242, -0.013384992, -0.0...          0.716095  \n",
       "4  [-0.02397896, -0.014936242, -0.013384992, -0.0...          0.716095  \n",
       "5  [-0.0033935735, -0.06285792, -0.013870217, 0.0...          0.706807  \n",
       "6  [-0.027340047, -0.032042507, -0.014683996, 0.0...          0.711266  \n",
       "7  [-0.012504197, -0.0057617733, -0.015041154, 0....          0.729506  \n",
       "8  [-0.014957268, -0.009471259, -0.0147626875, 0....          0.717675  \n",
       "9  [-0.021027407, 0.020168014, -0.013475669, 0.01...          0.718705  "
      ]
     },
     "execution_count": 28,
     "metadata": {},
     "output_type": "execute_result"
    }
   ],
   "source": [
    "df.head(10)"
   ]
  },
  {
   "cell_type": "code",
   "execution_count": 35,
   "id": "7f32be92-7585-4622-b154-c13fbfbee65b",
   "metadata": {},
   "outputs": [
    {
     "data": {
      "text/plain": [
       "1811"
      ]
     },
     "execution_count": 35,
     "metadata": {},
     "output_type": "execute_result"
    }
   ],
   "source": [
    "int(df[\"manual_match\"].value_counts().iloc[1])"
   ]
  },
  {
   "cell_type": "code",
   "execution_count": 41,
   "id": "fe7103c1-f027-4f1f-aa05-42bcad38d3ad",
   "metadata": {},
   "outputs": [
    {
     "name": "stdout",
     "output_type": "stream",
     "text": [
      "Fuzzy percentage: 15.24%\n"
     ]
    }
   ],
   "source": [
    "eval_fuzzy(df)"
   ]
  },
  {
   "cell_type": "code",
   "execution_count": 50,
   "id": "208e4899-8818-43a3-80f9-f85c9ab9224a",
   "metadata": {},
   "outputs": [
    {
     "name": "stdout",
     "output_type": "stream",
     "text": [
      "Sentence Transformer percentage: 14.03%\n"
     ]
    }
   ],
   "source": [
    "eval_trans(df)"
   ]
  }
 ],
 "metadata": {
  "kernelspec": {
   "display_name": "Python 3 (ipykernel)",
   "language": "python",
   "name": "python3"
  },
  "language_info": {
   "codemirror_mode": {
    "name": "ipython",
    "version": 3
   },
   "file_extension": ".py",
   "mimetype": "text/x-python",
   "name": "python",
   "nbconvert_exporter": "python",
   "pygments_lexer": "ipython3",
   "version": "3.11.11"
  }
 },
 "nbformat": 4,
 "nbformat_minor": 5
}
